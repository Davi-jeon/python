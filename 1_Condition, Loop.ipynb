{
 "cells": [
  {
   "cell_type": "markdown",
   "metadata": {},
   "source": [
    "# Condition & Loop"
   ]
  },
  {
   "cell_type": "markdown",
   "metadata": {},
   "source": [
    "* condition (조건문)\n",
    " + 특정 조건을 만족하는 경우에만 수행할 작업이 있는 경우 사용\n",
    " + 모든 조건은 boolean으로 표현 됨 (예외 사항은 아래 배울 예정)\n",
    " + if, elif, else 키워드가 사용\n",
    " + 조건문의 경우 if, elif, else 블록에 종속된 코드는 들여쓰기로 표현 가능\n",
    " + 즉 아래코드에서와 같이, 조건문 아래에 들여쓰기된 2줄의 코드만이 조건문의 조건에 따라 수행될 수도, 수행되지 않을 수도 있는 코드라고 할 수 있음\n",
    " + 들여쓰기 된 코드를 블록(block), 또는 코드블록이라고 함\n",
    " + python에서 모든 블록의 시작점의 마지막에는 :(콜론, colon) 추가가 필요\n",
    "\n",
    "```python\n",
    "if 6 >= 5:\n",
    "    print '6 is greater than 5'\n",
    "    print 'Yeah, it is true'\n",
    "print 'This code is not belongs to if statements'\n",
    "```"
   ]
  },
  {
   "cell_type": "code",
   "execution_count": 13,
   "metadata": {
    "collapsed": true
   },
   "outputs": [],
   "source": [
    "shopping_list = [\"banana\", \"orange\", \"apple\"]\n",
    "\n",
    "stock = {\n",
    "    \"banana\": 6,\n",
    "    \"apple\": 0,\n",
    "    \"orange\": 32,\n",
    "    \"pear\": 15\n",
    "}\n",
    "    \n",
    "prices = {\n",
    "    \"banana\": 4,\n",
    "    \"apple\": 2,\n",
    "    \"orange\": 1.5,\n",
    "    \"pear\": 3\n",
    "}\n",
    "\n",
    "# Write your code below!\n",
    "def compute_bill(food):\n",
    "    total = 0\n",
    "    for n in food:\n",
    "        total = total + prices[n]\n",
    "    return total"
   ]
  },
  {
   "cell_type": "code",
   "execution_count": 12,
   "metadata": {},
   "outputs": [
    {
     "name": "stdout",
     "output_type": "stream",
     "text": [
      "orange\n",
      "price: 1.5\n",
      "stock: 32\n",
      "pear\n",
      "price: 3\n",
      "stock: 15\n",
      "banana\n",
      "price: 4\n",
      "stock: 6\n",
      "apple\n",
      "price: 2\n",
      "stock: 0\n"
     ]
    }
   ],
   "source": [
    "prices = {\n",
    "    \"banana\": 4,\n",
    "    \"apple\": 2,\n",
    "    \"orange\": 1.5,\n",
    "    \"pear\": 3\n",
    "    }\n",
    "\n",
    "stock = {\n",
    "    \"banana\": 6,\n",
    "    \"apple\": 0,\n",
    "    \"orange\": 32,\n",
    "    \"pear\": 15\n",
    "    }\n",
    "    \n",
    "for keys in prices:\n",
    "    print \"%s\" % keys\n",
    "    print \"price: %s\" % prices[keys]\n",
    "    print \"stock: %s\" % stock[keys]"
   ]
  },
  {
   "cell_type": "code",
   "execution_count": 11,
   "metadata": {},
   "outputs": [
    {
     "name": "stdout",
     "output_type": "stream",
     "text": [
      "183\n",
      "2545\n"
     ]
    }
   ],
   "source": [
    "\n",
    "            \n",
    "def hotel_cost(days):\n",
    "    return days*140\n",
    "    print days*140\n",
    "\n",
    "def plane_ride_cost(city):\n",
    "    if city == 'Charlotte':\n",
    "        return 183\n",
    "    elif city == 'Tampa':\n",
    "        return 220\n",
    "    elif city == 'Pittsburgh':\n",
    "        return 222\n",
    "    elif city == 'Los Angeles':\n",
    "        return 475\n",
    "print plane_ride_cost('Charlotte')\n",
    "\n",
    "\n",
    "def rental_car_cost(days):\n",
    "    total = 40 * days\n",
    "    \n",
    "    if days>=7:\n",
    "        tota = total - 50\n",
    "        return tota\n",
    "    elif days>=3 and days<7:\n",
    "        tuta = total - 20\n",
    "        return tuta\n",
    "        \n",
    "    else:\n",
    "        total = 40 * days\n",
    "        return total\n",
    "\n",
    "\n",
    "def trip_cost(city, days, spending_money):\n",
    "    sums = rental_car_cost(days) + hotel_cost(days) + plane_ride_cost(city) + spending_money\n",
    "    return sums\n",
    "\n",
    "print trip_cost(\"Los Angeles\", 9,500)"
   ]
  },
  {
   "cell_type": "code",
   "execution_count": 7,
   "metadata": {},
   "outputs": [
    {
     "name": "stdout",
     "output_type": "stream",
     "text": [
      "hahahah\n",
      "hey\n"
     ]
    }
   ],
   "source": [
    "if 2 + 3 ==5:\n",
    "    print 'hahahah'\n",
    "    print 'hey'\n"
   ]
  },
  {
   "cell_type": "code",
   "execution_count": 2,
   "metadata": {},
   "outputs": [
    {
     "name": "stdout",
     "output_type": "stream",
     "text": [
      "never printed\n"
     ]
    }
   ],
   "source": [
    "if 5 < 6:\n",
    "    print 'never printed'"
   ]
  },
  {
   "cell_type": "code",
   "execution_count": 14,
   "metadata": {},
   "outputs": [
    {
     "name": "stdout",
     "output_type": "stream",
     "text": [
      "!!!\n",
      "???\n"
     ]
    }
   ],
   "source": [
    "a = 100\n",
    "if a % 9 == 1:\n",
    "    print '!!!'\n",
    "    \n",
    "    if a % 9 == 1:\n",
    "        print '???'"
   ]
  },
  {
   "cell_type": "markdown",
   "metadata": {},
   "source": [
    "* 중첩 조건문\n",
    "  - 조건문의 경우 중첩하여 작성 가능\n",
    "  - 중첩의 의미는 depth(깊이)로 생각할 수 있으며, depth의 제한은 없음"
   ]
  },
  {
   "cell_type": "code",
   "execution_count": 15,
   "metadata": {
    "scrolled": true
   },
   "outputs": [
    {
     "name": "stdout",
     "output_type": "stream",
     "text": [
      "!!!\n"
     ]
    }
   ],
   "source": [
    "a = 99\n",
    "\n",
    "# 중첩 nested\n",
    "if a % 9 == 0:\n",
    "    if a % 11  == 0:\n",
    "        print '!!!'"
   ]
  },
  {
   "cell_type": "markdown",
   "metadata": {},
   "source": [
    "* Logical AND, OR, NOT \n",
    "  - 조건문에 사용되는 조건의 경우, boolean이기 때문에, 논리식 AND, OR, NOT 이 사용가능\n",
    "  - AND : and\n",
    "  - OR : or\n",
    "  - NOT : not\n",
    "  \n",
    "* 논리표 \n",
    "  - AND \n",
    "      - T AND T : T\n",
    "      - T AND F : F\n",
    "      - F AND T : F\n",
    "      - F AND F : F\n",
    "  - OR \n",
    "      - T OR T : T\n",
    "      - T OR F : T\n",
    "      - F OR T : T\n",
    "      - F OR F : F\n",
    "      \n",
    "  - NOT \n",
    "      - NOT T : F\n",
    "      - NOT F : T\n",
    "* 우선순위\n",
    "  - NOT > AND > OR\n",
    "  \n",
    "계산의 우선순위!!! 순서를 바꾸고 싶다면 가로를 사용!"
   ]
  },
  {
   "cell_type": "code",
   "execution_count": 11,
   "metadata": {},
   "outputs": [
    {
     "name": "stdout",
     "output_type": "stream",
     "text": [
      "It is true\n"
     ]
    }
   ],
   "source": [
    "# and\n",
    "x = 7\n",
    "if (5 < x) and (x < 10):\n",
    "    print 'It is true'"
   ]
  },
  {
   "cell_type": "code",
   "execution_count": 17,
   "metadata": {},
   "outputs": [
    {
     "name": "stdout",
     "output_type": "stream",
     "text": [
      "It is true\n"
     ]
    }
   ],
   "source": [
    "# or\n",
    "x = 7\n",
    "if (5 > x) or (x < 10):\n",
    "    print 'It is true'"
   ]
  },
  {
   "cell_type": "code",
   "execution_count": 16,
   "metadata": {},
   "outputs": [
    {
     "name": "stdout",
     "output_type": "stream",
     "text": [
      "It is true\n"
     ]
    }
   ],
   "source": [
    "# not\n",
    "x = 7\n",
    "if not (5 > x):\n",
    "    print 'It is true'"
   ]
  },
  {
   "cell_type": "code",
   "execution_count": 3,
   "metadata": {
    "collapsed": true
   },
   "outputs": [],
   "source": [
    "# combination\n",
    "x = 7\n",
    "if not (5 > x) and not (x < 10):\n",
    "    print 'It is true'"
   ]
  },
  {
   "cell_type": "code",
   "execution_count": 20,
   "metadata": {},
   "outputs": [
    {
     "name": "stdout",
     "output_type": "stream",
     "text": [
      "It is true1 3\n"
     ]
    }
   ],
   "source": [
    "# combination\n",
    "# and 가 or 보다 우선순위가 높음을 확인\n",
    "# or를 먼저 수행하기 위해 아래 조건에서는 괄호 사용\n",
    "x = 7\n",
    "y = 9\n",
    "\n",
    "if (5 > x) and not (x < 10) or y == 9:\n",
    "    print 'It is true1 3'\n",
    "    \n",
    "if (5 > x) and (not (x < 10) or y == 9):\n",
    "    print 'It is true2 '"
   ]
  },
  {
   "cell_type": "markdown",
   "metadata": {},
   "source": [
    "+ if의 조건이 bool이 아닌 경우\n",
    " * 일반적으로는 조건문에는 bool이 주로 위치 함\n",
    " * 하지만, 정수, 실수, 문자열 리스트 등 기본 타입도 조건에 사용 가능\n",
    " * False로 간주되는 값 (각 타입의 기본값)\n",
    "     * None\n",
    "     * 0\n",
    "     * 0.0\n",
    "     * ''\n",
    "     * [] -> 빈 리스트\n",
    "     * () -> 빈 튜플\n",
    "     * {} -> 빈 딕셔너리\n",
    "     * set() -> 빈 집합\n",
    " * 그밖에는 모두 True로 간주"
   ]
  },
  {
   "cell_type": "code",
   "execution_count": 9,
   "metadata": {},
   "outputs": [
    {
     "name": "stdout",
     "output_type": "stream",
     "text": [
      "b\n"
     ]
    }
   ],
   "source": [
    "a =[1,2,3,4]\n",
    "b = []\n",
    "\n",
    "if len(a)>0:\n",
    "    print 'b'\n",
    "    \n",
    "if b:\n",
    "    print \"dkdkdkdk\"\n",
    "    \n",
    "    \n",
    "# a라는 리스트에 값의 존재 여부를 보려면, 바로 if함수로 체크할 수 있다.\n",
    "# 왜냐면, 파이썬에서는 0, 빈 리스트 듀플 등 을 제외한 모든 값(숫자, 문자)은 '참'이라고 인식하기 때문이다. "
   ]
  },
  {
   "cell_type": "code",
   "execution_count": 29,
   "metadata": {
    "collapsed": true
   },
   "outputs": [],
   "source": [
    "a = [] \n",
    "if a: # 빈 리스트 이므로 조건이 False로 해석\n",
    "    print 'not empty'\n",
    "    "
   ]
  },
  {
   "cell_type": "code",
   "execution_count": 30,
   "metadata": {},
   "outputs": [
    {
     "name": "stdout",
     "output_type": "stream",
     "text": [
      "not empty\n"
     ]
    }
   ],
   "source": [
    "a = [1]\n",
    "if a:\n",
    "    print 'not empty'"
   ]
  },
  {
   "cell_type": "markdown",
   "metadata": {},
   "source": [
    "* if, else\n",
    "  - if가 아닌 경우, 나머지 조건을 표현하고 싶다면 바로 아래 else 블락 사용\n",
    "  - 이 경우, if조건이 True인 경우, if 블락의 코드가 수행, 거짓인 경우 else 블락의 코드가 수행\n",
    "  - 주의 할 점 : if와 else사이에 다른 코드 삽입 불가"
   ]
  },
  {
   "cell_type": "code",
   "execution_count": 10,
   "metadata": {},
   "outputs": [
    {
     "name": "stdout",
     "output_type": "stream",
     "text": [
      "not empty\n",
      "not empty\n"
     ]
    }
   ],
   "source": [
    "# 올바른 if, else 코드의 예\n",
    "a = [1]\n",
    "if a:\n",
    "    print 'not empty'\n",
    "else:\n",
    "    print 'empty'\n",
    "    \n",
    "\n",
    "# else 코드는 if와 따로 쓸 수 없다. 들여쓰기 맞추기!!!!!\n",
    "a = [1]\n",
    "if a:\n",
    "    print 'not empty'\n",
    "else:\n",
    "    print 'empty'\n"
   ]
  },
  {
   "cell_type": "code",
   "execution_count": 11,
   "metadata": {},
   "outputs": [
    {
     "ename": "SyntaxError",
     "evalue": "invalid syntax (<ipython-input-11-c315913d27c9>, line 11)",
     "output_type": "error",
     "traceback": [
      "\u001b[0;36m  File \u001b[0;32m\"<ipython-input-11-c315913d27c9>\"\u001b[0;36m, line \u001b[0;32m11\u001b[0m\n\u001b[0;31m    else:\u001b[0m\n\u001b[0m       ^\u001b[0m\n\u001b[0;31mSyntaxError\u001b[0m\u001b[0;31m:\u001b[0m invalid syntax\n"
     ]
    }
   ],
   "source": [
    "# 올바른 if, else 코드의 올바르지 않은 예\n",
    "# if, else 사이에 다른 코드가 추가되면 안된다. \n",
    "# 차라리 if를 새로이 써준다. \n",
    "\n",
    "#Else에는 조건을 명시할 수 없다. \n",
    "\n",
    "a = [1]\n",
    "if a:\n",
    "    print 'not empty'\n",
    "print 'another code'\n",
    "else:\n",
    "    print 'empty'"
   ]
  },
  {
   "cell_type": "code",
   "execution_count": 19,
   "metadata": {},
   "outputs": [
    {
     "name": "stdout",
     "output_type": "stream",
     "text": [
      "a is odd number\n"
     ]
    }
   ],
   "source": [
    "a=6\n",
    "if a % 2<1:\n",
    "    print 'a is odd number'\n",
    "else:\n",
    "    print ' a is an even number'\n",
    "    \n"
   ]
  },
  {
   "cell_type": "code",
   "execution_count": 14,
   "metadata": {},
   "outputs": [
    {
     "name": "stdout",
     "output_type": "stream",
     "text": [
      "divisible by3\n"
     ]
    }
   ],
   "source": [
    "a=32\n",
    "\n",
    "if a %4 ==0:\n",
    "    print 'divisible by3'\n",
    "elif a% 4 ==1:\n",
    "    print 'divisible by3'\n",
    "else:\n",
    "    print 'remainder is 2'"
   ]
  },
  {
   "cell_type": "markdown",
   "metadata": {},
   "source": [
    "* if, elif, else\n",
    "  - 조건이 여러개인 경우, 다음 조건을 elif 블록에 명시 가능\n",
    "  - 이 경우, 각 조건을 확인 후, True인 조건의 코드 블락을 실행 한 후, 전체 if, elif, else 구문을 종료\n",
    "  - 조건문을 사용할 때는, if 이후, 0개 이상의 elif를 사용 가능하며 0개 또는 1개의 else를 사용 가능함\n",
    "\n",
    "\n",
    "\n",
    "\"\"\"if 여러개와 elif 여러개의 차이점\n",
    "if = 조건이 참이 되도, 나머지 모든 if를 연산한다.\n",
    "elif = 조건이 참이 되면 연산을 종료한다.\"\"\"\n",
    "\n",
    "\"\"\"조건의 처음은 무조건 if여야만 한다.!!!\"\"\"\n",
    "\n",
    "\n",
    "\n",
    "\n",
    "\n",
    "\n",
    "```python\n",
    "a = 17\n",
    "if a % 4 == 0:\n",
    "    print 'a is divisible by 4'\n",
    "elif a % 4 == 1:\n",
    "    print 'a % 4 is 1'\n",
    "elif a % 4 == 2:\n",
    "    print 'a % 4 is 2'\n",
    "else:\n",
    "    print 'a % 4 is 3'\n",
    "```"
   ]
  },
  {
   "cell_type": "code",
   "execution_count": 20,
   "metadata": {},
   "outputs": [
    {
     "name": "stdout",
     "output_type": "stream",
     "text": [
      "a % 4 is 1\n"
     ]
    }
   ],
   "source": [
    "a = 17\n",
    "if a % 4 == 0:\n",
    "    print 'a is divisible by 4'\n",
    "elif a % 4 == 1:\n",
    "    print 'a % 4 is 1'\n",
    "elif a % 4 == 2:\n",
    "    print 'a % 4 is 2'\n",
    "else:\n",
    "    print 'a % 4 is 3'"
   ]
  },
  {
   "cell_type": "code",
   "execution_count": 15,
   "metadata": {},
   "outputs": [
    {
     "name": "stdout",
     "output_type": "stream",
     "text": [
      "a % 4 is 1\n"
     ]
    }
   ],
   "source": [
    "a = 17\n",
    "if a % 4 == 0:\n",
    "    print 'a is divisible by 4'\n",
    "elif a % 4 == 1:\n",
    "    print 'a % 4 is 1'\n",
    "elif a % 4 == 2:\n",
    "    print 'a % 4 is 2'\n",
    "elif a % 4 == 3: #위의 else블록을 변경하여 사용\n",
    "    print 'a % 4 is 3'"
   ]
  },
  {
   "cell_type": "markdown",
   "metadata": {},
   "source": [
    "* while 조건문\n",
    "  - while 뒤의 조건이 True일 경우, while 코드 블록을 계속 수행\n",
    "  - while 코드 블록\n",
    "    - if와 마찬가지로 while문 아래의 들여쓰기로 작성 된 부분을 의미\n",
    "  - 조건이 False가 되면 블록 수행을 멈추고 이후 코드를 실행\n",
    "  \n",
    "  \n",
    "While은 '참'인 동안에 계속 수행한다!!!! , false면 중단! = 다회성   /    if는 일회성\n"
   ]
  },
  {
   "cell_type": "code",
   "execution_count": 2,
   "metadata": {},
   "outputs": [
    {
     "name": "stdout",
     "output_type": "stream",
     "text": [
      "1\n",
      "2\n",
      "3\n",
      "while loop inished\n",
      "4\n"
     ]
    }
   ],
   "source": [
    "count = 1\n",
    "while count <= 3: \n",
    "    print count\n",
    "    count += 1\n",
    "    \n",
    "print 'while loop inished'\n",
    "print count"
   ]
  },
  {
   "cell_type": "code",
   "execution_count": 21,
   "metadata": {},
   "outputs": [
    {
     "name": "stdout",
     "output_type": "stream",
     "text": [
      "  P y t h o n\n"
     ]
    }
   ],
   "source": [
    "a = ' Python'\n",
    "\n",
    "i = 0\n",
    "while i < len(a):\n",
    "    print a[i],\n",
    "    i +=1\n"
   ]
  },
  {
   "cell_type": "code",
   "execution_count": 25,
   "metadata": {},
   "outputs": [
    {
     "name": "stdout",
     "output_type": "stream",
     "text": [
      "n o h t y P   n o h t y P\n"
     ]
    }
   ],
   "source": [
    "a = ' Python'\n",
    "\n",
    "i = len(a) -1\n",
    "while i >=0:\n",
    "    print a[i],\n",
    "    i -=1\n",
    "    \n",
    "    \n",
    "a = ' Python'\n",
    "\n",
    "i = -1\n",
    "while i > -len(a):\n",
    "    print a[i],\n",
    "    i -=1"
   ]
  },
  {
   "cell_type": "code",
   "execution_count": 26,
   "metadata": {
    "scrolled": true
   },
   "outputs": [
    {
     "name": "stdout",
     "output_type": "stream",
     "text": [
      "  P y t h o n\n"
     ]
    }
   ],
   "source": [
    "a = ' Python'\n",
    "\n",
    "i = 0\n",
    "while i < len(a):\n",
    "    print a[i],\n",
    "    i +=1"
   ]
  },
  {
   "cell_type": "code",
   "execution_count": 3,
   "metadata": {},
   "outputs": [
    {
     "name": "stdout",
     "output_type": "stream",
     "text": [
      "2\n",
      "6\n",
      "8\n",
      "[2, 6, 8]\n",
      "[5, 7, 9]\n"
     ]
    }
   ],
   "source": [
    "'반복문, 조건문 콤비네이션!!!!'\n",
    "\n",
    "a= [2,5,6,7,8,9]\n",
    "\n",
    "i = 0\n",
    "while i < len(a):\n",
    "    if a[i] %2 ==0:\n",
    "        print a[i]\n",
    "    \n",
    "    i+=1\n",
    "    \n",
    "    \n",
    "a= [2,5,6,7,8,9]\n",
    "\n",
    "odds = []\n",
    "evens = []\n",
    "\n",
    "i = 0\n",
    "while i < len(a):\n",
    "    if a[i]%2 ==0:\n",
    "         evens.append(a[i])\n",
    "    else:\n",
    "        odds.append(a[i])\n",
    "        \n",
    "    i+=1\n",
    "        \n",
    "print evens\n",
    "print odds\n",
    "    \n"
   ]
  },
  {
   "cell_type": "code",
   "execution_count": 2,
   "metadata": {},
   "outputs": [
    {
     "name": "stdout",
     "output_type": "stream",
     "text": [
      "[2, 6, 8]\n",
      "[5, 7, 9]\n"
     ]
    }
   ],
   "source": [
    "a= [2,5,6,7,8,9]\n",
    "\n",
    "odds = []\n",
    "evens = []\n",
    "\n",
    "\n",
    "i=0\n",
    "while i<len(a):\n",
    "    if a[i] % 2 ==0:\n",
    "        evens.append(a[i])\n",
    "    else:\n",
    "        odds.append(a[i])\n",
    "        \n",
    "    i+=1\n",
    "\n",
    "print evens\n",
    "print odds\n",
    "\n",
    "    \n",
    "\n",
    "\n",
    "\n"
   ]
  },
  {
   "cell_type": "code",
   "execution_count": null,
   "metadata": {
    "collapsed": true
   },
   "outputs": [],
   "source": [
    "a= [2,5,6,7,8,9]\n",
    "\n",
    "odds = []\n",
    "evens = []\n",
    "\n",
    "i = 0\n",
    "while i > len(a):\n",
    "    if a[i]%2 ==0:\n",
    "        evens.append(a[i])\n",
    "    else:\n",
    "        odds.append(a[i])\n",
    "        \n",
    "        i += 1\n",
    "        \n",
    "print evens\n",
    "print odds\n",
    "    "
   ]
  },
  {
   "cell_type": "markdown",
   "metadata": {},
   "source": [
    "* break \n",
    " + loop를 중단할 때 사용\n",
    " + 보통 조건문 안에서 수행되며, 조건을 만족하는 경우 loop를 탈출하기 위해 사용\n",
    " + loop를 중단 하는 경우, while 이후의 코드를 수행"
   ]
  },
  {
   "cell_type": "code",
   "execution_count": 4,
   "metadata": {},
   "outputs": [
    {
     "name": "stdout",
     "output_type": "stream",
     "text": [
      "1\n",
      "2\n",
      "3\n",
      "while finished\n"
     ]
    }
   ],
   "source": [
    "count = 1\n",
    "while True: # 무한 루프\n",
    "    print count\n",
    "    count += 1\n",
    "    \n",
    "    if count > 3 :\n",
    "        break\n",
    "\n",
    "print 'while finished'"
   ]
  },
  {
   "cell_type": "markdown",
   "metadata": {},
   "source": [
    "* continue\n",
    " + break 처럼 반복을 중단하진 하여 빠져나오지 않고, 다시 while조건으로 점프함\n",
    " + 특정한 경우에는 코드를 수행하지 않고 다음으로 건너 뛰기 위해 사용\n",
    " \n",
    " \n",
    "#break는 참이면 멈추는 것이고, continue는 참이면 처음으로 돌아가는 것!!!"
   ]
  },
  {
   "cell_type": "code",
   "execution_count": 7,
   "metadata": {},
   "outputs": [
    {
     "name": "stdout",
     "output_type": "stream",
     "text": [
      "Current value : 6\n",
      "Current value : 4\n",
      "Current value : 3\n",
      "Current value : 2\n",
      "Current value : 1\n",
      "Current value : 0\n",
      "while finished\n"
     ]
    }
   ],
   "source": [
    "var = 7\n",
    "\n",
    "while var>0:\n",
    "    var -=1\n",
    "    if var ==5:\n",
    "        continue\n",
    "    print 'Current value :' , var\n",
    "    \n",
    "print 'while finished'"
   ]
  },
  {
   "cell_type": "markdown",
   "metadata": {},
   "source": [
    "* while - else\n",
    " + break 문에 걸리지 않고 while 종료 시, else문 호출"
   ]
  },
  {
   "cell_type": "code",
   "execution_count": 13,
   "metadata": {},
   "outputs": [
    {
     "name": "stdout",
     "output_type": "stream",
     "text": [
      "even number\n"
     ]
    }
   ],
   "source": [
    "nums = [1, 3, 4, 5]\n",
    "#nums = [1, 3, 4, 5]\n",
    "\n",
    "position = 0 # 인덱스 변수로 사용\n",
    "\n",
    "while position < len(nums):\n",
    "    number = nums[position]\n",
    "    \n",
    "    if number % 2 == 0: # 짝수 체크\n",
    "        print 'even number'\n",
    "        break\n",
    "        \n",
    "    position += 1\n",
    "    \n",
    "else:\n",
    "    print 'no even number'"
   ]
  },
  {
   "cell_type": "code",
   "execution_count": 9,
   "metadata": {},
   "outputs": [
    {
     "name": "stdout",
     "output_type": "stream",
     "text": [
      "1 3\n",
      "1 3\n",
      "1 3\n",
      "2 5\n",
      "2 5\n",
      "2 5\n"
     ]
    }
   ],
   "source": [
    "#while 중첩 -  c[]추가 해보기!!!\n",
    "\n",
    "\n",
    "a=[1,2]\n",
    "b=[3,5,6]\n",
    "\n",
    "i=0\n",
    "\n",
    "while i <len(a):\n",
    "    j=0\n",
    "    while j<len(b):            #j가 다돌면, while에서 나와 i가 1 커진다.\n",
    "        print a[i], b[i]\n",
    "        \n",
    "        j+=1\n",
    "    i+=1\n"
   ]
  },
  {
   "cell_type": "code",
   "execution_count": 34,
   "metadata": {},
   "outputs": [
    {
     "name": "stdout",
     "output_type": "stream",
     "text": [
      "1 3 4\n",
      "1 3 7\n",
      "1 3 8\n",
      "1 3 9\n",
      "1 5 4\n",
      "1 5 7\n",
      "1 5 8\n",
      "1 5 9\n",
      "1 6 4\n",
      "1 6 7\n",
      "1 6 8\n",
      "1 6 9\n",
      "2 3 4\n",
      "2 3 7\n",
      "2 3 8\n",
      "2 3 9\n",
      "2 5 4\n",
      "2 5 7\n",
      "2 5 8\n",
      "2 5 9\n",
      "2 6 4\n",
      "2 6 7\n",
      "2 6 8\n",
      "2 6 9\n"
     ]
    }
   ],
   "source": [
    "#while 중첩 -  c[]추가 해보기!!!\n",
    "\n",
    "\n",
    "a=[1,2]\n",
    "b=[3,5,6]\n",
    "c=[4,7,8,9]\n",
    "\n",
    "\n",
    "i =0\n",
    "\n",
    "while i < len(a):\n",
    "    j=0\n",
    "    while j < len(b):\n",
    "        k=0\n",
    "        while k < len(c):\n",
    "            print a[i],b[j],c[k]\n",
    "            \n",
    "            k+=1\n",
    "        j+=1\n",
    "    i+=1\n"
   ]
  },
  {
   "cell_type": "markdown",
   "metadata": {},
   "source": [
    "+ for \n",
    " - 리스트, 문자열 등등 순회 가능한 객체를 순회하면서 값을 처리할 때 사용\n",
    " - 아래와 같은 문법으로 사용\n",
    " - 여기서 i는 매번 수행 될 때마다, a의 아이템으로 순차적으로 변경 됨\n",
    " - 모든 아이템이 순회되면 for 블록 종료\n",
    " \n",
    "```python\n",
    "a = [1, 2, 4, 3, 5]\n",
    "for i in a:\n",
    "    print i,\n",
    "    print i * 2\n",
    "```\n",
    " - 클래스 수업 이후, for에 적용가능한 커스텀 객체 생성 예정"
   ]
  },
  {
   "cell_type": "code",
   "execution_count": 13,
   "metadata": {},
   "outputs": [
    {
     "name": "stdout",
     "output_type": "stream",
     "text": [
      "1 2\n",
      "2 4\n",
      "4 8\n",
      "3 6\n",
      "5 10\n"
     ]
    }
   ],
   "source": [
    "a = [1, 2, 4, 3, 5]\n",
    "for i in a:\n",
    "    print i,\n",
    "    print i * 2\n",
    "    \n",
    "    \n",
    "#i에 리스트 a의 첫 번째 수가 들어와 연산하고, 연산이 끝나면 두번째 수로 넘어간다. "
   ]
  },
  {
   "cell_type": "code",
   "execution_count": 14,
   "metadata": {},
   "outputs": [
    {
     "name": "stdout",
     "output_type": "stream",
     "text": [
      "1\n",
      "2\n",
      "3\n",
      "4\n",
      "5\n"
     ]
    }
   ],
   "source": [
    "a = [1, 2, 3, 4, 5]\n",
    "for i in a:\n",
    "    print i"
   ]
  },
  {
   "cell_type": "code",
   "execution_count": 15,
   "metadata": {},
   "outputs": [
    {
     "name": "stdout",
     "output_type": "stream",
     "text": [
      "1 3 2 5 4 6 7 9 8\n",
      "1 3 2 5 4 6 7 9 8\n",
      "1 3 2 5 4 6 7 9 8\n"
     ]
    }
   ],
   "source": [
    "# 순회하는 변수의 이름은 커스텀하게 작성 가능\n",
    "# 아래의 예처럼, val, i, num등 다양한 상황에 맞게 작명 가능\n",
    "# 주로 실무에서는 다음과 같이 단수형으로 쓰거나 (nums -> num)\n",
    "# 정수형의 경우, i 혹은 x로 많이 사용\n",
    "\n",
    "nums = [1, 3, 2, 5, 4, 6, 7, 9, 8]\n",
    "for val in nums:\n",
    "    print val, \n",
    "    \n",
    "print \n",
    "for i in nums:\n",
    "    print i,\n",
    "    \n",
    "print\n",
    "for num in nums:\n",
    "    print num,\n",
    "    \n"
   ]
  },
  {
   "cell_type": "markdown",
   "metadata": {},
   "source": [
    "* 문자열의 순회\n",
    " - 문자열의 경우 순회 가능, 리스트의 유사하게 순회 가능"
   ]
  },
  {
   "cell_type": "code",
   "execution_count": 16,
   "metadata": {},
   "outputs": [
    {
     "name": "stdout",
     "output_type": "stream",
     "text": [
      "h e l l o   w o r l d\n"
     ]
    }
   ],
   "source": [
    "str = 'hello world'\n",
    "for char in str:\n",
    "    print char,"
   ]
  },
  {
   "cell_type": "markdown",
   "metadata": {},
   "source": [
    "* dict 순회\n",
    "  - dictionary의 경우 기본적으로 순회 하게 되면 key값을 참조\n",
    "  - keys()함수를 이용하여 key 값만 순회 가능\n",
    "  - values()함수를 이용하여 value 값만 순회 가능\n",
    "  - items()함수를 이용하여 tuple형태로 key, value 순회 가능"
   ]
  },
  {
   "cell_type": "code",
   "execution_count": 20,
   "metadata": {
    "scrolled": true
   },
   "outputs": [
    {
     "name": "stdout",
     "output_type": "stream",
     "text": [
      "japan tokyo\n",
      "korea seoul\n",
      "usa Washington D.C\n",
      "\n",
      "japan\n",
      "korea\n",
      "usa\n",
      "\n",
      "tokyo\n",
      "seoul\n",
      "Washington D.C\n",
      "\n",
      "japan tokyo\n",
      "korea seoul\n",
      "usa Washington D.C\n"
     ]
    }
   ],
   "source": [
    "capitals = {'korea' : 'seoul', 'japan' : 'tokyo', 'usa' : 'Washington D.C'}\n",
    "\n",
    "for country in capitals:\n",
    "    print country, capitals[country]\n",
    "print\n",
    "\n",
    "for key in capitals.keys():\n",
    "    print key\n",
    "print\n",
    "    \n",
    "for val in capitals.values():\n",
    "    print val\n",
    "print\n",
    "    \n",
    "for v, k  in capitals.items():\n",
    "    print v, k\n",
    "    \n"
   ]
  },
  {
   "cell_type": "code",
   "execution_count": 19,
   "metadata": {},
   "outputs": [
    {
     "name": "stdout",
     "output_type": "stream",
     "text": [
      "japan tokyo\n",
      "korea seoul\n",
      "usa Washington D.C\n",
      "('japan', 'tokyo')\n",
      "('korea', 'seoul')\n",
      "('usa', 'Washington D.C')\n"
     ]
    }
   ],
   "source": [
    "for k,y in capitals.items():\n",
    "    print k,y\n",
    "\n",
    "    \n",
    "for item in capitals.items():\n",
    "    print item"
   ]
  },
  {
   "cell_type": "code",
   "execution_count": null,
   "metadata": {
    "collapsed": true
   },
   "outputs": [],
   "source": [
    "for key in capitals.keys():\n",
    "    print key"
   ]
  },
  {
   "cell_type": "markdown",
   "metadata": {},
   "source": [
    "+ for에서 index 사용하기\n",
    "  - 기본적으로 for에 리스트를 순회하는 경우, 값만 추출 함\n",
    "  - 아래와 같은 코드로 인덱스와 값 모두 사용 가능\n",
    "\n",
    "```python\n",
    "a = [1, 2, 4, 3, 5]\n",
    "for i, val in enumerate(a):\n",
    "    print i, val\n",
    "```"
   ]
  },
  {
   "cell_type": "code",
   "execution_count": 21,
   "metadata": {},
   "outputs": [
    {
     "name": "stdout",
     "output_type": "stream",
     "text": [
      "0 1\n",
      "1 2\n",
      "2 4\n",
      "3 3\n",
      "4 5\n"
     ]
    }
   ],
   "source": [
    "a = [1, 2, 4, 3, 5]\n",
    "for i, val in enumerate(a):\n",
    "    print i, val"
   ]
  },
  {
   "cell_type": "code",
   "execution_count": 22,
   "metadata": {},
   "outputs": [
    {
     "name": "stdout",
     "output_type": "stream",
     "text": [
      "1 3 2 5 4 6 7 9 8 \n",
      "\n",
      "index: 0 value: 1\n",
      "index: 1 value: 3\n",
      "index: 2 value: 2\n",
      "index: 3 value: 5\n",
      "index: 4 value: 4\n",
      "index: 5 value: 6\n",
      "index: 6 value: 7\n",
      "index: 7 value: 9\n",
      "index: 8 value: 8\n"
     ]
    }
   ],
   "source": [
    "nums = [1, 3, 2, 5, 4, 6, 7, 9, 8]\n",
    "\n",
    "for val in nums:\n",
    "    print val,\n",
    "print '\\n'\n",
    "\n",
    "for i, val in enumerate(nums):\n",
    "    print 'index:', i, 'value:', val"
   ]
  },
  {
   "cell_type": "markdown",
   "metadata": {},
   "source": [
    "* for break\n",
    "  - for의 경우에도 특정 조건일 때, loop 종료가 가능\n",
    "  - 이때, break을 수행하지 않았다면 else 블록이 수행됨"
   ]
  },
  {
   "cell_type": "code",
   "execution_count": 23,
   "metadata": {},
   "outputs": [
    {
     "name": "stdout",
     "output_type": "stream",
     "text": [
      "value at index 0 is 1\n",
      "value at index 1 is 3\n",
      "value at index 2 is 2\n"
     ]
    }
   ],
   "source": [
    "nums = [1, 3, 2, 5, 4, 6, 7, 9, 8]\n",
    "for i, val in enumerate(nums):\n",
    "    if i > 2: # if i > 10\n",
    "        break\n",
    "    print 'value at index', i, 'is', val\n",
    "else:\n",
    "    print 'all done'"
   ]
  },
  {
   "cell_type": "code",
   "execution_count": 35,
   "metadata": {},
   "outputs": [
    {
     "name": "stdout",
     "output_type": "stream",
     "text": [
      "[2, 4, 6] [1, 3, 5]\n",
      "6\n"
     ]
    }
   ],
   "source": [
    "nums = [1,3,2,4,5,6]\n",
    "\n",
    "\n",
    "evens = []\n",
    "odds = []\n",
    "        \n",
    "\n",
    "for n in nums:    # numsdml 첫 번째 값 부터 넣어본다.\n",
    "    if n %2 == 0:\n",
    "        evens.append(n)\n",
    "    else:\n",
    "        odds.append(n)\n",
    "        \n",
    "            \n",
    "print evens, odds   \n",
    "print n\n",
    "\n"
   ]
  },
  {
   "cell_type": "markdown",
   "metadata": {},
   "source": [
    "* loop 중첩\n",
    "  - 반복문의 경우에도 중첩하여 사용 가능\n",
    "  - 중첩이라는 것은 반복문 블록의 코드안에 또 반복문의 코드가 작성되는 것을 의미\n",
    "  - 이런 경우, 내부 루프는 외부 루프가 수행되는 만큼 반복 수행 됨\n",
    "  - 또한 중첩의 경우 무한히 가능\n",
    "\n",
    "```python\n",
    "a = [1, 2, 4]\n",
    "for i in a:\n",
    "    for j in a:\n",
    "        print i * j\n",
    "```"
   ]
  },
  {
   "cell_type": "code",
   "execution_count": 37,
   "metadata": {
    "scrolled": true
   },
   "outputs": [
    {
     "name": "stdout",
     "output_type": "stream",
     "text": [
      "1 2 4 2 4 8 4 8 16\n"
     ]
    }
   ],
   "source": [
    "# 구구단 로직!\n",
    "\n",
    "a = [1, 2, 4]\n",
    "for i in a:\n",
    "    for j in a:\n",
    "        print i * j,"
   ]
  },
  {
   "cell_type": "code",
   "execution_count": null,
   "metadata": {
    "collapsed": true
   },
   "outputs": [],
   "source": [
    "a = [1, 2, 4, 5]\n",
    "for i in a: # 최초 진입\n",
    "    for j in a: # 각각 i가 1, 2, 4, 5로 변경되면서 내부 루프가 수행 됨\n",
    "        print i * j,"
   ]
  },
  {
   "cell_type": "markdown",
   "metadata": {},
   "source": [
    "* collection의 길이\n",
    " - len() 내장함수로 계산 가능\n",
    " - 내장함수란 파이썬 내부에 구현되어 있어서, import하지 않고도 사용 가능한 함수를 의미\n",
    " - abs, len, type, range 등이 있음 (과정 진행하면서 필요할 때마다 다룰 예정)"
   ]
  },
  {
   "cell_type": "code",
   "execution_count": null,
   "metadata": {
    "collapsed": true
   },
   "outputs": [],
   "source": [
    "print a\n",
    "print len(a)"
   ]
  },
  {
   "cell_type": "markdown",
   "metadata": {},
   "source": [
    "* range 함수\n",
    "  - 리스트를 쉽게 만들 수 있는 내장함수\n",
    "  - 주어진 값에 따라 다양한 결과를 반환\n",
    " \n",
    "```python\n",
    "range(10)       -> [0, 1, 2, 3, 4, 5, 6, 7, 8, 9]\n",
    "range(2, 10)    -> [2, 3, 4, 5, 6, 7, 8, 9] \n",
    "range(2, 10, 3) -> [2, 5, 8]    # 세번째 값은 점프값 = 값 사이의 차\n",
    "```"
   ]
  },
  {
   "cell_type": "code",
   "execution_count": 45,
   "metadata": {},
   "outputs": [
    {
     "name": "stdout",
     "output_type": "stream",
     "text": [
      "[1, 2, 3, 4, 5, 6, 7, 8, 9]\n"
     ]
    }
   ],
   "source": [
    "print range(1,10)"
   ]
  },
  {
   "cell_type": "code",
   "execution_count": 40,
   "metadata": {
    "scrolled": true
   },
   "outputs": [
    {
     "name": "stdout",
     "output_type": "stream",
     "text": [
      "[2, 3, 4, 5, 6, 7, 8, 9]\n"
     ]
    }
   ],
   "source": [
    "print range(2, 10)"
   ]
  },
  {
   "cell_type": "code",
   "execution_count": 41,
   "metadata": {},
   "outputs": [
    {
     "name": "stdout",
     "output_type": "stream",
     "text": [
      "[2, 5, 8]\n"
     ]
    }
   ],
   "source": [
    "print range(2, 10, 3)"
   ]
  },
  {
   "cell_type": "code",
   "execution_count": 36,
   "metadata": {
    "scrolled": false
   },
   "outputs": [
    {
     "name": "stdout",
     "output_type": "stream",
     "text": [
      "[1, 2, 3, 4, 5, 6, 7, 8, 9, 10, 11, 12, 13, 14, 15, 16, 17, 18, 19, 20, 21, 22, 23, 24, 25, 26, 27, 28, 29, 30, 31, 32, 33, 34, 35, 36, 37, 38, 39, 40, 41, 42, 43, 44, 45, 46, 47, 48, 49, 50, 51, 52, 53, 54, 55, 56, 57, 58, 59, 60, 61, 62, 63, 64, 65, 66, 67, 68, 69, 70, 71, 72, 73, 74, 75, 76, 77, 78, 79, 80, 81, 82, 83, 84, 85, 86, 87, 88, 89, 90, 91, 92, 93, 94, 95, 96, 97, 98, 99, 100]\n"
     ]
    }
   ],
   "source": [
    "a=[]\n",
    "\n",
    "i=1\n",
    "while i <=100:\n",
    "    a.append(i)\n",
    "    i+=1\n",
    "\n",
    "print a"
   ]
  },
  {
   "cell_type": "code",
   "execution_count": 37,
   "metadata": {},
   "outputs": [
    {
     "name": "stdout",
     "output_type": "stream",
     "text": [
      "[1, 6, 11, 16, 21, 26, 31, 36, 41, 46, 51, 56, 61, 66, 71, 76, 81, 86, 91, 96]\n"
     ]
    }
   ],
   "source": [
    "print range (1,101,5)\n"
   ]
  },
  {
   "cell_type": "markdown",
   "metadata": {},
   "source": [
    " + if & for 연습문제\n",
    "   \n",
    "  1. 구구단을 2 - 9단까지 출력하시오.\n",
    "  2. 1 - 100까지 정수 중 2의 배수 또는 11의 배수를 모두 출력하시오. \n",
    "  4. a = [22, 1, 3, 4, 7, 98, 21, 55, 87, 99, 19, 20, 45] 에서 최대값과 최소값을 찾으시오. (sorted, sort 사용 금지)\n",
    "  5. a = [22, 1, 3, 4, 7, 98, 21, 55, 87, 99, 19, 20, 45] 에서 평균을 구하세요.\n",
    "  "
   ]
  },
  {
   "cell_type": "code",
   "execution_count": 57,
   "metadata": {},
   "outputs": [
    {
     "name": "stdout",
     "output_type": "stream",
     "text": [
      "2 4 6 8 10 12 14 16 18 3 6 9 12 15 18 21 24 27 4 8 12 16 20 24 28 32 36 5 10 15 20 25 30 35 40 45 6 12 18 24 30 36 42 48 54 7 14 21 28 35 42 49 56 63 8 16 24 32 40 48 56 64 72 9 18 27 36 45 54 63 72 81\n"
     ]
    }
   ],
   "source": [
    "#연습문제1 : 구구단을 2 - 9단까지 출력하시오.\n",
    "\n",
    "x = 2\n",
    "y = 1\n",
    "\n",
    "s = []\n",
    "z = []\n",
    "\n",
    "while x<10:\n",
    "    s.append(x)\n",
    "    x+=1\n",
    "    \n",
    "while y<10:\n",
    "    z.append(y)\n",
    "    y+=1\n",
    "\n",
    "    \n",
    "for i1 in s:\n",
    "    for i2 in z:\n",
    "        print i1*i2,\n",
    "\n",
    "    \n",
    "\n",
    "    \n",
    " "
   ]
  },
  {
   "cell_type": "code",
   "execution_count": 71,
   "metadata": {},
   "outputs": [
    {
     "name": "stdout",
     "output_type": "stream",
     "text": [
      "[2, 4, 6, 8, 10, 12, 14, 16, 18, 20, 22, 24, 26, 28, 30, 32, 34, 36, 38, 40, 42, 44, 46, 48, 50, 52, 54, 56, 58, 60, 62, 64, 66, 68, 70, 72, 74, 76, 78, 80, 82, 84, 86, 88, 90, 92, 94, 96, 98, 100, 11, 22, 33, 44, 55, 66, 77, 88, 99]\n"
     ]
    }
   ],
   "source": [
    "#2 1 - 100까지 정수 중 2의 배수 또는 11의 배수를 모두 출력하시오\n",
    "\n",
    "a2 = range(2,101,2)\n",
    "a11 = range(11,101,11)\n",
    "\n",
    "a_total = a2+a11\n",
    "\n",
    "print a_total\n"
   ]
  },
  {
   "cell_type": "markdown",
   "metadata": {},
   "source": [
    "* zip 내장 함수\n",
    " - 주어진 2개 이상의 컬렉션을 튜플 형태로 생성"
   ]
  },
  {
   "cell_type": "code",
   "execution_count": null,
   "metadata": {
    "collapsed": true
   },
   "outputs": [],
   "source": [
    "capitals = {'korea' : 'seoul', 'japan' : 'tokyo', 'usa' : 'Washington D.C'}\n",
    "countries = capitals.keys()\n",
    "cities = capitals.values()\n",
    "\n",
    "print zip(countries, cities)\n",
    "\n",
    "for country, city in zip(countries, cities):\n",
    "    print country, city\n",
    "    \n",
    "for k, v in capitals.items():\n",
    "    print k, v"
   ]
  },
  {
   "cell_type": "code",
   "execution_count": null,
   "metadata": {
    "collapsed": true
   },
   "outputs": [],
   "source": [
    "aa = [1, 2, 3]\n",
    "bb = [2, 4, 6]\n",
    "cc = [1, 4, 9]\n",
    "dd = [1, 4, 9]\n",
    "\n",
    "for a, b, c, d in zip(aa, bb, cc, dd):\n",
    "    print a, b, c, d\n",
    "    \n",
    "#최소값 기준으로 순회한다.\n",
    "# 한 꺼번에 여러개의 리스트를 동시에 순회할 때 쓰임 !!!\n"
   ]
  }
 ],
 "metadata": {
  "kernelspec": {
   "display_name": "Python 2",
   "language": "python",
   "name": "python2"
  },
  "language_info": {
   "codemirror_mode": {
    "name": "ipython",
    "version": 3
   },
   "file_extension": ".py",
   "mimetype": "text/x-python",
   "name": "python",
   "nbconvert_exporter": "python",
   "pygments_lexer": "ipython3",
   "version": "3.6.2"
  }
 },
 "nbformat": 4,
 "nbformat_minor": 1
}
