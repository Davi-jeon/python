{
 "cells": [
  {
   "cell_type": "markdown",
   "metadata": {},
   "source": [
    "## Function basic "
   ]
  },
  {
   "cell_type": "markdown",
   "metadata": {},
   "source": [
    "\n",
    "* 함수란 우리가 알고있는 개념처럼 주어진 입력(input)에 대해서 의도된 출력(output)를 전달하는 역할\n",
    "  > range 함수는 정수를 입력으로 전달하면 [0, 정수) 로 이루어진 리스트를 생성하는 역할을 합니다.\n",
    "  \n",
    "  > sum 함수는 리스트, 튜플등을 입력으로 전달하면 전체 아이템의 합을 출력으로 전달하는 역할을 합니다.\n",
    "  \n",
    "  > len 함수는 리스트, 튜플등을 입력으로 전달하면 아이템의 개수를 출력으로 전달하는 역할을 합니다.\n",
    " "
   ]
  },
  {
   "cell_type": "code",
   "execution_count": 1,
   "metadata": {},
   "outputs": [
    {
     "name": "stdout",
     "output_type": "stream",
     "text": [
      "55\n",
      "11\n"
     ]
    },
    {
     "ename": "NameError",
     "evalue": "name 'add' is not defined",
     "output_type": "error",
     "traceback": [
      "\u001b[0;31m---------------------------------------------------------------------------\u001b[0m",
      "\u001b[0;31mNameError\u001b[0m                                 Traceback (most recent call last)",
      "\u001b[0;32m<ipython-input-1-6a2246ddcde5>\u001b[0m in \u001b[0;36m<module>\u001b[0;34m()\u001b[0m\n\u001b[1;32m      6\u001b[0m \u001b[0;32mprint\u001b[0m \u001b[0mlen\u001b[0m\u001b[0;34m(\u001b[0m\u001b[0mnums\u001b[0m\u001b[0;34m)\u001b[0m\u001b[0;34m\u001b[0m\u001b[0m\n\u001b[1;32m      7\u001b[0m \u001b[0;34m\u001b[0m\u001b[0m\n\u001b[0;32m----> 8\u001b[0;31m \u001b[0;32mprint\u001b[0m \u001b[0madd\u001b[0m\u001b[0;34m(\u001b[0m\u001b[0;36m2\u001b[0m\u001b[0;34m,\u001b[0m \u001b[0;36m3\u001b[0m\u001b[0;34m)\u001b[0m \u001b[0;31m# add는 정의 되어 있지 않아 오류 발생\u001b[0m\u001b[0;34m\u001b[0m\u001b[0m\n\u001b[0m",
      "\u001b[0;31mNameError\u001b[0m: name 'add' is not defined"
     ]
    }
   ],
   "source": [
    "# 내장 함수의 예\n",
    "\n",
    "nums = range(11)\n",
    "\n",
    "print sum(nums)\n",
    "print len(nums)\n",
    "\n",
    "print add(2, 3) # add는 정의 되어 있지 않아 오류 발생"
   ]
  },
  {
   "cell_type": "markdown",
   "metadata": {},
   "source": [
    "* **함수의 정의**\n",
    "  + 정의 시 최초에 def 키워드 사용\n",
    "  + argument 정의 (함수에 입력으로 전달하는 값을 의미, argument 또는 parameter라고 함) \n",
    "  + : (콜론) -> 함수 역시 코드 블록이기 때문에 콜론(:) 필요\n",
    "  + body (함수의 구현 부분, 함수 역시 코드 블록이기 때문에 들여쓰기 된 부분까지 함수의 코드블록으로 인지 함)\n",
    "    - 함수를 호출한 코드 (caller)로 함수가 해당 기능을 수행하고 완료된 값(output)을 전달하기 위해 return 키워드 사용\n",
    "    - 즉, return 이후에 오는 값을 caller로 전달\n",
    "  + 함수의 네이밍 역시 중요\n",
    "    - 즉, 어떤 기능을 하는 함수인지 이름으로 최대한 나타날 수 있게 해야함\n",
    "    - e.g) get_a (x) get_student_name (o)"
   ]
  },
  {
   "cell_type": "code",
   "execution_count": 3,
   "metadata": {},
   "outputs": [
    {
     "name": "stdout",
     "output_type": "stream",
     "text": [
      "3\n"
     ]
    }
   ],
   "source": [
    "# add 함수의 정의\n",
    "def add(num1, num2):\n",
    "    # 전달받은 두개의 숫자를 합하여 return \n",
    "    return num1 + num2\n",
    "\n",
    "print add(1,2)"
   ]
  },
  {
   "cell_type": "code",
   "execution_count": 1,
   "metadata": {},
   "outputs": [
    {
     "ename": "SyntaxError",
     "evalue": "Missing parentheses in call to 'print' (<ipython-input-1-d8196c0543c0>, line 3)",
     "output_type": "error",
     "traceback": [
      "\u001b[0;36m  File \u001b[0;32m\"<ipython-input-1-d8196c0543c0>\"\u001b[0;36m, line \u001b[0;32m3\u001b[0m\n\u001b[0;31m    print 'function is called...'\u001b[0m\n\u001b[0m                                ^\u001b[0m\n\u001b[0;31mSyntaxError\u001b[0m\u001b[0;31m:\u001b[0m Missing parentheses in call to 'print'\n"
     ]
    }
   ],
   "source": [
    "# add2 함수의 정의\n",
    "def add2(num1, num2):\n",
    "    print 'function is called...'\n",
    "    print num1, num2\n",
    "    \n",
    "    # 전달받은 두개의 숫자를 합하여 return \n",
    "    return num1 + num2"
   ]
  },
  {
   "cell_type": "markdown",
   "metadata": {},
   "source": [
    "* **함수 네이밍(naming)**\n",
    "  * 함수 이름으로부터 기능이 명시 \n",
    "  * 의미와 반대되거나 맞지 않는 이름은 사용금지"
   ]
  },
  {
   "cell_type": "code",
   "execution_count": 4,
   "metadata": {},
   "outputs": [
    {
     "name": "stdout",
     "output_type": "stream",
     "text": [
      "2\n"
     ]
    }
   ],
   "source": [
    "def substract(a, b):\n",
    "    return a - b\n",
    "\n",
    "print substract(5, 3)"
   ]
  },
  {
   "cell_type": "markdown",
   "metadata": {},
   "source": [
    "* **parameter(argument) (인자)**\n",
    " + 함수에 전달되는 입력(input)\n",
    " + 입력이 필요하지 않을 수도, 1개의 입력만 있을 수도, 여러개의 입력이 존재할 수 도 있음\n",
    " + 파라미터로 int, string, float, boolm, list, dict 등등 어떤 파이썬 객체도 전달 가능\n",
    " + 심지어, 함수도 함수의 파라미터로 전달 가능\n",
    " \n",
    " + python의 경우, 타입 명시가 없기 때문에, 함수 생성 시, 의도된 파라미터의 타입에 맞게 입력을 전달하는 것이 중요\n",
    " + 또한 파라미터를 전달 할 때, 정의된 순서에 따라 값을 전달하는 것이 중요\n"
   ]
  },
  {
   "cell_type": "code",
   "execution_count": 10,
   "metadata": {},
   "outputs": [
    {
     "name": "stdout",
     "output_type": "stream",
     "text": [
      "4\n",
      "4\n"
     ]
    }
   ],
   "source": [
    "# string이라는 파라미터 1개를 입력으로 받도록 의도\n",
    "# 또한, 길이를 구하기 위해 의도 하였으므로 리스트, 문자열 등의 타입이 전달 되는 것을 의도\n",
    "def len2(string):\n",
    "    return len(string)\n",
    "\n",
    "print len2('test')\n",
    "print len2([1, 2, 3, 4])"
   ]
  },
  {
   "cell_type": "markdown",
   "metadata": {},
   "source": [
    "* **Default parameter (기본 인자) ** \n",
    " + 함수의 파라미터에 기본값 지정 가능\n",
    " + 파라미터를 명시하지 않을 경우, 지정된 기본값으로 대체"
   ]
  },
  {
   "cell_type": "code",
   "execution_count": 14,
   "metadata": {},
   "outputs": [
    {
     "name": "stdout",
     "output_type": "stream",
     "text": [
      "hi world\n",
      "hello world\n"
     ]
    },
    {
     "data": {
      "text/plain": [
       "8"
      ]
     },
     "execution_count": 14,
     "metadata": {},
     "output_type": "execute_result"
    }
   ],
   "source": [
    "def print_hello(nums='hello world'):\n",
    "    print nums\n",
    "    return 1 + 3 + 4\n",
    "    \n",
    "print_hello('hi world')\n",
    "print_hello()"
   ]
  },
  {
   "cell_type": "markdown",
   "metadata": {},
   "source": [
    "* **exercise** \n",
    "  * 다음 조건을 만족하는 add3함수를 작성하시오.\n",
    "    * 파라미터 : 정수 파라미터 2개 (두번째 정수가, 입력되지 않은 경우 기본값으로 10 설정)\n",
    "    * 반환 값 : 입력된 두 정수의 합\n",
    "  \n",
    "  "
   ]
  },
  {
   "cell_type": "code",
   "execution_count": 15,
   "metadata": {
    "scrolled": true
   },
   "outputs": [
    {
     "name": "stdout",
     "output_type": "stream",
     "text": [
      "300\n",
      "210\n"
     ]
    }
   ],
   "source": [
    "def add3(x, y=10):\n",
    "    \n",
    "    return x + y\n",
    "\n",
    "print add3(100,200)\n",
    "print add3(200)"
   ]
  },
  {
   "cell_type": "markdown",
   "metadata": {},
   "source": [
    "* ** Default parameter 사용 시 주의 점**\n",
    "  * 디폴트 파라미터 뒤에 일반 파라미터가 위치할 수 없음 / 디폴트 파라미터는 항상 마지막에만 위치한다!!!!\n",
    "  \n",
    "  * e.g) 올바른 예\n",
    "    > def test(a, b, c = 1)\n",
    "    \n",
    "    > def test(a, b = 1, c = 2)\n",
    "    \n",
    "    > def test(a = 1, b = 1, c = 3)\n",
    "    \n",
    "  * e.g) 올바르지 않은 예\n",
    "    > def test(a, b = 1, c)\n",
    "    \n",
    "    > def test(a = 1, b, c)\n",
    "    \n",
    "    > def test(a = 1, b = 1, c)"
   ]
  },
  {
   "cell_type": "code",
   "execution_count": 22,
   "metadata": {},
   "outputs": [
    {
     "name": "stdout",
     "output_type": "stream",
     "text": [
      "5\n"
     ]
    }
   ],
   "source": [
    "def increment_by(a, b = 1):\n",
    "    return a + b\n",
    "\n",
    "print increment_by(4,)"
   ]
  },
  {
   "cell_type": "markdown",
   "metadata": {},
   "source": [
    "* **keyword parameter (키워드 파라미터)**\n",
    "  * 파이썬의 경우, 파라미터에 값을 전달 할 때, 파라미터의 이름을 명시하여 전달 가능\n",
    "  * 파라미터 이름을 사용하지 않을 경우, 기본적으로 순서에 맞게 전달"
   ]
  },
  {
   "cell_type": "code",
   "execution_count": 39,
   "metadata": {},
   "outputs": [
    {
     "ename": "SyntaxError",
     "evalue": "non-default argument follows default argument (<ipython-input-39-eb5c26548e89>, line 1)",
     "output_type": "error",
     "traceback": [
      "\u001b[0;36m  File \u001b[0;32m\"<ipython-input-39-eb5c26548e89>\"\u001b[0;36m, line \u001b[0;32m1\u001b[0m\n\u001b[0;31m    def func_test(a, b, c = 1, d):\u001b[0m\n\u001b[0;31mSyntaxError\u001b[0m\u001b[0;31m:\u001b[0m non-default argument follows default argument\n"
     ]
    }
   ],
   "source": [
    "def func_test(a, b, c = 1, d):\n",
    "    print a, b, c, d\n",
    "\n",
    "# 일반적인 호출\n",
    "func_test(1, 1)\n",
    "func_test(1, 1, 3, 4)\n"
   ]
  },
  {
   "cell_type": "code",
   "execution_count": 40,
   "metadata": {},
   "outputs": [
    {
     "name": "stdout",
     "output_type": "stream",
     "text": [
      "4 2 1 2\n",
      "1 7 10 20\n",
      "1 2 4 5\n",
      "3 2 1 2\n",
      "3 2 1 2\n",
      "3 2 1 10\n"
     ]
    }
   ],
   "source": [
    "# 키워드 파라미터를 사용하는 호출\n",
    "func_test(b = 2, a = 4)\n",
    "func_test(1, 7, c = 10, d = 20)\n",
    "func_test(a = 1, b = 2, c = 4, d = 5)\n",
    "func_test(c = 1, d = 2, a = 3, b = 2)\n",
    "func_test(c = 1, a = 3, b = 2)\n",
    "func_test(d = 10, a = 3, b = 2)"
   ]
  },
  {
   "cell_type": "code",
   "execution_count": 27,
   "metadata": {},
   "outputs": [
    {
     "ename": "SyntaxError",
     "evalue": "non-keyword arg after keyword arg (<ipython-input-27-e80ff578451a>, line 2)",
     "output_type": "error",
     "traceback": [
      "\u001b[0;36m  File \u001b[0;32m\"<ipython-input-27-e80ff578451a>\"\u001b[0;36m, line \u001b[0;32m2\u001b[0m\n\u001b[0;31m    func_test(c = 1, d = 2, 1, 3)\u001b[0m\n\u001b[0;31mSyntaxError\u001b[0m\u001b[0;31m:\u001b[0m non-keyword arg after keyword arg\n"
     ]
    }
   ],
   "source": [
    "# 잘못된 호출\n",
    "func_test(c = 1, d = 2, 1, 3)\n",
    "func_test(c = 1, d = 2)\n",
    "func_test(1, c = 1, d = 2)\n",
    "func_test()"
   ]
  },
  {
   "cell_type": "markdown",
   "metadata": {},
   "source": [
    "* **return (리턴)**\n",
    " + 기본적으로 함수의 종료를 명시\n",
    "   + return 옆에 값이나 수식이 있다면 해당 값을 호출자(caller)에게 반환(전달)\n",
    "   + return 만 존재하면 None 반환\n",
    "   + return이 없는 경우, 기본적으로 함수 코드 블록이 종료되면 종료로 간주. 이때도 None 반환"
   ]
  },
  {
   "cell_type": "code",
   "execution_count": 7,
   "metadata": {
    "collapsed": true
   },
   "outputs": [],
   "source": [
    "# 1을 반환하는 함수 생성\n",
    "def simple():\n",
    "    return 1"
   ]
  },
  {
   "cell_type": "code",
   "execution_count": 8,
   "metadata": {},
   "outputs": [
    {
     "data": {
      "text/plain": [
       "1"
      ]
     },
     "execution_count": 8,
     "metadata": {},
     "output_type": "execute_result"
    }
   ],
   "source": [
    "# simple 함수 호출\n",
    "simple()"
   ]
  },
  {
   "cell_type": "code",
   "execution_count": 9,
   "metadata": {},
   "outputs": [
    {
     "name": "stdout",
     "output_type": "stream",
     "text": [
      "1\n"
     ]
    }
   ],
   "source": [
    "# simple 함수 호출 결과를 s 변수에 대입\n",
    "# caller는 현재 cell이며, simple의 코드가 수행된 후, 반환값으로 1을 전달 하였기 때문에\n",
    "# s에 1이 대입\n",
    "s = simple()\n",
    "print s"
   ]
  },
  {
   "cell_type": "code",
   "execution_count": 10,
   "metadata": {
    "collapsed": true
   },
   "outputs": [],
   "source": [
    "# 반환값이 없는 함수\n",
    "def print_something(a):\n",
    "    print 'hi there'\n",
    "    print a\n",
    "    print 'see you again'\n",
    "    \n",
    "#return을 쓰지 않으면, none을 반환시킴!"
   ]
  },
  {
   "cell_type": "code",
   "execution_count": 12,
   "metadata": {},
   "outputs": [
    {
     "name": "stdout",
     "output_type": "stream",
     "text": [
      "hi there\n",
      "dds\n",
      "see you again\n"
     ]
    }
   ],
   "source": [
    "print_something('dds')"
   ]
  },
  {
   "cell_type": "code",
   "execution_count": 11,
   "metadata": {},
   "outputs": [
    {
     "name": "stdout",
     "output_type": "stream",
     "text": [
      "hi there\n",
      "dds\n",
      "see you again\n",
      "None\n"
     ]
    }
   ],
   "source": [
    "# 해당 함수는 아무것도 반환하지 않으므로, None 반환\n",
    "# 즉, 변수 c에는 None 대입\n",
    "c = print_something('dds')\n",
    "print c"
   ]
  },
  {
   "cell_type": "code",
   "execution_count": 13,
   "metadata": {},
   "outputs": [
    {
     "name": "stdout",
     "output_type": "stream",
     "text": [
      "None\n"
     ]
    }
   ],
   "source": [
    "# return 만 명시하여도 None을 반환\n",
    "def just_return():\n",
    "    a = 1\n",
    "    b = 1\n",
    "    return\n",
    "    #return none\n",
    "    \n",
    "c = just_return()\n",
    "print c"
   ]
  },
  {
   "cell_type": "markdown",
   "metadata": {},
   "source": [
    "* **multiple return (복수 값 반환)**\n",
    " + tuple반환을 하여 복수개의 값 리턴 가능\n",
    " + 부득이한 경우가 아니면 지양 "
   ]
  },
  {
   "cell_type": "code",
   "execution_count": 20,
   "metadata": {
    "collapsed": true
   },
   "outputs": [],
   "source": [
    "def add_sub(a, b):\n",
    "    return a+b, a-b\n",
    "\n",
    "def add(a, b):\n",
    "    return a + b\n",
    "\n",
    "def sub(a, b):\n",
    "    return a - b"
   ]
  },
  {
   "cell_type": "code",
   "execution_count": 21,
   "metadata": {},
   "outputs": [
    {
     "name": "stdout",
     "output_type": "stream",
     "text": [
      "<type 'tuple'> (9, -1)\n",
      "9 -1\n"
     ]
    }
   ],
   "source": [
    "c = add_sub(4, 5)\n",
    "e, f = add_sub(4, 5)\n",
    "\n",
    "print type(c), c\n",
    "print e, f"
   ]
  }
 ],
 "metadata": {
  "kernelspec": {
   "display_name": "Python 2",
   "language": "python",
   "name": "python2"
  },
  "language_info": {
   "codemirror_mode": {
    "name": "ipython",
    "version": 3
   },
   "file_extension": ".py",
   "mimetype": "text/x-python",
   "name": "python",
   "nbconvert_exporter": "python",
   "pygments_lexer": "ipython3",
   "version": "3.6.2"
  }
 },
 "nbformat": 4,
 "nbformat_minor": 1
}
