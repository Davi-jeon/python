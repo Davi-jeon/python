{
 "cells": [
  {
   "cell_type": "markdown",
   "metadata": {},
   "source": [
    "# Function 2\n",
    "\n",
    "## 학습목표\n",
    " 2. Lambda 함수 이해 및 사용\n",
    " 3. 모듈 임포트 후, 해당 모듈의 함수 사용법 "
   ]
  },
  {
   "cell_type": "markdown",
   "metadata": {},
   "source": [
    "* **Lambda 함수**\n",
    " + 단일문으로 표현되는 익명함수\n",
    " + 익명함수란 이름이 없는 구현체만 존재하는 간단한 함수를 의미\n",
    " + 코드 상에서 한번만 사용되는 기능이 있을 때, 굳이 함수로 만들지 않고 1회성으로 만들어서 쓸 때 사용."
   ]
  },
  {
   "cell_type": "code",
   "execution_count": 1,
   "metadata": {},
   "outputs": [
    {
     "name": "stdout",
     "output_type": "stream",
     "text": [
      "<function square at 0x10a2bb230>\n",
      "<function <lambda> at 0x10a2bb398>\n",
      "16 16\n"
     ]
    }
   ],
   "source": [
    "def square(x): \n",
    "    return x ** 2\n",
    "\n",
    "lambda x : x ** 2\n",
    "\n",
    "lambda x : x + 2\n",
    "\n",
    "square2 = lambda x : x ** 2\n",
    "\n",
    "print square\n",
    "print square2\n",
    "\n",
    "print square(4), square2(4)"
   ]
  },
  {
   "cell_type": "code",
   "execution_count": 3,
   "metadata": {},
   "outputs": [
    {
     "name": "stdout",
     "output_type": "stream",
     "text": [
      "200\n"
     ]
    }
   ],
   "source": [
    "ten_times = lambda x : x * 10\n",
    "print ten_times(20)"
   ]
  },
  {
   "cell_type": "code",
   "execution_count": null,
   "metadata": {
    "collapsed": true
   },
   "outputs": [],
   "source": [
    "#다량의 인풋 가능, 다량의 아웃풋도 가능하지만, 혼란스러우니, 하나로!!!\n",
    "\n",
    "add3 = lambda x, y: x + y\n",
    "print add3(20, 30)"
   ]
  },
  {
   "cell_type": "code",
   "execution_count": 7,
   "metadata": {},
   "outputs": [
    {
     "name": "stdout",
     "output_type": "stream",
     "text": [
      "[14, 29, 45, 72, 83, 91]\n",
      "[91, 83, 72, 45, 29, 14]\n",
      "[91, 72, 83, 14, 45, 29]\n"
     ]
    }
   ],
   "source": [
    "nums = [91,29,14,72,83,45]\n",
    "\n",
    "print sorted(nums)\n",
    "print sorted(nums, reverse=True)\n",
    "\n",
    "\n",
    "def digit(n):\n",
    "    return n % 10\n",
    "\n",
    "print sorted(nums, key=digit)\n",
    "print sorted(nums, key = lambda x : x%10)\n",
    "\n",
    "# 특정 조건을 대입 할 때, \n",
    "# key "
   ]
  },
  {
   "cell_type": "code",
   "execution_count": 9,
   "metadata": {},
   "outputs": [
    {
     "name": "stdout",
     "output_type": "stream",
     "text": [
      "[(1, 2), (10, 2), (8, 4), (9, 5), (4, 5), (7, 6)]\n",
      "[(10, 2), (9, 5), (8, 4), (7, 6), (4, 5), (1, 2)]\n"
     ]
    }
   ],
   "source": [
    "nums = [(1, 2), (9, 5), (8, 4), (7, 6), (10, 2), (4, 5)]\n",
    "\n",
    "def get_key(item):\n",
    "    return item[1]\n",
    "\n",
    "\n",
    "print sorted(nums, key = get_key)\n",
    "print sorted(nums, key = lambda x : x[0], reverse = True)"
   ]
  },
  {
   "cell_type": "markdown",
   "metadata": {},
   "source": [
    "* **filter, map, reduce**\n",
    " + lambda가 유용하게 사용되는 3가지 대표적 함수\n",
    " + 함수형 프로그래밍의 기본 요소이기도 함\n",
    " + filter : 특정 조건을 만족하는 요소만 남기고 필터링\n",
    " + map    : 각 원소를 주어진 수식에 따라 변형하여 새로운 리스트를 반환\n",
    " + reduce : 차례대로 앞 2개의 원소를 가지고 연산. 이 것을 마지막 원소까지 진행"
   ]
  },
  {
   "cell_type": "code",
   "execution_count": 10,
   "metadata": {},
   "outputs": [
    {
     "name": "stdout",
     "output_type": "stream",
     "text": [
      "[2, 3, 4, 5, 6, 7, 8, 9, 10, 11, 12, 13, 14, 15, 16, 17, 18, 19, 20, 21, 22, 23, 24, 25, 26, 27, 28, 29, 30, 31, 32, 33, 34, 35, 36, 37, 38, 39, 40, 41, 42, 43, 44, 45, 46, 47, 48, 49, 50, 51, 52, 53, 54, 55, 56, 57, 58, 59, 60, 61, 62, 63, 64, 65, 66, 67, 68, 69, 70, 71, 72, 73, 74, 75, 76, 77, 78, 79, 80, 81, 82, 83, 84, 85, 86, 87, 88, 89, 90, 91, 92, 93, 94, 95, 96, 97, 98, 99]\n",
      "[2, 4, 6, 8, 10, 12, 14, 16, 18, 20, 22, 24, 26, 28, 30, 32, 34, 36, 38, 40, 42, 44, 46, 48, 50, 52, 54, 56, 58, 60, 62, 64, 66, 68, 70, 72, 74, 76, 78, 80, 82, 84, 86, 88, 90, 92, 94, 96, 98]\n"
     ]
    }
   ],
   "source": [
    "nums = range(2, 100)\n",
    "\n",
    "print filter(None, nums)\n",
    "print filter(lambda x: x % 2 == 0, nums)\n",
    "\n",
    "#필터함수에서는 (,) 앞에 조건, 뒤에 범위"
   ]
  },
  {
   "cell_type": "markdown",
   "metadata": {},
   "source": [
    "* **예외처리** \n",
    " + try, except 키워드 사용\n",
    "   + try : 예외가 발생할 수 도 있는 코드 작성\n",
    "   + except: 해당 코드 블록에서 예외 발생 시, 프로그램이 종료되지 않고, except 블록 실행\n",
    " + 예외 상황 발생 시, 적절한 대처를 위해 필요함\n",
    " + 함수 작성시, 발생할 수 있는 에러에 대해 처리하는 것이 필요\n"
   ]
  },
  {
   "cell_type": "code",
   "execution_count": 30,
   "metadata": {},
   "outputs": [
    {
     "name": "stdout",
     "output_type": "stream",
     "text": [
      "3\n",
      "1\n",
      "hahaha again\n"
     ]
    }
   ],
   "source": [
    "\n",
    "nums = [1, 2, 3]\n",
    "pos = 2\n",
    "\n",
    "try :\n",
    "    print nums[pos]\n",
    "    print nums[0]\n",
    "except :\n",
    "    print 'error occurred'\n",
    "\n",
    "print 'hahaha again'"
   ]
  },
  {
   "cell_type": "code",
   "execution_count": 31,
   "metadata": {},
   "outputs": [
    {
     "name": "stdout",
     "output_type": "stream",
     "text": [
      "need a index between 0 and len(nums)-1 but got 4\n",
      "1\n"
     ]
    }
   ],
   "source": [
    "nums = [1, 2, 3]\n",
    "pos = 4\n",
    "\n",
    "try:\n",
    "    print nums[pos]\n",
    "    print 1, 2, 3\n",
    "    print 4, 5, 6\n",
    "except:\n",
    "    print 'need a index between 0 and len(nums)-1', 'but got', pos\n",
    "    \n",
    "print nums[0]"
   ]
  },
  {
   "cell_type": "markdown",
   "metadata": {},
   "source": [
    "* 예외 처리 세분화 \n",
    " + Exception으로 보편적으로 다 처리할 수 있다\n",
    " + 세분화하여 처리하면, 각 예외 상황에 따라 다른 처리를 할 수 있다."
   ]
  },
  {
   "cell_type": "code",
   "execution_count": 43,
   "metadata": {},
   "outputs": [
    {
     "name": "stdout",
     "output_type": "stream",
     "text": [
      "need a index between 0 and len(nums)-1 but got 1\n",
      "list index out of range\n",
      "task done\n",
      "0\n"
     ]
    }
   ],
   "source": [
    "#\n",
    "\n",
    "nums = [0, 1, 2, 3]\n",
    "pos1 = 5\n",
    "pos2 = 0\n",
    "\n",
    "try:\n",
    "    print nums[pos1] / nums[pos2]\n",
    "except IndexError as err:\n",
    "    print 'need a index between 0 and len(nums)-1', 'but got', pos\n",
    "    print str(err)\n",
    "except ZeroDivisionError as other: #ZeroDivisionError\n",
    "    print 'something else broke', other\n",
    "except Exception as e:\n",
    "    print e\n",
    "finally:\n",
    "    print 'task done'\n",
    "    \n",
    "print nums[0]"
   ]
  },
  {
   "cell_type": "markdown",
   "metadata": {},
   "source": [
    "* **모듈 임포트**\n",
    " + 그동안 사용했던 함수들 처럼, 다양한 기능들이 미리 함수로 구현되어 모듈 형태로 제공\n",
    " + 대표적으로 추후 과정에서 사용하게 될 아래의 모듈들이 존재\n",
    " \n",
    " + numpy - pip install numpy\n",
    " + scipy - pip install scipy \n",
    "   - windows의 경우, 설치 되지 않을 경우 아래의 경로에서 차례대로 설치\n",
    "    - http://aka.ms/vcpython27\n",
    "    - https://sourceforge.net/projects/scipy/files/scipy/0.16.1/scipy-0.16.1-win32-superpack-python2.7.exe/download \n",
    "    \n",
    " \n",
    " + pandas - pip install pandas\n",
    " + sklearn  - pip install scikit-learn\n",
    " + matplotlib pip install matplotlib\n",
    " + statsmodels - pip install statsmodels\n",
    " + seaborn - pip install seaborn"
   ]
  },
  {
   "cell_type": "markdown",
   "metadata": {
    "collapsed": true
   },
   "source": [
    "* import / from import"
   ]
  },
  {
   "cell_type": "code",
   "execution_count": 53,
   "metadata": {},
   "outputs": [
    {
     "name": "stdout",
     "output_type": "stream",
     "text": [
      "13\n"
     ]
    }
   ],
   "source": [
    "\n",
    "\n",
    "import numpy # 모듈 임포트\n",
    "\n",
    "print numpy.random.randint(100)"
   ]
  },
  {
   "cell_type": "code",
   "execution_count": 46,
   "metadata": {
    "scrolled": true
   },
   "outputs": [
    {
     "name": "stdout",
     "output_type": "stream",
     "text": [
      "63\n"
     ]
    },
    {
     "data": {
      "text/plain": [
       "0.722083232857168"
      ]
     },
     "execution_count": 46,
     "metadata": {},
     "output_type": "execute_result"
    }
   ],
   "source": [
    "import numpy as np # 모듈 임포트 후 alias(별명) 붙임 , 별명을 지은 후에는 numpy라고 쓸 수 없음. 별명을 써야함.\n",
    "\n",
    "print np.random.randint(100)\n",
    "np.random.rand()"
   ]
  },
  {
   "cell_type": "code",
   "execution_count": 55,
   "metadata": {
    "scrolled": true
   },
   "outputs": [
    {
     "name": "stdout",
     "output_type": "stream",
     "text": [
      "97\n"
     ]
    }
   ],
   "source": [
    "from numpy import random as rd # numpy 모듈에서 하위 모듈인 random만을 import\n",
    "\n",
    "print rd.randint(100)\n"
   ]
  },
  {
   "cell_type": "code",
   "execution_count": 48,
   "metadata": {},
   "outputs": [
    {
     "name": "stdout",
     "output_type": "stream",
     "text": [
      "42\n",
      "0.939694779974\n"
     ]
    }
   ],
   "source": [
    "import numpy.random as random # numpy의 하위모듈인 random만을 import 후, alias 붙임\n",
    "\n",
    "\n",
    "print random.randint(100)\n",
    "print random.rand()"
   ]
  },
  {
   "cell_type": "code",
   "execution_count": 49,
   "metadata": {},
   "outputs": [
    {
     "name": "stdout",
     "output_type": "stream",
     "text": [
      "0.691645964202\n"
     ]
    }
   ],
   "source": [
    "import numpy as np\n",
    "print np.random.rand()"
   ]
  },
  {
   "cell_type": "markdown",
   "metadata": {
    "collapsed": true
   },
   "source": [
    " * 연습문제\n",
    "  1. 다트를 던져서 파이(3.141592..)를 계산하는 동작을 시뮬레이션 하는 함수를 만들어 보세요"
   ]
  },
  {
   "cell_type": "code",
   "execution_count": null,
   "metadata": {
    "collapsed": true
   },
   "outputs": [],
   "source": [
    "def get_pi(n):\n",
    "    count = 0\n",
    "    for i in range(n):\n",
    "        x = np.random.rand()\n",
    "        y = np.random.rand()\n",
    "        \n",
    "        if x**2 + y**2 <= 1:\n",
    "            count += 1\n",
    "            \n",
    "    return float(count) / n * 4\n",
    "\n",
    "print get_pi(10000000)\n",
    "    "
   ]
  },
  {
   "cell_type": "markdown",
   "metadata": {},
   "source": [
    "* matplotlib 모듈\n",
    " - 시각화 담당 모듈\n",
    " - 2차원, 3차원 그래프(선, 막대, 파이차트 등등)"
   ]
  },
  {
   "cell_type": "code",
   "execution_count": 58,
   "metadata": {},
   "outputs": [
    {
     "data": {
      "image/png": "[encoded data removed]",
      "text/plain": [
       "<matplotlib.figure.Figure at 0x10aee8410>"
      ]
     },
     "metadata": {},
     "output_type": "display_data"
    }
   ],
   "source": [
    "%matplotlib inline\n",
    "import matplotlib.pyplot as plt\n",
    "\n",
    "x = [1, 2, 3, 4]\n",
    "y = [2, 4, 6, 8]\n",
    "\n",
    "plt.plot(x, y)\n",
    "plt.show()"
   ]
  },
  {
   "cell_type": "markdown",
   "metadata": {},
   "source": [
    "* request module\n",
    " - http를 통한 web resource에 접근할 때 사용"
   ]
  }
 ],
 "metadata": {
  "kernelspec": {
   "display_name": "Python 2",
   "language": "python",
   "name": "python2"
  },
  "language_info": {
   "codemirror_mode": {
    "name": "ipython",
    "version": 3
   },
   "file_extension": ".py",
   "mimetype": "text/x-python",
   "name": "python",
   "nbconvert_exporter": "python",
   "pygments_lexer": "ipython3",
   "version": "3.6.2"
  }
 },
 "nbformat": 4,
 "nbformat_minor": 1
}
