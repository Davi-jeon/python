{
 "cells": [
  {
   "cell_type": "markdown",
   "metadata": {},
   "source": [
    "# Class & Object "
   ]
  },
  {
   "cell_type": "markdown",
   "metadata": {},
   "source": [
    "## 학습목표\n",
    " 1. 클래스와 오브젝트에 대한 이해\n",
    " 2. 클래스 설계 구현 및 사용 숙지"
   ]
  },
  {
   "cell_type": "markdown",
   "metadata": {},
   "source": [
    "* **class란?**\n",
    " + 실세계의 것을 모델링하여 속성(attribute)와 동작(method)를 갖는 데이터 타입\n",
    " + python에서의 string, int, list, dict.. 모두가 다 클래스로 존재\n",
    " + 예를들어 학생이라는 클래스를 만든다면, 학생을 나타내는 속성과 학생이 행하는 행동을 함께 정의 할 수 있음\n",
    " + project2에서 처럼 각 함수는 파라미터로 전달되는 데이터에 대한 처리를 담당하는데, 프로젝트가 커지고 각각 다루는 함수와 변수가 많아 질수록 유지보수에 어려움이 있음\n",
    " + 따라서, 다루고자 하는 데이터(변수) 와 데이터를 다루는 연산(함수)를 하나로 캡슐화(encapsulation)하여 클래스로 표현\n",
    " + 모델링에서 중요시 하는 속성에 따라 클래스의 속성과 행동이 각각 달라짐\n",
    " \n",
    " \n",
    " \n",
    " ex) 대학생 관리 프로그램\n",
    " 속성 : 이름(name - 함수), 나이, 전공 \n",
    " 기능 : 학교 가기, 공부하기 \n",
    " \n",
    " class studnet(type 명):\n",
    "     def __init__(self):\n",
    "     age\n",
    "     name\n",
    "     major\n",
    "     \n",
    "     def go_to_school ()\n",
    "\n",
    " s = student()\n",
    " 변수와 함수의 모임!!!!!!!\n",
    " "
   ]
  },
  {
   "cell_type": "markdown",
   "metadata": {},
   "source": [
    "* **object 란?**\n",
    " - 클래스로 생성되어 구체화된 객체(인스턴스)\n",
    " - 파이썬의 모든 것(int, str, list..etc)은 객체(인스턴스)\n",
    " - 실제로 class가 인스턴스화 되어 메모리에 상주하는 상태를 의미\n",
    " - class가 빵틀이라면, object는 실제로 빵틀로 찍어낸 빵이라고 비유 가능\n"
   ]
  },
  {
   "cell_type": "code",
   "execution_count": 1,
   "metadata": {},
   "outputs": [
    {
     "name": "stdout",
     "output_type": "stream",
     "text": [
      "['__abs__', '__add__', '__and__', '__class__', '__cmp__', '__coerce__', '__delattr__', '__div__', '__divmod__', '__doc__', '__float__', '__floordiv__', '__format__', '__getattribute__', '__getnewargs__', '__hash__', '__hex__', '__index__', '__init__', '__int__', '__invert__', '__long__', '__lshift__', '__mod__', '__mul__', '__neg__', '__new__', '__nonzero__', '__oct__', '__or__', '__pos__', '__pow__', '__radd__', '__rand__', '__rdiv__', '__rdivmod__', '__reduce__', '__reduce_ex__', '__repr__', '__rfloordiv__', '__rlshift__', '__rmod__', '__rmul__', '__ror__', '__rpow__', '__rrshift__', '__rshift__', '__rsub__', '__rtruediv__', '__rxor__', '__setattr__', '__sizeof__', '__str__', '__sub__', '__subclasshook__', '__truediv__', '__trunc__', '__xor__', 'bit_length', 'conjugate', 'denominator', 'imag', 'numerator', 'real']\n",
      "<type 'int'>\n",
      "7\n"
     ]
    }
   ],
   "source": [
    "# 실제로 메모리에 구체화된 값을 가진 실체 = 객체\n",
    "# 속성(attribute), 동작(method)를 가짐\n",
    "num = 100\n",
    "print dir(num)\n",
    "print type(num)\n",
    "print num.bit_length()"
   ]
  },
  {
   "cell_type": "markdown",
   "metadata": {},
   "source": [
    "* **class 선언하기**\n",
    "  - 객체를 생성하기 위해선 객체의 모체가 되는 class를 미리 선언해야 함 "
   ]
  },
  {
   "cell_type": "code",
   "execution_count": 3,
   "metadata": {},
   "outputs": [
    {
     "name": "stdout",
     "output_type": "stream",
     "text": [
      "<__main__.Person object at 0x10d306110>\n",
      "<__main__.Person object at 0x10c2adcd0>\n"
     ]
    },
    {
     "ename": "NameError",
     "evalue": "name 'Student' is not defined",
     "output_type": "error",
     "traceback": [
      "\u001b[0;31m---------------------------------------------------------------------------\u001b[0m",
      "\u001b[0;31mNameError\u001b[0m                                 Traceback (most recent call last)",
      "\u001b[0;32m<ipython-input-3-9dc95eb3bed6>\u001b[0m in \u001b[0;36m<module>\u001b[0;34m()\u001b[0m\n\u001b[1;32m     29\u001b[0m \u001b[0mc\u001b[0m \u001b[0;34m=\u001b[0m \u001b[0mCounter\u001b[0m\u001b[0;34m(\u001b[0m\u001b[0;34m[\u001b[0m\u001b[0;36m1\u001b[0m\u001b[0;34m,\u001b[0m\u001b[0;36m2\u001b[0m\u001b[0;34m,\u001b[0m\u001b[0;36m3\u001b[0m\u001b[0;34m,\u001b[0m\u001b[0;36m4\u001b[0m\u001b[0;34m]\u001b[0m\u001b[0;34m)\u001b[0m\u001b[0;34m\u001b[0m\u001b[0m\n\u001b[1;32m     30\u001b[0m \u001b[0;34m\u001b[0m\u001b[0m\n\u001b[0;32m---> 31\u001b[0;31m \u001b[0ms1\u001b[0m \u001b[0;34m=\u001b[0m \u001b[0mStudent\u001b[0m\u001b[0;34m(\u001b[0m\u001b[0;34m)\u001b[0m\u001b[0;34m\u001b[0m\u001b[0m\n\u001b[0m\u001b[1;32m     32\u001b[0m \u001b[0;32mprint\u001b[0m \u001b[0ms1\u001b[0m\u001b[0;34m\u001b[0m\u001b[0m\n\u001b[1;32m     33\u001b[0m \u001b[0;34m\u001b[0m\u001b[0m\n",
      "\u001b[0;31mNameError\u001b[0m: name 'Student' is not defined"
     ]
    }
   ],
   "source": [
    "#클래스 - 객체를 생성하는 틀\n",
    "\n",
    "# camel case\n",
    "def test_simulation_method():\n",
    "    pass\n",
    "\n",
    "class Person(object):\n",
    "    pass\n",
    "\n",
    "p1 = Person()\n",
    "print p1\n",
    "\n",
    "p2 = Person()\n",
    "print p2\n",
    "\n",
    "a = []\n",
    "b = a\n",
    "#한개의 객체지만 똑같은 것을 가르킨다.\n",
    "\n",
    "\n",
    "# 가장 많이 씀\n",
    "class Person(object):\n",
    "    pass\n",
    "\n",
    "class Studnet:\n",
    "    pass\n",
    "\n",
    "from collections import Counter\n",
    "c = Counter([1,2,3,4])\n",
    "\n",
    "s1 = Student()\n",
    "print s1\n",
    "\n",
    "p1 = Person()\n",
    "print p1\n",
    "print type(p1)"
   ]
  },
  {
   "cell_type": "markdown",
   "metadata": {},
   "source": [
    "* __init__(self)   --> 속성\n",
    " + 생성자, 클래스 인스턴스가 생성될 때 호출됨\n",
    " + self인자는 항상 첫번째에 오며 자기 자신을 가리킴\n",
    " + 이름이 꼭 self일 필요는 없지만, 관례적으로 self로 사용\n",
    " \n",
    " + 생성자에서는 해당 클래스가 다루는 데이터를 정의\n",
    "   - 이 데이터를 멤버 변수(member variable) 또는 속성(attribute)라고 함"
   ]
  },
  {
   "cell_type": "code",
   "execution_count": 5,
   "metadata": {},
   "outputs": [
    {
     "name": "stdout",
     "output_type": "stream",
     "text": [
      "Ted 23\n",
      "Bob 33\n"
     ]
    }
   ],
   "source": [
    "#초기화\n",
    "\n",
    "class Person(object):\n",
    "    # constructor, 생성자\n",
    "    def __init__(self, name, age): # 인자가 2개 필요함\n",
    "        self.name = n # 이 클래스가 가지는 변수, 속성\n",
    "        self.age = a # 무엇을 넣어도 상관없음. \n",
    "        \n",
    "s1 = Person('Ted',23) #class란 틀을 이용해서 찍어낸 객체\n",
    "s2 = Person('Bob',33)\n",
    "\n",
    "print s1.name, s1.age\n",
    "print s2.name, s2.age\n"
   ]
  },
  {
   "cell_type": "markdown",
   "metadata": {},
   "source": [
    "* **mehtod 정의**  --> 함수\n",
    " + 멤버함수라고도 하며, 해당 클래스의 object에서만 호출가능\n",
    " + 메쏘드는 객체 레벨에서 호출되며, 해당 객체의 속성에 대한 연산을 행함\n",
    " + {obj}.{method}() 형태로 호출됨"
   ]
  },
  {
   "cell_type": "code",
   "execution_count": 7,
   "metadata": {},
   "outputs": [
    {
     "name": "stdout",
     "output_type": "stream",
     "text": [
      "Tracy works 10 hour very hard\n",
      "Aaron works 20 hour very hard\n",
      "Work hard but just a function\n"
     ]
    }
   ],
   "source": [
    "class Person(object):\n",
    "    def __init__(self, name, height):\n",
    "        self.name = name\n",
    "        self.height = height\n",
    "        \n",
    "    def work(self, hour):\n",
    "        print '{} works {} hour very hard'.format(self.name, hour)\n",
    "        \n",
    "def work():\n",
    "    print 'Work hard but just a function'\n",
    "\n",
    "p1 = Person('Tracy', 190)\n",
    "p1.work(10)\n",
    "\n",
    "p2 = Person('Aaron', 190)\n",
    "p2.work(20)\n",
    "\n",
    "# 에러 발생. why?\n",
    "#p1 = [1, 2, 34]\n",
    "#p1.work()\n",
    "\n",
    "work()\n",
    "\n",
    "# ' .' 은 객체의 맴버함수만 출력가능"
   ]
  },
  {
   "cell_type": "code",
   "execution_count": 8,
   "metadata": {},
   "outputs": [
    {
     "name": "stdout",
     "output_type": "stream",
     "text": [
      "aaron works very hard\n",
      "aaron sleeps every day\n",
      "bob works very hard\n",
      "<__main__.Person object at 0x10d306a50>\n",
      "<__main__.Person object at 0x10d71c090>\n"
     ]
    }
   ],
   "source": [
    "class Person(object):\n",
    "    \n",
    "    def __init__(self, name):\n",
    "        self.name = name\n",
    "        \n",
    "    def work(self):\n",
    "        print '{} works very hard'.format(self.name)\n",
    "        \n",
    "    def sleep(self):\n",
    "        print '{} sleeps every day'.format(self.name)\n",
    "        \n",
    "\n",
    "p1 = Person('aaron')\n",
    "p1.work()\n",
    "p1.sleep()\n",
    "\n",
    "p2 = Person('bob')\n",
    "p2.work()\n",
    "\n",
    "\n",
    "print p1\n",
    "print p2"
   ]
  },
  {
   "cell_type": "markdown",
   "metadata": {},
   "source": [
    "* ** private, protected, public**\n",
    "  - c++, java 등의 기타 OOP 언어와는 달리, 파이썬의 경우 리스트릭트한 제한자 적용을 할 수 없음 \n",
    "  - 파이썬에서의 모든 속성, 메쏘드는 기본적으로 **public**\n",
    "  - 즉, 클래스의 외부에서 속성, 메쏘드에 접근이 가능 (사용 가능)"
   ]
  },
  {
   "cell_type": "code",
   "execution_count": 9,
   "metadata": {},
   "outputs": [
    {
     "name": "stdout",
     "output_type": "stream",
     "text": [
      "0ml inside the bottle\n",
      "20ml inside the bottle\n"
     ]
    }
   ],
   "source": [
    "class Bottle:\n",
    "    def __init__(self, quantity):\n",
    "        self.quantity = quantity\n",
    "        \n",
    "    def fill(self, quantity):\n",
    "        self.quantity = quantity\n",
    "        \n",
    "    def empty(self):\n",
    "        self.quantity = 0\n",
    "        \n",
    "    def show(self):\n",
    "        print '{}ml inside the bottle'.format(self.quantity)\n",
    "        \n",
    "bottle = Bottle(20)\n",
    "bottle.fill(100)\n",
    "bottle.empty()\n",
    "\n",
    "bottle.show()\n",
    "\n",
    "bottle.quantity = 20 # 강제로 바꿈\n",
    "\n",
    "\n",
    "bottle.show()"
   ]
  },
  {
   "cell_type": "markdown",
   "metadata": {},
   "source": [
    "* ** protected **\n",
    " - protected 속성의 경우, 해당 클래스와 그것의 하위 클래스에서만 접근 가능\n",
    " - 파이썬에서는 해당 속성의 앞에 _(single underscore) 를 붙여서 해결\n",
    " - 다만, 실제 runtime에서의 제약 사항은 아니고, 실제 클래스를 사용하는 사용자에게 경고 형태로만 제공"
   ]
  },
  {
   "cell_type": "code",
   "execution_count": 10,
   "metadata": {},
   "outputs": [
    {
     "name": "stdout",
     "output_type": "stream",
     "text": [
      "60ml inside the bottle\n",
      "100ml inside the bottle\n",
      "100\n",
      "2000ml inside the bottle\n"
     ]
    }
   ],
   "source": [
    "class Bottle:\n",
    "    def __init__(self, quantity):\n",
    "        self._quantity = quantity\n",
    "        \n",
    "    def fill(self, quantity):\n",
    "        if self._quantity + quantity > 100:\n",
    "            self._quantity = 100\n",
    "        else:\n",
    "            self._quantity += quantity\n",
    "        \n",
    "    def empty(self):\n",
    "        self._quantity = 0\n",
    "        \n",
    "    def show(self):\n",
    "        print '{}ml inside the bottle'.format(self._quantity)\n",
    "        \n",
    "bottle = Bottle(20)\n",
    "bottle.fill(40)\n",
    "\n",
    "bottle.show()\n",
    "\n",
    "bottle.fill(50)\n",
    "\n",
    "bottle.show()\n",
    "\n",
    "# 100ml 이상 담을 수 없게 구현했으나, 사용자가 마음대로 외부에서 설정\n",
    "print bottle._quantity\n",
    "\n",
    "bottle._quantity = 2000 # 강제적으로 '2000'이 적용됨\n",
    "\n",
    "bottle.show()"
   ]
  },
  {
   "cell_type": "markdown",
   "metadata": {},
   "source": [
    "* **private**\n",
    "  - 해당 클래스의 외부에서는 접근 불가능\n",
    "  - 파이썬의 경우 속성이름 앞에 __(double underscore)를 붙여서 private 속성으로 설정\n",
    "    - name mangling을 통해 속성의 이름을 변경하는 기법으로 private으로 설정\n",
    "  - 해당 속성의 경우, 클래스의 외부에서 접근할 경우 에러 발생"
   ]
  },
  {
   "cell_type": "code",
   "execution_count": 12,
   "metadata": {
    "scrolled": true
   },
   "outputs": [
    {
     "ename": "AttributeError",
     "evalue": "'int' object has no attribute 'name'",
     "output_type": "error",
     "traceback": [
      "\u001b[0;31m---------------------------------------------------------------------------\u001b[0m",
      "\u001b[0;31mAttributeError\u001b[0m                            Traceback (most recent call last)",
      "\u001b[0;32m<ipython-input-12-cf25f70442e9>\u001b[0m in \u001b[0;36m<module>\u001b[0;34m()\u001b[0m\n\u001b[1;32m     18\u001b[0m \u001b[0me2\u001b[0m \u001b[0;34m=\u001b[0m \u001b[0mEmployee\u001b[0m\u001b[0;34m(\u001b[0m\u001b[0;34m'kate'\u001b[0m\u001b[0;34m,\u001b[0m \u001b[0;36m2000\u001b[0m\u001b[0;34m)\u001b[0m\u001b[0;34m\u001b[0m\u001b[0m\n\u001b[1;32m     19\u001b[0m \u001b[0;34m\u001b[0m\u001b[0m\n\u001b[0;32m---> 20\u001b[0;31m \u001b[0me1\u001b[0m \u001b[0;34m+\u001b[0m \u001b[0;36m1000\u001b[0m\u001b[0;34m\u001b[0m\u001b[0m\n\u001b[0m",
      "\u001b[0;32m<ipython-input-12-cf25f70442e9>\u001b[0m in \u001b[0;36m__add__\u001b[0;34m(self, other)\u001b[0m\n\u001b[1;32m     11\u001b[0m \u001b[0;34m\u001b[0m\u001b[0m\n\u001b[1;32m     12\u001b[0m     \u001b[0;32mdef\u001b[0m \u001b[0m__add__\u001b[0m\u001b[0;34m(\u001b[0m\u001b[0mself\u001b[0m\u001b[0;34m,\u001b[0m \u001b[0mother\u001b[0m\u001b[0;34m)\u001b[0m\u001b[0;34m:\u001b[0m\u001b[0;34m\u001b[0m\u001b[0m\n\u001b[0;32m---> 13\u001b[0;31m         \u001b[0mnew_emp\u001b[0m \u001b[0;34m=\u001b[0m \u001b[0mEmployee\u001b[0m\u001b[0;34m(\u001b[0m\u001b[0mself\u001b[0m\u001b[0;34m.\u001b[0m\u001b[0mname\u001b[0m\u001b[0;34m+\u001b[0m\u001b[0mother\u001b[0m\u001b[0;34m.\u001b[0m\u001b[0mname\u001b[0m\u001b[0;34m,\u001b[0m \u001b[0mself\u001b[0m\u001b[0;34m.\u001b[0m\u001b[0msalary\u001b[0m\u001b[0;34m+\u001b[0m\u001b[0mother\u001b[0m\u001b[0;34m.\u001b[0m\u001b[0msalary\u001b[0m\u001b[0;34m)\u001b[0m\u001b[0;34m\u001b[0m\u001b[0m\n\u001b[0m\u001b[1;32m     14\u001b[0m         \u001b[0;32mreturn\u001b[0m \u001b[0mnew_emp\u001b[0m\u001b[0;34m\u001b[0m\u001b[0m\n\u001b[1;32m     15\u001b[0m \u001b[0;34m\u001b[0m\u001b[0m\n",
      "\u001b[0;31mAttributeError\u001b[0m: 'int' object has no attribute 'name'"
     ]
    }
   ],
   "source": [
    "class Employee(object):\n",
    "    def __init__(self, name, salary):\n",
    "        self.name = name\n",
    "        self.salary = salary\n",
    "        \n",
    "    def __str__(self):\n",
    "        return 'name : {} salary : {}'.format(self.name, self.salary)\n",
    "    \n",
    "    def __repr__(self):   \n",
    "         return 'name : {} salary : {}'.format(self.name, self.salary)\n",
    "        \n",
    "    def __add__(self, other):\n",
    "        new_emp = Employee(self.name+other.name, self.salary+other.salary)\n",
    "        return new_emp\n",
    "        \n",
    "    \n",
    "e1 = Employee('bob', 1000)\n",
    "e2 = Employee('kate', 2000)\n",
    "\n"
   ]
  },
  {
   "cell_type": "code",
   "execution_count": 30,
   "metadata": {},
   "outputs": [
    {
     "name": "stdout",
     "output_type": "stream",
     "text": [
      "name : bobkateken salary : 5500\n",
      "name : bob salary : 2000\n",
      "name : bob salary : 2000\n",
      "[name : bob salary : 1000, name : fox salary : 500, name : kate salary : 2000, name : ken salary : 2500]\n"
     ]
    },
    {
     "data": {
      "text/plain": [
       "[name : fox salary : 500,\n",
       " name : bob salary : 1000,\n",
       " name : kate salary : 2000,\n",
       " name : ken salary : 2500]"
      ]
     },
     "execution_count": 30,
     "metadata": {},
     "output_type": "execute_result"
    }
   ],
   "source": [
    "class Employee(object):\n",
    "    def __init__(self, name, salary):\n",
    "        self.name = name\n",
    "        self.salary = salary\n",
    "        \n",
    "    def __str__(self):\n",
    "        return 'name : {} salary : {}'.format(self.name, self.salary)\n",
    "    \n",
    "    def __repr__(self):   \n",
    "         return 'name : {} salary : {}'.format(self.name, self.salary)\n",
    "        \n",
    "    def __add__(self, other):\n",
    "        if type(other) == int:\n",
    "            new_emp = Employee(self.name, self.salary+other)\n",
    "                \n",
    "        else:\n",
    "            new_emp = Employee(self.name+other.name, self.salary+other.salary)\n",
    "        return new_emp\n",
    "    \n",
    "    def __radd__(self, other):  #  다른 타입끼리의 연산일 때 많이 쓰임\n",
    "        return Employee(self.name, self.salary+other)\n",
    "    \n",
    "    def __len__(self):\n",
    "        return len(self.name)\n",
    "    \n",
    "    def __gt__(self, other):\n",
    "        return self.salary > other.salary\n",
    "    \n",
    "    def __gte__(self, other):\n",
    "        return self.salary >= other.salary\n",
    "    \n",
    "    def __lt_ (self, other):\n",
    "        return self.salary < other.salary\n",
    "    \n",
    "    def __lte__(self, other):\n",
    "         return self.salary <= other.salary\n",
    "        \n",
    "        \n",
    "        \n",
    "    \n",
    "e1 = Employee('bob', 1000)\n",
    "e2 = Employee('kate', 2000)\n",
    "e3 = Employee('ken', 2500)\n",
    "e4 = Employee('fox', 500)\n",
    "\n",
    "\n",
    "print e1 + e2 + e3\n",
    "print e1 + 1000\n",
    "\n",
    "print 1000 + e1  #e1 = self, 1000 = other\n",
    "\n",
    "len(e2)\n",
    "\n",
    "lst = [e1,e4,e2,e3]\n",
    "print lst\n",
    "\n",
    "sorted(lst, key=lambda x : x.salary)\n"
   ]
  },
  {
   "cell_type": "code",
   "execution_count": 2,
   "metadata": {},
   "outputs": [
    {
     "name": "stdout",
     "output_type": "stream",
     "text": [
      "0ml inside the bottle\n"
     ]
    },
    {
     "ename": "AttributeError",
     "evalue": "Bottle instance has no attribute '__quantity'",
     "output_type": "error",
     "traceback": [
      "\u001b[0;31m---------------------------------------------------------------------------\u001b[0m",
      "\u001b[0;31mAttributeError\u001b[0m                            Traceback (most recent call last)",
      "\u001b[0;32m<ipython-input-2-744a6524a3e6>\u001b[0m in \u001b[0;36m<module>\u001b[0;34m()\u001b[0m\n\u001b[1;32m     22\u001b[0m \u001b[0;34m\u001b[0m\u001b[0m\n\u001b[1;32m     23\u001b[0m \u001b[0;31m# 아무 변화를 주지 못함\u001b[0m\u001b[0;34m\u001b[0m\u001b[0;34m\u001b[0m\u001b[0m\n\u001b[0;32m---> 24\u001b[0;31m \u001b[0;32mprint\u001b[0m \u001b[0mbottle\u001b[0m\u001b[0;34m.\u001b[0m\u001b[0m__quantity\u001b[0m\u001b[0;34m\u001b[0m\u001b[0m\n\u001b[0m\u001b[1;32m     25\u001b[0m \u001b[0mbottle\u001b[0m\u001b[0;34m.\u001b[0m\u001b[0m__quantity\u001b[0m \u001b[0;34m=\u001b[0m \u001b[0;36m3000\u001b[0m\u001b[0;34m\u001b[0m\u001b[0m\n\u001b[1;32m     26\u001b[0m \u001b[0;34m\u001b[0m\u001b[0m\n",
      "\u001b[0;31mAttributeError\u001b[0m: Bottle instance has no attribute '__quantity'"
     ]
    }
   ],
   "source": [
    "class Bottle:\n",
    "    def __init__(self, quantity):\n",
    "        self.__quantity = quantity  # 언더바가 2개면 보호됨, 외부에서 변경 불가함\n",
    "        \n",
    "    def fill(self, quantity):\n",
    "        if self.__quantity + quantity > 100:\n",
    "            self.__quantity = 100\n",
    "        else:\n",
    "            self.__quantity += quantity\n",
    "        \n",
    "    def empty(self):\n",
    "        self.__quantity = 0\n",
    "        \n",
    "    def show(self):\n",
    "        print '{}ml inside the bottle'.format(self.__quantity)\n",
    "        \n",
    "bottle = Bottle(20)\n",
    "bottle.fill(100)\n",
    "bottle.empty()\n",
    "\n",
    "bottle.show()\n",
    "\n",
    "# 아무 변화를 주지 못함\n",
    "print bottle.__quantity\n",
    "bottle.__quantity = 3000\n",
    "\n",
    "# name mangling으로 속성의 이름을 변경\n",
    "# bottle._Bottle__quantity = 3000\n",
    "\n",
    "bottle.show()"
   ]
  },
  {
   "cell_type": "markdown",
   "metadata": {},
   "source": [
    " * **Class Inheritance (상속)**\n",
    "  - 기존에 정의해둔 클래스의 기능을 그대로 물려받을 수 있다.\n",
    "  - 기존 클래스에 기능 일부를 추가하거나, 변경하여 새로운 클래스를 정의한다.\n",
    "  - 코드를 재사용할 수 있게된다.\n",
    "  - 상속 받고자 하는 대상인 기존 클래스는 (Parent, Super, Base class 라고 부른다.)\n",
    "  - 상속 받는 새로운 클래스는(Child, Sub, Derived class 라고 부른다.)\n",
    "  - 의미적으로 is-a관계를 갖는다"
   ]
  },
  {
   "cell_type": "code",
   "execution_count": 40,
   "metadata": {},
   "outputs": [
    {
     "name": "stdout",
     "output_type": "stream",
     "text": [
      "<__main__.Person object at 0x10d2e38d0>\n",
      "<__main__.Student object at 0x10ce26b10>\n"
     ]
    }
   ],
   "source": [
    "class Person(object):\n",
    "    def work(self):\n",
    "        print 'work hard'\n",
    "\n",
    "class Student(Person):\n",
    "    pass\n",
    "    \n",
    "\n",
    "p1 = Person()\n",
    "s1 = Student()\n",
    "\n",
    "print p1\n",
    "print s1"
   ]
  },
  {
   "cell_type": "code",
   "execution_count": 41,
   "metadata": {},
   "outputs": [
    {
     "name": "stdout",
     "output_type": "stream",
     "text": [
      "work hard\n",
      "work hard\n"
     ]
    }
   ],
   "source": [
    "class Person(object):\n",
    "    def work(self):\n",
    "        print 'work hard'\n",
    "\n",
    "#class Student(object):\n",
    "class Student(Person):\n",
    "    pass\n",
    "\n",
    "p1 = Person()\n",
    "s1 = Student()\n",
    "\n",
    "p1.work()\n",
    "s1.work()"
   ]
  },
  {
   "cell_type": "markdown",
   "metadata": {},
   "source": [
    "* **method override**\n",
    " - 부모 클래스의 method를 재정의(override)\n",
    " - 하위 클래스(자식 클래스) 의 인스턴스로 호출시, 재정의된 메소드가 호출됨"
   ]
  },
  {
   "cell_type": "code",
   "execution_count": 42,
   "metadata": {},
   "outputs": [
    {
     "name": "stdout",
     "output_type": "stream",
     "text": [
      "work hard\n",
      "Study hard\n"
     ]
    }
   ],
   "source": [
    "class Person(object):\n",
    "    def work(self):\n",
    "        print 'work hard'\n",
    "\n",
    "class Student(Person):\n",
    "    def work(self):\n",
    "        print 'Study hard'\n",
    "        \n",
    "p1 = Person()\n",
    "s1 = Student()\n",
    "\n",
    "p1.work()\n",
    "s1.work()"
   ]
  },
  {
   "cell_type": "code",
   "execution_count": 43,
   "metadata": {},
   "outputs": [
    {
     "name": "stdout",
     "output_type": "stream",
     "text": [
      "work hard\n",
      "Study hard\n",
      "Go to school\n"
     ]
    }
   ],
   "source": [
    "class Person(object):\n",
    "    def work(self):\n",
    "        print 'work hard'\n",
    "\n",
    "class Student(Person):\n",
    "    def work(self):\n",
    "        print 'Study hard'\n",
    "        \n",
    "    def go_to_school(self):\n",
    "        print 'Go to school'\n",
    "        \n",
    "\n",
    "p1 = Person()\n",
    "s1 = Student()\n",
    "\n",
    "p1.work()\n",
    "#p1.go_to_school()\n",
    "\n",
    "s1.work()\n",
    "s1.go_to_school()"
   ]
  },
  {
   "cell_type": "markdown",
   "metadata": {},
   "source": [
    "* super \n",
    " - 하위클래스(자식 클래스)에서 부모클래스의 method를 호출할 때 사용"
   ]
  },
  {
   "cell_type": "code",
   "execution_count": 44,
   "metadata": {},
   "outputs": [
    {
     "name": "stdout",
     "output_type": "stream",
     "text": [
      "aaron\n",
      "aaron\n"
     ]
    }
   ],
   "source": [
    "class Person(object):\n",
    "    def __init__(self, name):\n",
    "        self.name = name\n",
    "        print self.name\n",
    "\n",
    "class Student(Person):\n",
    "    pass\n",
    "\n",
    "p1 = Person('aaron')\n",
    "s1 = Student('aaron')"
   ]
  },
  {
   "cell_type": "code",
   "execution_count": 49,
   "metadata": {},
   "outputs": [
    {
     "name": "stdout",
     "output_type": "stream",
     "text": [
      "Dr.bob\n",
      "True\n",
      "False\n"
     ]
    }
   ],
   "source": [
    "class Person(object):\n",
    "    def __init__(self, name):\n",
    "        self.name = 'Dr.' + name\n",
    "        print self.name\n",
    "\n",
    "class Student(Person):\n",
    "    def __init__(self, name, email):\n",
    "        super(Student, self).__init__(name)\n",
    "        #self.name = name\n",
    "        self.email = email\n",
    "        \n",
    "\n",
    "class Student(Person):\n",
    "    def __init__(self, name, email):\n",
    "        self.name = name # 부모클래스에서 변경이 일어날 수 도 있다.\n",
    "        self.email = email\n",
    "\n",
    "p1 = Person('bob')\n",
    "s1 = Student('aaron', 'macmath22@gmail.com')\n",
    "\n",
    "print isinstance(s1, Person)   \n",
    "print isinstance(p1, Student)\n",
    "\n",
    "#print s1.name, s1.email\n",
    "#print p1.name, #p1.email"
   ]
  },
  {
   "cell_type": "markdown",
   "metadata": {},
   "source": [
    "* **self**\n",
    " - 파이썬의 method는 항상 첫번째 인자로 self를 전달\n",
    " - self는 현재 해당 메쏘드가 호출되는 객체 자신을 가리킴\n",
    " - C++/C#, Java의 this에 해당\n",
    " - 역시, 이름이 self일 필요는 없으나, 위치는 항상 맨 처음의 parameter이며 관례적으로 self로 사용"
   ]
  },
  {
   "cell_type": "code",
   "execution_count": 55,
   "metadata": {},
   "outputs": [
    {
     "name": "stdout",
     "output_type": "stream",
     "text": [
      "bob\n",
      "studying english for 10\n",
      "studying science for 10\n"
     ]
    }
   ],
   "source": [
    "class Person(object):\n",
    "    def __init__(self, name):\n",
    "        self.name = name\n",
    "        print self.name\n",
    "    \n",
    "    def study(self, hour):  #self 는 자동으로 인자를 주기 때문에, hour의 값만 주면된다.\n",
    "        self.study_english(hour)\n",
    "        self.study_science(hour)\n",
    "    \n",
    "    def study_english(self, hour):\n",
    "        print 'studying english for {}'.format(hour)\n",
    "    \n",
    "    def study_science(self, hour):\n",
    "        print 'studying science for {}'.format(hour)\n",
    "        \n",
    "p1 = Person('bob')\n",
    "p1.study(10)"
   ]
  },
  {
   "cell_type": "markdown",
   "metadata": {},
   "source": [
    "* **method type**\n",
    " - instance method - 객체로 호출\n",
    "   - 메쏘드는 객체 레벨로 호출 되기 때문에, 해당 메쏘드를 호출한 객체에만 영향을 미침\n",
    " - class method    - class로 호출\n",
    "       - 클래스 메쏘드의 경우, 클래스 레벨로 호출되기 때문에, 클래스 멤버 변수만 변경 가능\n"
   ]
  },
  {
   "cell_type": "code",
   "execution_count": 56,
   "metadata": {},
   "outputs": [
    {
     "name": "stdout",
     "output_type": "stream",
     "text": [
      "1\n",
      "2\n",
      "44\n",
      "3\n"
     ]
    }
   ],
   "source": [
    "class A(object):\n",
    "    \n",
    "    count = 0 # static member (class variable) - 모든 객체가 공유 하는 함수\n",
    "    \n",
    "    def __init__(self, cnt):\n",
    "        A.count += 1\n",
    "\n",
    "        self.cnt = cnt # member variable, attribute\n",
    "        \n",
    "    def print_cnt(self): # memeber function, method\n",
    "        print self.cnt\n",
    "        \n",
    "    @classmethod # class method, static function\n",
    "    def print_count(cls):\n",
    "        print cls.count\n",
    "        \n",
    "a1 = A(1)\n",
    "a2 = A(2)\n",
    "a3 = A(44)\n",
    "\n",
    "a1.print_cnt()\n",
    "a2.print_cnt()\n",
    "a3.print_cnt()\n",
    "\n",
    "A.print_count()"
   ]
  },
  {
   "cell_type": "markdown",
   "metadata": {},
   "source": [
    "* **Duck typing**\n",
    " - 다형성에 대한 느슨한 구현.\n",
    " - 클래스에 관계없이 같은 동작을 다른객체에 적용\n",
    " - 타입에 관계없이 같은 method를 구현한 것으로 다형성에 활용"
   ]
  },
  {
   "cell_type": "code",
   "execution_count": 57,
   "metadata": {},
   "outputs": [
    {
     "name": "stdout",
     "output_type": "stream",
     "text": [
      "aaron play baseball\n",
      "bob play baseball\n",
      "aaron play baseball\n",
      "sam play basketball\n",
      "knight play basketball\n",
      "bob play baseball\n",
      "mike play baseball\n",
      "tim play basketball\n"
     ]
    }
   ],
   "source": [
    "class BaseballPlayer(object):\n",
    "    def __init__(self, name):\n",
    "        self.name = name\n",
    "        \n",
    "    def play(self):\n",
    "        print self.name, 'play baseball'\n",
    "        \n",
    "class BasketballPlayer(object):\n",
    "    def __init__(self, name):\n",
    "        self.name = name\n",
    "        \n",
    "    def play(self):\n",
    "        print self.name, 'play basketball'\n",
    "\n",
    "        \n",
    "class Video(object):\n",
    "    def play(self):\n",
    "        print 'video played..'\n",
    "        \n",
    "b1 = BaseballPlayer('aaron')\n",
    "b2 = BaseballPlayer('bob')\n",
    "b3 = BaseballPlayer('mike')\n",
    "\n",
    "b11 = BasketballPlayer('sam')\n",
    "b12 = BasketballPlayer('knight')\n",
    "b13 = BasketballPlayer('tim')\n",
    "\n",
    "b1.play()\n",
    "b2.play()\n",
    "\n",
    "players = [b1, b11, b12, b2, b3, b13]\n",
    "\n",
    "for player in players:\n",
    "    player.play()\n",
    "        "
   ]
  }
 ],
 "metadata": {
  "kernelspec": {
   "display_name": "Python 2",
   "language": "python",
   "name": "python2"
  },
  "language_info": {
   "codemirror_mode": {
    "name": "ipython",
    "version": 3
   },
   "file_extension": ".py",
   "mimetype": "text/x-python",
   "name": "python",
   "nbconvert_exporter": "python",
   "pygments_lexer": "ipython3",
   "version": "3.6.2"
  }
 },
 "nbformat": 4,
 "nbformat_minor": 1
}
