{
 "cells": [
  {
   "cell_type": "markdown",
   "metadata": {},
   "source": [
    "## 학습목표\n",
    " 1. 수치해석 라이브러리인 numpy의 이해 및 사용\n",
    " 2. 데이터 분석 라이브러이인 pandas의 이해 및 사용"
   ]
  },
  {
   "cell_type": "markdown",
   "metadata": {},
   "source": [
    "## numpy\n",
    " - 파이썬의 대표적인 수치해석 라이브러리\n",
    " - 벡터, 행렬등의 최적화된 data structure와 다양한 연산 제공\n",
    " - 다른 많은 machine learnig, 혹은 data analysis 패키지들에서 많이 사용 됨"
   ]
  },
  {
   "cell_type": "markdown",
   "metadata": {},
   "source": [
    "* **numpy 모듈**\n",
    "  - 모듈 설치 \n",
    "    - pip install numpy\n",
    "  - 모듈 임포트\n",
    "    - import numpy as np (관례적으로 np 사용)"
   ]
  },
  {
   "cell_type": "code",
   "execution_count": 1,
   "metadata": {},
   "outputs": [
    {
     "name": "stdout",
     "output_type": "stream",
     "text": [
      "1.12.1\n"
     ]
    }
   ],
   "source": [
    "import numpy as np\n",
    "print np.__version__"
   ]
  },
  {
   "cell_type": "markdown",
   "metadata": {},
   "source": [
    "* **ndarray**\n",
    " - numpy의 기본 타입\n",
    " - n dimentional array를 의미\n",
    " - vector, matrix를 표현\n",
    " - numpy.array([])로 생성"
   ]
  },
  {
   "cell_type": "code",
   "execution_count": 2,
   "metadata": {},
   "outputs": [
    {
     "name": "stdout",
     "output_type": "stream",
     "text": [
      "[1 3 4 6] <type 'numpy.ndarray'>\n",
      "[[0 1 2]\n",
      " [2 4 6]] <type 'numpy.ndarray'>\n"
     ]
    }
   ],
   "source": [
    "arr1 = np.array([1, 3, 4, 6])\n",
    "arr2 = np.array([[0, 1, 2], [2, 4, 6]])\n",
    "\n",
    "print arr1, type(arr1)\n",
    "print arr2, type(arr2)"
   ]
  },
  {
   "cell_type": "markdown",
   "metadata": {},
   "source": [
    "* **arange**\n",
    " - 내장 함수 range()와 동일한 기능을 수행함\n",
    " - ndarray 반환"
   ]
  },
  {
   "cell_type": "code",
   "execution_count": 3,
   "metadata": {},
   "outputs": [
    {
     "name": "stdout",
     "output_type": "stream",
     "text": [
      "[ 1  2  3  4  5  6  7  8  9 10] <type 'numpy.ndarray'>\n"
     ]
    }
   ],
   "source": [
    "arr3 = np.arange(1, 11)\n",
    "print arr3, type(arr3)"
   ]
  },
  {
   "cell_type": "markdown",
   "metadata": {},
   "source": [
    "* **linspace**\n",
    " - start, end를 n개의 균일한 간격으로 분할"
   ]
  },
  {
   "cell_type": "code",
   "execution_count": 4,
   "metadata": {},
   "outputs": [
    {
     "name": "stdout",
     "output_type": "stream",
     "text": [
      "[ 0.   0.5  1.   1.5  2. ]\n"
     ]
    }
   ],
   "source": [
    "# 0 - 2의 범위를 5-1 등분 한다는 이야기\n",
    "arr4 = np.linspace(0, 2, 5)   # 0부터 2까지를 5개로 쪼개라! 등분은 n-1   /  그래프에서 축의 눈금을 표기할 때 많이 쓰임\n",
    "print arr4"
   ]
  },
  {
   "cell_type": "markdown",
   "metadata": {},
   "source": [
    "* **zeros**\n",
    " - 전달된 tuple 사이즈 행렬 반환\n",
    " - 0으로 채워짐"
   ]
  },
  {
   "cell_type": "code",
   "execution_count": 211,
   "metadata": {},
   "outputs": [
    {
     "name": "stdout",
     "output_type": "stream",
     "text": [
      "[[ 0.  0.  0.  0.]\n",
      " [ 0.  0.  0.  0.]]\n",
      "[ 0.  0.  0.  0.]\n",
      "[[ 0.  0.  0.  0.  0.]]\n"
     ]
    }
   ],
   "source": [
    "print np.zeros((2, 4))\n",
    "print np.zeros(4)\n",
    "\n",
    "print np.zeros((1,5))"
   ]
  },
  {
   "cell_type": "markdown",
   "metadata": {},
   "source": [
    "* **ones**\n",
    " - 전달된 tuple 사이즈 행렬 반환\n",
    " - 1로 채워짐"
   ]
  },
  {
   "cell_type": "code",
   "execution_count": 212,
   "metadata": {},
   "outputs": [
    {
     "name": "stdout",
     "output_type": "stream",
     "text": [
      "[[ 1.  1.  1.]\n",
      " [ 1.  1.  1.]\n",
      " [ 1.  1.  1.]]\n"
     ]
    }
   ],
   "source": [
    "print np.ones((3, 3))\n",
    "#print np.ones(3)"
   ]
  },
  {
   "cell_type": "markdown",
   "metadata": {},
   "source": [
    "* **random sub package**\n",
    "  - 다양한 확률 분포를 이용한 랜덤 숫자로 채워진 ndarray 혹은 단일 값을 생성할 때 주로 사용"
   ]
  },
  {
   "cell_type": "code",
   "execution_count": 213,
   "metadata": {},
   "outputs": [
    {
     "name": "stdout",
     "output_type": "stream",
     "text": [
      "[[ 0.53006936  0.52577183  0.08255839]\n",
      " [ 0.62897307  0.56691797  0.33074864]\n",
      " [ 0.75626652  0.08117131  0.88216942]]\n",
      "[ 0.82406109 -0.59774887  0.46740996]\n"
     ]
    }
   ],
   "source": [
    "print np.random.rand(3,3) # [0, 1) 사이 출력\n",
    "print np.random.randn(3) # 정규분포 , normal의 약자"
   ]
  },
  {
   "cell_type": "code",
   "execution_count": 216,
   "metadata": {
    "collapsed": true
   },
   "outputs": [],
   "source": [
    "a = np.random.rand()"
   ]
  },
  {
   "cell_type": "code",
   "execution_count": 217,
   "metadata": {},
   "outputs": [
    {
     "name": "stdout",
     "output_type": "stream",
     "text": [
      "0.423459918769\n"
     ]
    }
   ],
   "source": [
    "print a"
   ]
  },
  {
   "cell_type": "markdown",
   "metadata": {},
   "source": [
    "* ** seed ** \n",
    " - 실험, 분석 등을 할 때, 랜덤 값 생성 시, 해당 값을 추후에 또 사용해야 할 경우가 필요\n",
    " - 해당 경우에는 seed함수를 미리 호출하여 랜덤한 값을 동일 한 값으로 유지 할 수 있음\n",
    " - seed() 함수 호출 시, 정수를 전달"
   ]
  },
  {
   "cell_type": "code",
   "execution_count": 41,
   "metadata": {},
   "outputs": [
    {
     "name": "stdout",
     "output_type": "stream",
     "text": [
      "[[ 0.8488177   0.17889592  0.05436321]\n",
      " [ 0.36153845  0.27540093  0.53000022]]\n"
     ]
    }
   ],
   "source": [
    "np.random.seed(15)\n",
    "print np.random.rand(2,3)"
   ]
  },
  {
   "cell_type": "code",
   "execution_count": 36,
   "metadata": {},
   "outputs": [
    {
     "name": "stdout",
     "output_type": "stream",
     "text": [
      "0.548813503927\n",
      "0.435994902142\n"
     ]
    }
   ],
   "source": [
    "np.random.seed(0) # 랜덤한 값을 계속 유지하고 싶을 때 사용\n",
    "print np.random.rand()\n",
    "\n",
    "np.random.seed(2) # 랜덤한 값을 계속 유지하고 싶을 때 사용\n",
    "print np.random.rand()"
   ]
  },
  {
   "cell_type": "markdown",
   "metadata": {},
   "source": [
    "* **slicing**\n",
    " - 리스트, 문자열 slicing과 동일함\n",
    " - 단, ndarray의 차원이 높을 경우에는, 각 차원별로 slicing, indexing 가능"
   ]
  },
  {
   "cell_type": "code",
   "execution_count": 222,
   "metadata": {
    "collapsed": true
   },
   "outputs": [],
   "source": [
    "arr1 = np.array([1, 3, 4, 6])\n",
    "arr9 = np.array([[0, 1, 3], [2, 4, 6]])\n"
   ]
  },
  {
   "cell_type": "code",
   "execution_count": 228,
   "metadata": {
    "scrolled": true
   },
   "outputs": [
    {
     "name": "stdout",
     "output_type": "stream",
     "text": [
      "1\n",
      "[3 4]\n",
      "[[2 4 6]]\n"
     ]
    }
   ],
   "source": [
    "print arr1[0]\n",
    "print arr1[1:-1] # 차원이 줄지 않는다. 차원의 개념은 처음 만나는 대가로의 갯수 \n",
    "print arr9[1:, 0:]"
   ]
  },
  {
   "cell_type": "code",
   "execution_count": 2,
   "metadata": {},
   "outputs": [
    {
     "ename": "NameError",
     "evalue": "name 'arr2' is not defined",
     "output_type": "error",
     "traceback": [
      "\u001b[0;31m---------------------------------------------------------------------------\u001b[0m",
      "\u001b[0;31mNameError\u001b[0m                                 Traceback (most recent call last)",
      "\u001b[0;32m<ipython-input-2-eeb57dbc29c2>\u001b[0m in \u001b[0;36m<module>\u001b[0;34m()\u001b[0m\n\u001b[0;32m----> 1\u001b[0;31m \u001b[0;32mprint\u001b[0m \u001b[0marr2\u001b[0m\u001b[0;34m[\u001b[0m\u001b[0;36m0\u001b[0m\u001b[0;34m]\u001b[0m   \u001b[0;31m# 차원이 준다. 왜냐면 여러 차원 중 하나를 택하기 때문에.\u001b[0m\u001b[0;34m\u001b[0m\u001b[0m\n\u001b[0m\u001b[1;32m      2\u001b[0m \u001b[0;32mprint\u001b[0m \u001b[0marr2\u001b[0m\u001b[0;34m[\u001b[0m\u001b[0;36m0\u001b[0m\u001b[0;34m,\u001b[0m\u001b[0;36m1\u001b[0m\u001b[0;34m]\u001b[0m \u001b[0;31m# 조건이 추가 될 수록, 차원도 준다.\u001b[0m\u001b[0;34m\u001b[0m\u001b[0m\n\u001b[1;32m      3\u001b[0m \u001b[0;32mprint\u001b[0m \u001b[0marr2\u001b[0m\u001b[0;34m[\u001b[0m\u001b[0;36m1\u001b[0m\u001b[0;34m:\u001b[0m\u001b[0;34m,\u001b[0m \u001b[0;36m0\u001b[0m\u001b[0;34m:\u001b[0m\u001b[0;34m]\u001b[0m \u001b[0;31m# 슬라이싱은 차원을 유지한다. [ 행 : 열]\u001b[0m\u001b[0;34m\u001b[0m\u001b[0m\n\u001b[1;32m      4\u001b[0m \u001b[0;32mprint\u001b[0m \u001b[0marr2\u001b[0m\u001b[0;34m[\u001b[0m\u001b[0;36m1\u001b[0m\u001b[0;34m:\u001b[0m\u001b[0;34m,\u001b[0m \u001b[0;36m0\u001b[0m\u001b[0;34m]\u001b[0m \u001b[0;31m# 인덱싱과 슬라이싱을 동시에 하면, 차원이 준다.\u001b[0m\u001b[0;34m\u001b[0m\u001b[0m\n",
      "\u001b[0;31mNameError\u001b[0m: name 'arr2' is not defined"
     ]
    }
   ],
   "source": [
    "print arr2[0]   # 차원이 준다. 왜냐면 여러 차원 중 하나를 택하기 때문에.\n",
    "print arr2[0,1] # 조건이 추가 될 수록, 차원도 준다. \n",
    "print arr2[1:, 0:] # 슬라이싱은 차원을 유지한다. [ 행 : 열]\n",
    "print arr2[1:, 0] # 인덱싱과 슬라이싱을 동시에 하면, 차원이 준다. "
   ]
  },
  {
   "cell_type": "code",
   "execution_count": 231,
   "metadata": {},
   "outputs": [
    {
     "name": "stdout",
     "output_type": "stream",
     "text": [
      "[[0]\n",
      " [2]]\n"
     ]
    }
   ],
   "source": [
    "print arr9[:,:1]  "
   ]
  },
  {
   "cell_type": "markdown",
   "metadata": {},
   "source": [
    "* **Boolean selection**\n",
    "  - bool 리스트로 해당 값이 True인 조건만 필터링"
   ]
  },
  {
   "cell_type": "code",
   "execution_count": 58,
   "metadata": {},
   "outputs": [
    {
     "name": "stdout",
     "output_type": "stream",
     "text": [
      "[False  True  True  True False  True  True False]\n"
     ]
    }
   ],
   "source": [
    "arr = np.array([1,2,4,8,9,6,12,13])\n",
    "lst = [1,2,4,8,9,6,12,13]\n",
    "\n",
    "print arr % 2 == 0"
   ]
  },
  {
   "cell_type": "code",
   "execution_count": 61,
   "metadata": {},
   "outputs": [
    {
     "name": "stdout",
     "output_type": "stream",
     "text": [
      "[False  True  True  True False  True  True False]\n",
      "[ 2  4  8  6 12]\n",
      "[ 2  4  8  6 12]\n",
      "[1 4 9]\n",
      "[1]\n",
      "[ 8  9 12 13]\n"
     ]
    },
    {
     "name": "stderr",
     "output_type": "stream",
     "text": [
      "/usr/local/lib/python2.7/site-packages/ipykernel_launcher.py:10: VisibleDeprecationWarning: boolean index did not match indexed array along dimension 0; dimension is 8 but corresponding boolean dimension is 6\n",
      "  # Remove the CWD from sys.path while we load stuff.\n",
      "/usr/local/lib/python2.7/site-packages/ipykernel_launcher.py:13: VisibleDeprecationWarning: boolean index did not match indexed array along dimension 0; dimension is 8 but corresponding boolean dimension is 2\n",
      "  del sys.path[0]\n"
     ]
    }
   ],
   "source": [
    "#불린의 조건을 \n",
    "\n",
    "even_mask = (arr % 2 == 0)\n",
    "print even_mask\n",
    "\n",
    "print arr[even_mask] #even_mask의 True인 값만 가져옴\n",
    "\n",
    "print arr[arr % 2 == 0] \n",
    "\n",
    "print arr[[True, False, True, False, True, False]]\n",
    "\n",
    "# 개수가 맞지 않아도 가능은 함 (warning)\n",
    "print arr[[True, False]]\n",
    "\n",
    "print arr[arr>=7] #중복 조건 가능함, but, 'AND', 'OR'문자로 쓸수 없음. 기호로 써야함 AND = &, OR = | , NOT = !"
   ]
  },
  {
   "cell_type": "markdown",
   "metadata": {},
   "source": [
    "* **ndarray operations**\n",
    "  - scala와의 연산은 전체 원소에 대해 적용\n",
    "  - 다른 ndarray와의 연산은 element-wise로 적용"
   ]
  },
  {
   "cell_type": "code",
   "execution_count": 62,
   "metadata": {},
   "outputs": [
    {
     "name": "stdout",
     "output_type": "stream",
     "text": [
      "[ 5 10 15 20 25 30]\n"
     ]
    }
   ],
   "source": [
    "arr = np.arange(1, 7) * 5\n",
    "print arr"
   ]
  },
  {
   "cell_type": "code",
   "execution_count": 63,
   "metadata": {},
   "outputs": [
    {
     "name": "stdout",
     "output_type": "stream",
     "text": [
      "[   625  10000  50625 160000 390625 810000]\n",
      "[  25.  100.  225.  400.  625.  900.]\n"
     ]
    }
   ],
   "source": [
    "arr2 = arr ** 4\n",
    "print arr2\n",
    "print arr2 ** 0.5"
   ]
  },
  {
   "cell_type": "code",
   "execution_count": 235,
   "metadata": {},
   "outputs": [
    {
     "name": "stdout",
     "output_type": "stream",
     "text": [
      "[ 3  6  9 12 15 18 21 24 27 30] [ 1  2  3  4  5  6  7  8  9 10]\n",
      "[ 2  4  6  8 10 12 14 16 18 20]\n",
      "[  3  12  27  48  75 108 147 192 243 300]\n",
      "[  9  36  81 144 225 324 441 576 729 900]\n",
      "[  9  36  81 144 225 324 441 576 729 900]\n"
     ]
    }
   ],
   "source": [
    "arr1 = np.arange(0, 30, 3) + 3\n",
    "arr2 = np.arange(1, 11)\n",
    "print arr1, arr2\n",
    "\n",
    "print arr1 - arr2 # 각 원소들의 뺄셈\n",
    "print arr1 * arr2 # 각 원소들의 곱\n",
    "print arr1 * arr1 # 각 원소들의 제곱\n",
    "#print arr1 ^2 \n",
    "print arr1 ** 2 "
   ]
  },
  {
   "cell_type": "code",
   "execution_count": 236,
   "metadata": {},
   "outputs": [
    {
     "name": "stdout",
     "output_type": "stream",
     "text": [
      "[[6 2]\n",
      " [2 2]]\n",
      "[[8 8]\n",
      " [4 4]]\n"
     ]
    }
   ],
   "source": [
    "arr1 = np.array([[3, 1], [1, 1]]) # 행렬 2차원\n",
    "arr2 = np.array([[2, 2], [2, 2]])\n",
    "\n",
    "print arr1 * arr2  # 원소끼리의 곱\n",
    "print arr1.dot(arr2) # 행렬 곱 "
   ]
  },
  {
   "cell_type": "markdown",
   "metadata": {},
   "source": [
    "* **logical operator**\n",
    "  - all()\n",
    "    - 모든 원소가 조건을 만족 시키면 True, 아니면 False\n",
    "  - any()\n",
    "    - 어떤 원소라도 조건을 만족 시키면 True, 아니면 False"
   ]
  },
  {
   "cell_type": "code",
   "execution_count": 66,
   "metadata": {},
   "outputs": [
    {
     "name": "stdout",
     "output_type": "stream",
     "text": [
      "[[2 8 1 5]\n",
      " [8 6 4 7]\n",
      " [9 3 2 2]\n",
      " [1 6 3 3]]\n"
     ]
    }
   ],
   "source": [
    "arr = np.random.randint(1, 10, size = (4,4)) # 1부터 10까지 수에서 4BY4 행렬을 달라.\n",
    "print arr"
   ]
  },
  {
   "cell_type": "code",
   "execution_count": 243,
   "metadata": {},
   "outputs": [
    {
     "name": "stdout",
     "output_type": "stream",
     "text": [
      "[[1 3 7 5]\n",
      " [6 5 3 8]\n",
      " [7 4 8 8]\n",
      " [9 8 7 4]]\n"
     ]
    }
   ],
   "source": [
    "arr22 = np.random.randint(1,10,size=(4,4))\n",
    "print arr22\n"
   ]
  },
  {
   "cell_type": "code",
   "execution_count": 67,
   "metadata": {},
   "outputs": [
    {
     "name": "stdout",
     "output_type": "stream",
     "text": [
      "False\n"
     ]
    }
   ],
   "source": [
    "print np.all(arr < 7)"
   ]
  },
  {
   "cell_type": "code",
   "execution_count": 68,
   "metadata": {},
   "outputs": [
    {
     "name": "stdout",
     "output_type": "stream",
     "text": [
      "True\n"
     ]
    }
   ],
   "source": [
    "print np.any(arr % 7 == 0)"
   ]
  },
  {
   "cell_type": "markdown",
   "metadata": {},
   "source": [
    "* **ravel**\n",
    "  - 다차원배열을 1차원으로 늘이기"
   ]
  },
  {
   "cell_type": "code",
   "execution_count": 69,
   "metadata": {},
   "outputs": [
    {
     "name": "stdout",
     "output_type": "stream",
     "text": [
      "[[ 1  2  3  4  5]\n",
      " [10 11 12 13 14]]\n",
      "[ 1  2  3  4  5 10 11 12 13 14]\n"
     ]
    }
   ],
   "source": [
    "arr = np.array([np.arange(1, 6), np.arange(10, 15)])\n",
    "print arr\n",
    "print arr.ravel()"
   ]
  },
  {
   "cell_type": "markdown",
   "metadata": {},
   "source": [
    "* **reshaping**\n",
    " - array의 shape을 재정렬\n",
    " - 이때, 서로의 전체 원소 개수가 맞아야 가능"
   ]
  },
  {
   "cell_type": "code",
   "execution_count": 247,
   "metadata": {},
   "outputs": [
    {
     "name": "stdout",
     "output_type": "stream",
     "text": [
      "[ 1  2  3  4  5  6  7  8  9 10 11 12 13 14 15]\n",
      "[[ 1  2  3  4  5]\n",
      " [ 6  7  8  9 10]\n",
      " [11 12 13 14 15]]\n",
      "[ 1  2  3  4  5  6  7  8  9 10 11 12 13 14 15]\n"
     ]
    }
   ],
   "source": [
    "arr = np.arange(1, 16) # 벡터 값\n",
    "print arr\n",
    "\n",
    "arr2 = arr.reshape(3, 5) # 3 BY 5로 바꿔버림.\n",
    "print arr2\n",
    "print arr"
   ]
  },
  {
   "cell_type": "markdown",
   "metadata": {},
   "source": [
    "* **자주 쓰는 numpy 함수**"
   ]
  },
  {
   "cell_type": "code",
   "execution_count": 71,
   "metadata": {},
   "outputs": [
    {
     "name": "stdout",
     "output_type": "stream",
     "text": [
      "[ 1  2  3  4  5  6  7  8  9 10 11 12 13 14 15]\n",
      "1\n",
      "8.0\n",
      "8.0\n",
      "15\n",
      "4.32049379894\n",
      "0\n",
      "14\n",
      "120\n",
      "[ 1.          1.41421356  1.73205081  2.          2.23606798  2.44948974\n",
      "  2.64575131  2.82842712  3.          3.16227766  3.31662479  3.46410162\n",
      "  3.60555128  3.74165739  3.87298335]\n"
     ]
    }
   ],
   "source": [
    "print arr\n",
    "print np.min(arr)\n",
    "print np.mean(arr)\n",
    "print np.median(arr)\n",
    "print np.max(arr)\n",
    "print np.std(arr) # 분산\n",
    "print np.argmin(arr) # 제일 작은 값의 인덱스\n",
    "print np.argmax(arr) # 제일 큰 값의 인덱스\n",
    "print np.sum(arr) # 합\n",
    "print np.sqrt(arr) # 루트 "
   ]
  },
  {
   "cell_type": "markdown",
   "metadata": {},
   "source": [
    "* **axis** 차원의 축!\n",
    " - 몇몇 함수에는 axis keyword 파라미터가 존재\n",
    " - axis값이 없는 경우에는 전체 데이터에 대해 적용\n",
    " - axis값이 있는 경우에는, 해당 axis를 **따라서** 연산 적용"
   ]
  },
  {
   "cell_type": "code",
   "execution_count": 75,
   "metadata": {},
   "outputs": [
    {
     "name": "stdout",
     "output_type": "stream",
     "text": [
      "21\n"
     ]
    }
   ],
   "source": [
    "arr2 = np.array([[1,2,3],[4,5,6]])\n",
    "print np.sum(arr2)"
   ]
  },
  {
   "cell_type": "code",
   "execution_count": 76,
   "metadata": {},
   "outputs": [
    {
     "name": "stdout",
     "output_type": "stream",
     "text": [
      "6\n"
     ]
    }
   ],
   "source": [
    "# 1차원 적용\n",
    "arr2 = np.array([1, 2, 3])\n",
    "print np.sum(arr2, axis=0)"
   ]
  },
  {
   "cell_type": "code",
   "execution_count": 80,
   "metadata": {},
   "outputs": [
    {
     "name": "stdout",
     "output_type": "stream",
     "text": [
      "[[1 2 3]\n",
      " [4 5 6]]\n"
     ]
    }
   ],
   "source": [
    "arr2 = np.array([[1, 2, 3], [4, 5, 6]])\n",
    "print arr2"
   ]
  },
  {
   "cell_type": "code",
   "execution_count": 77,
   "metadata": {},
   "outputs": [
    {
     "name": "stdout",
     "output_type": "stream",
     "text": [
      "[5 7 9]\n",
      "[ 6 15]\n"
     ]
    }
   ],
   "source": [
    "# 2차원 적용\n",
    "arr2 = np.array([[1, 2, 3], [4, 5, 6]])\n",
    "print np.sum(arr2, axis=0) # 행 따라 간다\n",
    "print np.sum(arr2, axis=1) # 열 따라 간다."
   ]
  },
  {
   "cell_type": "code",
   "execution_count": 84,
   "metadata": {
    "scrolled": true
   },
   "outputs": [
    {
     "name": "stdout",
     "output_type": "stream",
     "text": [
      "[[2 3 4]\n",
      " [6 7 8]]\n",
      "[[5 7 9]\n",
      " [3 3 3]]\n",
      "[[ 6 15]\n",
      " [ 3  6]]\n"
     ]
    }
   ],
   "source": [
    "# 3차원 적용 - 앞 뒤 축이 하나 생김\n",
    "arr2 = np.array([[[1, 2, 3], [4, 5, 6]], [[1, 1, 1], [2, 2, 2]]] )\n",
    "#2 by 3 행렬 2개가 앞 뒤로 있는 3차원 행렬\n",
    "\n",
    "#arr 좌표\n",
    "#(0,0,0), (0,0,1) (0,0,2)\n",
    "#(0,1,0), (0,1,1) (0,1,2)\n",
    "#(0,2,0), (0,2,1) (0,2,2)\n",
    "\n",
    "\n",
    "print np.sum(arr2, axis=0)\n",
    "print np.sum(arr2, axis=1)\n",
    "print np.sum(arr2, axis=2)"
   ]
  },
  {
   "cell_type": "markdown",
   "metadata": {},
   "source": [
    "* **pandas**\n",
    "  - http://pandas.pydata.org/\n",
    "  - Opensource python 고성능 데이터 분석 라이브러리\n",
    "  - DataFrame, Series 객체가 가장 많이 사용\n",
    "  - ML library인 scikit-learn과 함께 ML 분석에 많이 사용 됨\n",
    "  - pip install pandas로 설치\n",
    "  - 관례적으로 pd 로 임포트"
   ]
  },
  {
   "cell_type": "code",
   "execution_count": 87,
   "metadata": {
    "collapsed": true
   },
   "outputs": [],
   "source": [
    "import numpy as np   # 수치해석\n",
    "import pandas as pd  # 파이썬의 엑셀"
   ]
  },
  {
   "cell_type": "markdown",
   "metadata": {},
   "source": [
    " * **Series**  #인데스와 값이 있는 것 = dict\n",
    "  - pandas의 기본 객체 중 하나\n",
    "  - numpy의 ndarray를 기반으로 인덱싱을 기능을 추가하여 1차원 배열을 나타냄\n",
    "  - index를 지정하지 않을 시, 기본적으로 ndarray와 같이 0-based 인덱스 생성\n",
    "  - 같은 타입의 0개 이상의 데이터를 가질 수 있음"
   ]
  },
  {
   "cell_type": "code",
   "execution_count": 89,
   "metadata": {},
   "outputs": [
    {
     "name": "stdout",
     "output_type": "stream",
     "text": [
      "0     1\n",
      "1     2\n",
      "2    20\n",
      "dtype: int64\n"
     ]
    }
   ],
   "source": [
    "s1 = pd.Series([1,2,20])\n",
    "print s1"
   ]
  },
  {
   "cell_type": "code",
   "execution_count": 90,
   "metadata": {},
   "outputs": [
    {
     "name": "stdout",
     "output_type": "stream",
     "text": [
      "1\n"
     ]
    }
   ],
   "source": [
    "print s1[0]"
   ]
  },
  {
   "cell_type": "code",
   "execution_count": 91,
   "metadata": {},
   "outputs": [
    {
     "name": "stdout",
     "output_type": "stream",
     "text": [
      "0    1\n",
      "1    2\n",
      "2    3\n",
      "3    4\n",
      "4    5\n",
      "dtype: int64\n"
     ]
    }
   ],
   "source": [
    "s2 = pd.Series(range(1, 6))\n",
    "print s2"
   ]
  },
  {
   "cell_type": "markdown",
   "metadata": {},
   "source": [
    " * **값 및 인덱스 접근**\n",
    "  - 각가 values, index 속성"
   ]
  },
  {
   "cell_type": "code",
   "execution_count": 92,
   "metadata": {},
   "outputs": [
    {
     "name": "stdout",
     "output_type": "stream",
     "text": [
      "[1 2 3 4 5]\n"
     ]
    }
   ],
   "source": [
    "print s2.values"
   ]
  },
  {
   "cell_type": "code",
   "execution_count": 93,
   "metadata": {},
   "outputs": [
    {
     "name": "stdout",
     "output_type": "stream",
     "text": [
      "RangeIndex(start=0, stop=5, step=1)\n"
     ]
    }
   ],
   "source": [
    "print s2.index"
   ]
  },
  {
   "cell_type": "markdown",
   "metadata": {},
   "source": [
    "* **index 지정하기**"
   ]
  },
  {
   "cell_type": "code",
   "execution_count": 94,
   "metadata": {},
   "outputs": [
    {
     "name": "stdout",
     "output_type": "stream",
     "text": [
      "a    1\n",
      "b    2\n",
      "c    3\n",
      "dtype: int64\n",
      "\n",
      "[1 2 3]\n",
      "\n",
      "Index([u'a', u'b', u'c'], dtype='object')\n"
     ]
    }
   ],
   "source": [
    "s3 = pd.Series(range(1, 4), index = ['a', 'b', 'c']) # 인데스를 지정할 수 있다. range함수 이용하여 원하는 숫자로 인데스 설정을 할 수 있다. \n",
    "print s3\n",
    "print\n",
    "print s3.values\n",
    "print\n",
    "print s3.index\n",
    "\n",
    "# 알파벳순으로 나오가 하기 _ chr(i) for in in range(97, 100)"
   ]
  },
  {
   "cell_type": "code",
   "execution_count": 95,
   "metadata": {},
   "outputs": [
    {
     "name": "stdout",
     "output_type": "stream",
     "text": [
      "2\n",
      "3\n"
     ]
    }
   ],
   "source": [
    "print s3[1] # 기본 인덱스  #인덱스가 2개가 된다.\n",
    "print s3['c'] "
   ]
  },
  {
   "cell_type": "markdown",
   "metadata": {},
   "source": [
    "* **index 재사용**"
   ]
  },
  {
   "cell_type": "code",
   "execution_count": 96,
   "metadata": {},
   "outputs": [
    {
     "name": "stdout",
     "output_type": "stream",
     "text": [
      "a    2\n",
      "b    2\n",
      "c    2\n",
      "dtype: int64\n"
     ]
    }
   ],
   "source": [
    "s4 = pd.Series(2, index = s3.index) \n",
    "print s4"
   ]
  },
  {
   "cell_type": "code",
   "execution_count": 97,
   "metadata": {},
   "outputs": [
    {
     "name": "stdout",
     "output_type": "stream",
     "text": [
      "0    0.251747\n",
      "1    1.121979\n",
      "2   -0.845026\n",
      "3   -1.354108\n",
      "4   -1.140946\n",
      "dtype: float64\n"
     ]
    }
   ],
   "source": [
    "s5 = pd.Series(np.random.randn(5))\n",
    "print s5"
   ]
  },
  {
   "cell_type": "code",
   "execution_count": 260,
   "metadata": {},
   "outputs": [
    {
     "name": "stdout",
     "output_type": "stream",
     "text": [
      "0    1\n",
      "1    2\n",
      "2    3\n",
      "3    4\n",
      "4    5\n",
      "5    6\n",
      "6    7\n",
      "7    8\n",
      "dtype: int64\n"
     ]
    }
   ],
   "source": [
    "s6 = pd.Series(np.arange(1, 9))\n",
    "print s6"
   ]
  },
  {
   "cell_type": "code",
   "execution_count": null,
   "metadata": {
    "collapsed": true
   },
   "outputs": [],
   "source": [
    "s7 = pd.Series({'a' : 100, 'b' : 1000, 'c' : 2, 'd' : 6})\n",
    "print s7\n",
    "print s7['b']"
   ]
  },
  {
   "cell_type": "markdown",
   "metadata": {},
   "source": [
    "* **Series size, shape, unique, count, value_counts**\n",
    " - size : 개수 반환\n",
    " - shape : 튜플형태로 shape반환\n",
    " - unique: 유일한 값만 ndarray로 반환\n",
    " - count : NaN을 제외한 개수를 반환 / not a number 숫자가 아닌 것\n",
    " - value_counts: NaN을 제외하고 각 값들의 빈도를 반환 "
   ]
  },
  {
   "cell_type": "code",
   "execution_count": 98,
   "metadata": {
    "scrolled": true
   },
   "outputs": [
    {
     "name": "stdout",
     "output_type": "stream",
     "text": [
      "0    0.0\n",
      "1    1.0\n",
      "2    1.0\n",
      "3    2.0\n",
      "4    3.0\n",
      "5    4.0\n",
      "6    5.0\n",
      "7    6.0\n",
      "8    7.0\n",
      "9    NaN\n",
      "dtype: float64\n"
     ]
    }
   ],
   "source": [
    "s = pd.Series([0, 1, 1, 2, 3, 4, 5, 6, 7, np.nan])\n",
    "print s"
   ]
  },
  {
   "cell_type": "code",
   "execution_count": 99,
   "metadata": {},
   "outputs": [
    {
     "name": "stdout",
     "output_type": "stream",
     "text": [
      "10\n"
     ]
    }
   ],
   "source": [
    "print len(s)"
   ]
  },
  {
   "cell_type": "code",
   "execution_count": 100,
   "metadata": {},
   "outputs": [
    {
     "name": "stdout",
     "output_type": "stream",
     "text": [
      "10\n"
     ]
    }
   ],
   "source": [
    "print s.size"
   ]
  },
  {
   "cell_type": "code",
   "execution_count": 101,
   "metadata": {},
   "outputs": [
    {
     "name": "stdout",
     "output_type": "stream",
     "text": [
      "(10,)\n"
     ]
    }
   ],
   "source": [
    "print s.shape"
   ]
  },
  {
   "cell_type": "code",
   "execution_count": 102,
   "metadata": {},
   "outputs": [
    {
     "name": "stdout",
     "output_type": "stream",
     "text": [
      "9\n"
     ]
    }
   ],
   "source": [
    "print s.count() # NaN을 제외한 값을 카운팅"
   ]
  },
  {
   "cell_type": "code",
   "execution_count": 103,
   "metadata": {},
   "outputs": [
    {
     "name": "stdout",
     "output_type": "stream",
     "text": [
      "[  0.   1.   2.   3.   4.   5.   6.   7.  nan]\n"
     ]
    }
   ],
   "source": [
    "print s.unique()"
   ]
  },
  {
   "cell_type": "code",
   "execution_count": 104,
   "metadata": {},
   "outputs": [
    {
     "name": "stdout",
     "output_type": "stream",
     "text": [
      "1.0    2\n",
      "7.0    1\n",
      "6.0    1\n",
      "5.0    1\n",
      "4.0    1\n",
      "3.0    1\n",
      "2.0    1\n",
      "0.0    1\n",
      "dtype: int64\n"
     ]
    }
   ],
   "source": [
    "print s.value_counts() # NaN 제외하고 값들의 빈도를 카운팅 함  #데이타 분석시 많이 사용함."
   ]
  },
  {
   "cell_type": "markdown",
   "metadata": {},
   "source": [
    "* **head, tail, take**\n",
    " - head : 상위 n개 출력 기본 5개\n",
    " - tail : 하위 n개 출력 기본 5개\n",
    " - take : 주어진 인덱스 리스트와 매칭되는 원소만 추출"
   ]
  },
  {
   "cell_type": "code",
   "execution_count": 105,
   "metadata": {},
   "outputs": [
    {
     "data": {
      "text/plain": [
       "0    0.0\n",
       "1    1.0\n",
       "2    1.0\n",
       "3    2.0\n",
       "4    3.0\n",
       "dtype: float64"
      ]
     },
     "execution_count": 105,
     "metadata": {},
     "output_type": "execute_result"
    }
   ],
   "source": [
    "s.head() # 상위 5개 출력"
   ]
  },
  {
   "cell_type": "code",
   "execution_count": 106,
   "metadata": {},
   "outputs": [
    {
     "data": {
      "text/plain": [
       "0    0.0\n",
       "1    1.0\n",
       "2    1.0\n",
       "dtype: float64"
      ]
     },
     "execution_count": 106,
     "metadata": {},
     "output_type": "execute_result"
    }
   ],
   "source": [
    "s.head(n = 3)"
   ]
  },
  {
   "cell_type": "code",
   "execution_count": 107,
   "metadata": {},
   "outputs": [
    {
     "data": {
      "text/plain": [
       "5    4.0\n",
       "6    5.0\n",
       "7    6.0\n",
       "8    7.0\n",
       "9    NaN\n",
       "dtype: float64"
      ]
     },
     "execution_count": 107,
     "metadata": {},
     "output_type": "execute_result"
    }
   ],
   "source": [
    "s.tail()"
   ]
  },
  {
   "cell_type": "code",
   "execution_count": 108,
   "metadata": {},
   "outputs": [
    {
     "data": {
      "text/plain": [
       "8    7.0\n",
       "9    NaN\n",
       "dtype: float64"
      ]
     },
     "execution_count": 108,
     "metadata": {},
     "output_type": "execute_result"
    }
   ],
   "source": [
    "s.tail(n = 2)"
   ]
  },
  {
   "cell_type": "code",
   "execution_count": 109,
   "metadata": {},
   "outputs": [
    {
     "name": "stdout",
     "output_type": "stream",
     "text": [
      "0    0.0\n",
      "1    1.0\n",
      "2    1.0\n",
      "3    2.0\n",
      "4    3.0\n",
      "5    4.0\n",
      "6    5.0\n",
      "7    6.0\n",
      "8    7.0\n",
      "9    NaN\n",
      "dtype: float64\n",
      "\n",
      "0    0.0\n",
      "4    3.0\n",
      "3    2.0\n",
      "9    NaN\n",
      "dtype: float64\n"
     ]
    }
   ],
   "source": [
    "print s\n",
    "print \n",
    "print s.take([0, 4, 3, 9])  #인데스 기준 값 호출"
   ]
  },
  {
   "cell_type": "code",
   "execution_count": null,
   "metadata": {
    "collapsed": true
   },
   "outputs": [],
   "source": [
    "s = pd.Series(np.arange(1, 4), index = ['x', 'y', 'z'])\n",
    "s.take([0, 2])\n",
    "#s.take(['x', 'z']) #0 - based index만 가능"
   ]
  },
  {
   "cell_type": "markdown",
   "metadata": {},
   "source": [
    " * **single value accessing**\n",
    "  - 인덱스를 이용하여 값 접근 가능\n",
    "  - 문자열 인덱스가 주어진 경우, 0-based index도 사용 가능\n",
    "  "
   ]
  },
  {
   "cell_type": "code",
   "execution_count": null,
   "metadata": {
    "collapsed": true
   },
   "outputs": [],
   "source": [
    "print s['x'] # 인덱스로 가능"
   ]
  },
  {
   "cell_type": "code",
   "execution_count": 110,
   "metadata": {},
   "outputs": [
    {
     "name": "stdout",
     "output_type": "stream",
     "text": [
      "1.0\n"
     ]
    }
   ],
   "source": [
    "print s[1] # 숫자 인덱스도 가능"
   ]
  },
  {
   "cell_type": "code",
   "execution_count": 112,
   "metadata": {},
   "outputs": [
    {
     "name": "stdout",
     "output_type": "stream",
     "text": [
      "1\n",
      "2\n"
     ]
    }
   ],
   "source": [
    "s = pd.Series(np.arange(1, 4), index = [100, 101, 102])\n",
    "print s[100]\n",
    "print s[101] # 에러"
   ]
  },
  {
   "cell_type": "markdown",
   "metadata": {},
   "source": [
    "* **multiple values accessing**\n",
    " - 인덱스 리스트, ndarray로 여러 값에 접근 가능"
   ]
  },
  {
   "cell_type": "code",
   "execution_count": 114,
   "metadata": {},
   "outputs": [
    {
     "name": "stdout",
     "output_type": "stream",
     "text": [
      "100    1\n",
      "101    2\n",
      "102    3\n",
      "dtype: int64\n",
      "100    1.0\n",
      "102    3.0\n",
      "103    NaN\n",
      "dtype: float64\n"
     ]
    }
   ],
   "source": [
    "print s\n",
    "print s[[100, 102,103]]  # take 같은 기능.  #복수의 값을 호출하려면, 꼭 리스트로 만들어야 한다."
   ]
  },
  {
   "cell_type": "markdown",
   "metadata": {},
   "source": [
    "* **loc , iloc**\n",
    "  - loc[] : index로 값 접근\n",
    "  - iloc[] : 0 based index로 값 접근"
   ]
  },
  {
   "cell_type": "code",
   "execution_count": 115,
   "metadata": {},
   "outputs": [
    {
     "name": "stdout",
     "output_type": "stream",
     "text": [
      "100    1\n",
      "101    2\n",
      "102    3\n",
      "dtype: int64\n"
     ]
    }
   ],
   "source": [
    "print s"
   ]
  },
  {
   "cell_type": "code",
   "execution_count": 119,
   "metadata": {},
   "outputs": [
    {
     "name": "stdout",
     "output_type": "stream",
     "text": [
      "1\n"
     ]
    }
   ],
   "source": [
    "print s.loc[100] #지정 index사용 / 슬라이싱도 가능\n"
   ]
  },
  {
   "cell_type": "code",
   "execution_count": 117,
   "metadata": {},
   "outputs": [
    {
     "name": "stdout",
     "output_type": "stream",
     "text": [
      "1\n"
     ]
    }
   ],
   "source": [
    "print s.iloc[0] #0 base index사용 / ㅅ슬라이싱도 가능"
   ]
  },
  {
   "cell_type": "code",
   "execution_count": 122,
   "metadata": {},
   "outputs": [
    {
     "name": "stdout",
     "output_type": "stream",
     "text": [
      "100    1\n",
      "102    3\n",
      "dtype: int64\n"
     ]
    }
   ],
   "source": [
    "print s.loc[[100, 102]] # 100번째, 102번째"
   ]
  },
  {
   "cell_type": "code",
   "execution_count": 121,
   "metadata": {},
   "outputs": [
    {
     "name": "stdout",
     "output_type": "stream",
     "text": [
      "100    1\n",
      "102    3\n",
      "dtype: int64\n"
     ]
    }
   ],
   "source": [
    "print s.iloc[[0, 2]] #0번째, 2번째"
   ]
  },
  {
   "cell_type": "code",
   "execution_count": 120,
   "metadata": {},
   "outputs": [
    {
     "data": {
      "text/plain": [
       "100    1.0\n",
       "102    3.0\n",
       "104    NaN\n",
       "105    NaN\n",
       "dtype: float64"
      ]
     },
     "execution_count": 120,
     "metadata": {},
     "output_type": "execute_result"
    }
   ],
   "source": [
    "s.loc[[100, 102, 104, 105]]"
   ]
  },
  {
   "cell_type": "code",
   "execution_count": 124,
   "metadata": {},
   "outputs": [
    {
     "data": {
      "text/plain": [
       "100    1\n",
       "102    3\n",
       "101    2\n",
       "dtype: int64"
      ]
     },
     "execution_count": 124,
     "metadata": {},
     "output_type": "execute_result"
    }
   ],
   "source": [
    "# 에러 발생\n",
    "# 인덱스 4가 없기 때문\n",
    "s.iloc[[0, 2, 1]] "
   ]
  },
  {
   "cell_type": "markdown",
   "metadata": {},
   "source": [
    "* **index를 기준으로 더하기**"
   ]
  },
  {
   "cell_type": "code",
   "execution_count": 262,
   "metadata": {},
   "outputs": [
    {
     "name": "stdout",
     "output_type": "stream",
     "text": [
      "a    1\n",
      "b    2\n",
      "c    3\n",
      "d    4\n",
      "dtype: int64\n"
     ]
    }
   ],
   "source": [
    "s1 = pd.Series([1, 2, 3, 4], index=['a', 'b', 'c', 'd'])\n",
    "print s1"
   ]
  },
  {
   "cell_type": "code",
   "execution_count": 261,
   "metadata": {},
   "outputs": [
    {
     "name": "stdout",
     "output_type": "stream",
     "text": [
      "d    4\n",
      "e    3\n",
      "b    2\n",
      "a    1\n",
      "dtype: int64\n"
     ]
    }
   ],
   "source": [
    "s2 = pd.Series([4, 3, 2, 1], index=['d', 'e', 'b', 'a'])\n",
    "print s2"
   ]
  },
  {
   "cell_type": "code",
   "execution_count": 263,
   "metadata": {},
   "outputs": [
    {
     "name": "stdout",
     "output_type": "stream",
     "text": [
      "a    2.0\n",
      "b    4.0\n",
      "c    NaN\n",
      "d    8.0\n",
      "e    NaN\n",
      "dtype: float64\n"
     ]
    }
   ],
   "source": [
    "print s1 + s2"
   ]
  },
  {
   "cell_type": "code",
   "execution_count": 128,
   "metadata": {},
   "outputs": [
    {
     "data": {
      "text/plain": [
       "array([5, 5, 5, 5])"
      ]
     },
     "execution_count": 128,
     "metadata": {},
     "output_type": "execute_result"
    }
   ],
   "source": [
    "a1 = np.array([1, 2, 3, 4])\n",
    "a2 = np.array([4, 3, 2, 1])\n",
    "a1 + a2  #논파이는 차례대로 더하고 // 시리즈는 지정된 인덱스끼리 더한다. "
   ]
  },
  {
   "cell_type": "markdown",
   "metadata": {},
   "source": [
    "* **산술연산**\n",
    " - Series의 경우에도 스칼라와의 연산은 각 원소별로 스칼라와의 연산이 적용\n",
    " - Series와의 연산은 각 인덱스에 맞는 값끼리 연산이 적용\n",
    "   - 이때, 인덱스의 pair가 맞지 않으면, 결과는 NaN "
   ]
  },
  {
   "cell_type": "code",
   "execution_count": 130,
   "metadata": {},
   "outputs": [
    {
     "name": "stdout",
     "output_type": "stream",
     "text": [
      "a    1\n",
      "b    2\n",
      "c    3\n",
      "d    4\n",
      "dtype: int64\n"
     ]
    }
   ],
   "source": [
    "print s1"
   ]
  },
  {
   "cell_type": "code",
   "execution_count": 131,
   "metadata": {},
   "outputs": [
    {
     "name": "stdout",
     "output_type": "stream",
     "text": [
      "a     1\n",
      "b     4\n",
      "c     9\n",
      "d    16\n",
      "dtype: int64\n",
      "a    1\n",
      "b    2\n",
      "c    3\n",
      "d    4\n",
      "dtype: int64\n"
     ]
    }
   ],
   "source": [
    "print s1 ** 2\n",
    "print s1"
   ]
  },
  {
   "cell_type": "code",
   "execution_count": 129,
   "metadata": {},
   "outputs": [
    {
     "name": "stdout",
     "output_type": "stream",
     "text": [
      "a     1\n",
      "b     4\n",
      "c     9\n",
      "d    16\n",
      "dtype: int64\n"
     ]
    }
   ],
   "source": [
    "exp = pd.Series(2, s1.index)\n",
    "print s1 ** exp"
   ]
  },
  {
   "cell_type": "code",
   "execution_count": 132,
   "metadata": {},
   "outputs": [
    {
     "name": "stdout",
     "output_type": "stream",
     "text": [
      "a     NaN\n",
      "b     8.0\n",
      "c    10.0\n",
      "d    14.0\n",
      "e     NaN\n",
      "dtype: float64\n"
     ]
    }
   ],
   "source": [
    "s1 = pd.Series({'a': 1, 'b': 2, 'c': 3, 'd': 5})\n",
    "s2 = pd.Series({'b': 6, 'c': 7, 'd': 9, 'e': 10})\n",
    "\n",
    "print s1 + s2\n",
    "\n",
    "# 일치하는 인덱스가 없는 경우 NaN표시"
   ]
  },
  {
   "cell_type": "markdown",
   "metadata": {},
   "source": [
    " * **NaN (Not a Number)**\n",
    "  - numpy와 비교"
   ]
  },
  {
   "cell_type": "code",
   "execution_count": 134,
   "metadata": {},
   "outputs": [
    {
     "data": {
      "text/plain": [
       "3.0"
      ]
     },
     "execution_count": 134,
     "metadata": {},
     "output_type": "execute_result"
    }
   ],
   "source": [
    "nda = np.array([1, 2, 3, 4, 5])\n",
    "nda.mean() \n",
    "np.mean(nda)"
   ]
  },
  {
   "cell_type": "code",
   "execution_count": 133,
   "metadata": {},
   "outputs": [
    {
     "data": {
      "text/plain": [
       "nan"
      ]
     },
     "execution_count": 133,
     "metadata": {},
     "output_type": "execute_result"
    }
   ],
   "source": [
    "nda = np.array([1, 2, 3, 4, np.NaN])\n",
    "nda.mean() #nan을 걸러내지 못함."
   ]
  },
  {
   "cell_type": "code",
   "execution_count": 135,
   "metadata": {},
   "outputs": [
    {
     "name": "stdout",
     "output_type": "stream",
     "text": [
      "2.5\n",
      "nan\n"
     ]
    }
   ],
   "source": [
    "s = pd.Series([1, 2, 3, 4, np.NaN])\n",
    "print s.mean() #nan 빼고 계산한다. \n",
    "print s.mean(skipna=False)"
   ]
  },
  {
   "cell_type": "markdown",
   "metadata": {},
   "source": [
    " * **Boolean selection**\n",
    "  - boolean Series가 []와 함께 사용되면 True 값에 해당하는 값만 새로 반환되는 Series객체에 포함됨"
   ]
  },
  {
   "cell_type": "code",
   "execution_count": 136,
   "metadata": {},
   "outputs": [
    {
     "name": "stdout",
     "output_type": "stream",
     "text": [
      "5    6\n",
      "6    7\n",
      "7    8\n",
      "8    9\n",
      "dtype: int64\n"
     ]
    }
   ],
   "source": [
    "s = pd.Series(np.arange(1, 10))\n",
    "s > 5\n",
    "print s[s > 5]"
   ]
  },
  {
   "cell_type": "code",
   "execution_count": null,
   "metadata": {
    "collapsed": true
   },
   "outputs": [],
   "source": [
    "my_logic = s > 5\n",
    "print s[my_logic]"
   ]
  },
  {
   "cell_type": "code",
   "execution_count": 137,
   "metadata": {},
   "outputs": [
    {
     "name": "stdout",
     "output_type": "stream",
     "text": [
      "5    6\n",
      "6    7\n",
      "7    8\n",
      "8    9\n",
      "dtype: int64\n"
     ]
    }
   ],
   "source": [
    "print s[s > 5]\n",
    "# 대부분 간소화 하여 사용!"
   ]
  },
  {
   "cell_type": "code",
   "execution_count": 141,
   "metadata": {},
   "outputs": [
    {
     "name": "stdout",
     "output_type": "stream",
     "text": [
      "5    6\n",
      "6    7\n",
      "dtype: int64\n"
     ]
    }
   ],
   "source": [
    "#print s > 5 and s < 8\n",
    "#print s[s > 5 and s < 8]\n",
    "print s[(s > 5) & (s < 8)] # & and , | or  #문자가 아닌 기호로만 가능!!!"
   ]
  },
  {
   "cell_type": "code",
   "execution_count": 138,
   "metadata": {},
   "outputs": [
    {
     "name": "stdout",
     "output_type": "stream",
     "text": [
      "True\n",
      "False\n"
     ]
    }
   ],
   "source": [
    "print (s >= 0).all()\n",
    "print (s >= 2).all()"
   ]
  },
  {
   "cell_type": "code",
   "execution_count": 139,
   "metadata": {},
   "outputs": [
    {
     "name": "stdout",
     "output_type": "stream",
     "text": [
      "True\n",
      "True\n"
     ]
    }
   ],
   "source": [
    "print (s < 2).any()\n",
    "print s[s < 2].any()"
   ]
  },
  {
   "cell_type": "code",
   "execution_count": 140,
   "metadata": {},
   "outputs": [
    {
     "name": "stdout",
     "output_type": "stream",
     "text": [
      "0    1\n",
      "1    2\n",
      "2    3\n",
      "3    4\n",
      "4    5\n",
      "5    6\n",
      "6    7\n",
      "7    8\n",
      "8    9\n",
      "dtype: int64\n",
      "\n",
      "24\n",
      "3\n"
     ]
    }
   ],
   "source": [
    "print s\n",
    "print \n",
    "print s[s >= 7].sum() # 7보다 큰 수들의 합!\n",
    "print (s >= 7).sum()"
   ]
  },
  {
   "cell_type": "markdown",
   "metadata": {},
   "source": [
    "* **Series 값 변경**\n",
    "  - 인덱스를 이용하여 변경  \n"
   ]
  },
  {
   "cell_type": "code",
   "execution_count": 142,
   "metadata": {},
   "outputs": [
    {
     "name": "stdout",
     "output_type": "stream",
     "text": [
      "a       1\n",
      "b      10\n",
      "c     100\n",
      "d    1000\n",
      "dtype: int64\n",
      "a        1\n",
      "b       10\n",
      "c      100\n",
      "d    10000\n",
      "dtype: int64\n"
     ]
    }
   ],
   "source": [
    "s = pd.Series([1, 10, 100], index = ['a', 'b', 'c'])\n",
    "s['d'] = 1000\n",
    "\n",
    "print s\n",
    "\n",
    "#키가 없는 경우 값 추가\n",
    "\n",
    "s['d'] = 10000\n",
    "print s\n",
    "\n",
    "#키가 있는 경우 값 변경"
   ]
  },
  {
   "cell_type": "code",
   "execution_count": 143,
   "metadata": {},
   "outputs": [
    {
     "name": "stdout",
     "output_type": "stream",
     "text": [
      "b       10\n",
      "c      100\n",
      "d    10000\n",
      "dtype: int64\n"
     ]
    }
   ],
   "source": [
    "del s['a']\n",
    "print s\n",
    "\n",
    "#del함수 사용하여 지움"
   ]
  },
  {
   "cell_type": "markdown",
   "metadata": {},
   "source": [
    "* **Slicing**\n",
    " - 리스트, ndarray와 동일하게 적용"
   ]
  },
  {
   "cell_type": "code",
   "execution_count": 144,
   "metadata": {},
   "outputs": [
    {
     "data": {
      "text/plain": [
       "10000    1\n",
       "10       1\n",
       "100      1\n",
       "dtype: int64"
      ]
     },
     "execution_count": 144,
     "metadata": {},
     "output_type": "execute_result"
    }
   ],
   "source": [
    "s.value_counts()"
   ]
  },
  {
   "cell_type": "code",
   "execution_count": 145,
   "metadata": {},
   "outputs": [
    {
     "name": "stdout",
     "output_type": "stream",
     "text": [
      "10    100\n",
      "11    101\n",
      "12    102\n",
      "13    103\n",
      "14    104\n",
      "15    105\n",
      "16    106\n",
      "17    107\n",
      "18    108\n",
      "19    109\n",
      "dtype: int64\n",
      "10    100\n",
      "11    101\n",
      "12    102\n",
      "13    103\n",
      "14    104\n",
      "dtype: int64\n",
      "10    100\n",
      "11    101\n",
      "12    102\n",
      "13    103\n",
      "14    104\n",
      "dtype: int64\n",
      "15    105\n",
      "16    106\n",
      "17    107\n",
      "18    108\n",
      "19    109\n",
      "dtype: int64\n",
      "17    107\n",
      "18    108\n",
      "19    109\n",
      "dtype: int64\n"
     ]
    }
   ],
   "source": [
    "s = pd.Series(np.arange(100, 110), index=np.arange(10, 20))\n",
    "print s\n",
    "print s[0:5] #0번째 ~ 4번째\n",
    "print s[:5] # 0번째 ~ 4번째\n",
    "print s[5:] # 5번째 ~ 전체\n",
    "print s[-3:]"
   ]
  },
  {
   "cell_type": "markdown",
   "metadata": {},
   "source": [
    "* **DataFrame**   진짜 짱 중요함!!!\n",
    "  - Series가 1차원이라면 DataFrame은 2차원으로 확대된 버젼\n",
    "  - Excel spreadsheet이라고 생각하면 이해하기 쉬움\n",
    "  - 2차원이기 때문에 인덱스가 row, column로 구성됨 ,  3차원 없음\n",
    "  - 엑셀처럼 행 렬이 구성된다. \n",
    "  - 가장 많이 쓴다"
   ]
  },
  {
   "cell_type": "code",
   "execution_count": null,
   "metadata": {
    "collapsed": true
   },
   "outputs": [],
   "source": [
    "import numpy as np\n",
    "import pandas as pd"
   ]
  },
  {
   "cell_type": "code",
   "execution_count": 146,
   "metadata": {},
   "outputs": [
    {
     "name": "stdout",
     "output_type": "stream",
     "text": [
      "    0   1\n",
      "0  10  11\n",
      "1  20  22\n"
     ]
    }
   ],
   "source": [
    "df = pd.DataFrame(np.array([[10, 11], [20, 22]]))\n",
    "print df"
   ]
  },
  {
   "cell_type": "code",
   "execution_count": 148,
   "metadata": {},
   "outputs": [
    {
     "name": "stdout",
     "output_type": "stream",
     "text": [
      "   0\n",
      "0  2\n",
      "1  1\n",
      "2  2\n",
      "3  3 <class 'pandas.core.frame.DataFrame'>\n"
     ]
    }
   ],
   "source": [
    "df = pd.DataFrame(np.array([2, 1, 2, 3]))\n",
    "print df, type(df)\n",
    "\n",
    "#프레임에서 1차원은 큰 의미가 없다."
   ]
  },
  {
   "cell_type": "markdown",
   "metadata": {},
   "source": [
    "* **shape**\n",
    " - row, column에 대한 튜플 값으로 볼 수 있음\n",
    " - 차원이 아니라 모양"
   ]
  },
  {
   "cell_type": "code",
   "execution_count": 150,
   "metadata": {},
   "outputs": [
    {
     "name": "stdout",
     "output_type": "stream",
     "text": [
      "    0   1   2   3   4\n",
      "0  10  11  12  13  14\n",
      "1  20  21  22  23  24\n",
      "(2, 5)\n",
      "\n",
      "<class 'pandas.core.frame.DataFrame'>\n",
      "RangeIndex: 2 entries, 0 to 1\n",
      "Data columns (total 5 columns):\n",
      "0    2 non-null int64\n",
      "1    2 non-null int64\n",
      "2    2 non-null int64\n",
      "3    2 non-null int64\n",
      "4    2 non-null int64\n",
      "dtypes: int64(5)\n",
      "memory usage: 152.0 bytes\n",
      "None\n",
      "\n",
      "               0          1          2          3          4\n",
      "count   2.000000   2.000000   2.000000   2.000000   2.000000\n",
      "mean   15.000000  16.000000  17.000000  18.000000  19.000000\n",
      "std     7.071068   7.071068   7.071068   7.071068   7.071068\n",
      "min    10.000000  11.000000  12.000000  13.000000  14.000000\n",
      "25%    12.500000  13.500000  14.500000  15.500000  16.500000\n",
      "50%    15.000000  16.000000  17.000000  18.000000  19.000000\n",
      "75%    17.500000  18.500000  19.500000  20.500000  21.500000\n",
      "max    20.000000  21.000000  22.000000  23.000000  24.000000\n"
     ]
    }
   ],
   "source": [
    "df1 = pd.DataFrame([pd.Series(np.arange(10, 15)) ,\n",
    "            pd.Series(np.arange(20, 25))])\n",
    "print df1\n",
    "print df1.shape  # (2,5)를 출력 -> 2개의 행과, 5개의 열이 있다는 것을 의미함.\n",
    "print \n",
    "print df1.info() # \n",
    "print \n",
    "print df1.describe()\n",
    "\n",
    "\n",
    "#데이타 프레임을 생성하면, 가장먼저 shape 체크 -> info 체크 (타입확인) -> describe 체크 (기본적인 통계체크)"
   ]
  },
  {
   "cell_type": "code",
   "execution_count": 151,
   "metadata": {},
   "outputs": [
    {
     "name": "stdout",
     "output_type": "stream",
     "text": [
      "    a   b\n",
      "0  10  20\n",
      "1  20  30\n",
      "Index([u'a', u'b'], dtype='object')\n",
      "a b\n",
      "   t1  t2\n",
      "0  10  20\n",
      "1  20  30\n"
     ]
    }
   ],
   "source": [
    "df = pd.DataFrame(np.array([[10, 20], [20, 30]]), columns = ['a', 'b']) #컬럼을 바꿀 수 있다. \n",
    "print df\n",
    "print df.columns\n",
    "print df.columns[0], df.columns[1]\n",
    "\n",
    "df.columns = ['t1', 't2']\n",
    "print df"
   ]
  },
  {
   "cell_type": "code",
   "execution_count": 265,
   "metadata": {},
   "outputs": [
    {
     "name": "stdout",
     "output_type": "stream",
     "text": [
      "    a   b\n",
      "0  10  20\n",
      "1  20  30\n",
      "   t1  t2\n",
      "0  10  20\n",
      "1  20  30\n"
     ]
    }
   ],
   "source": [
    "df = pd.DataFrame(np.array([[10, 20],[20,30]]), columns = ['a','b'])\n",
    "print df\n",
    "\n",
    "df.columns = ['t1','t2']\n",
    "print df"
   ]
  },
  {
   "cell_type": "code",
   "execution_count": 152,
   "metadata": {},
   "outputs": [
    {
     "name": "stdout",
     "output_type": "stream",
     "text": [
      "     a   b\n",
      "d1  10  20\n",
      "d2  20  30\n",
      "Index([u'd1', u'd2'], dtype='object')\n"
     ]
    }
   ],
   "source": [
    "df = pd.DataFrame(np.array([[10, 20], [20, 30]]), \n",
    "                  columns = ['a', 'b'], index = ['d1', 'd2'])\n",
    "print df\n",
    "print df.index"
   ]
  },
  {
   "cell_type": "markdown",
   "metadata": {},
   "source": [
    "* **Series dictionary로 부터 생성**"
   ]
  },
  {
   "cell_type": "code",
   "execution_count": null,
   "metadata": {
    "collapsed": true
   },
   "outputs": [],
   "source": [
    "s1 = pd.Series(np.arange(1, 6, 1))\n",
    "s2 = pd.Series(np.arange(6, 11, 1))\n",
    "df = pd.DataFrame({'c1': s1, 'c2': s2})\n",
    "\n",
    "print df"
   ]
  },
  {
   "cell_type": "markdown",
   "metadata": {},
   "source": [
    "* **csv 데이터로 부터 dataframe 생성**\n",
    "  - dataframe을 생성하는 가장 보편적인 방법\n",
    "  - 데이터 소스로부터 추출된 csv(comma separated values) 파일로 부터 df 생성"
   ]
  },
  {
   "cell_type": "code",
   "execution_count": 156,
   "metadata": {},
   "outputs": [
    {
     "data": {
      "text/html": [
       "<div>\n",
       "<style>\n",
       "    .dataframe thead tr:only-child th {\n",
       "        text-align: right;\n",
       "    }\n",
       "\n",
       "    .dataframe thead th {\n",
       "        text-align: left;\n",
       "    }\n",
       "\n",
       "    .dataframe tbody tr th {\n",
       "        vertical-align: top;\n",
       "    }\n",
       "</style>\n",
       "<table border=\"1\" class=\"dataframe\">\n",
       "  <thead>\n",
       "    <tr style=\"text-align: right;\">\n",
       "      <th></th>\n",
       "      <th>Symbol</th>\n",
       "      <th>Name</th>\n",
       "      <th>Sector</th>\n",
       "      <th>Price</th>\n",
       "      <th>Dividend Yield</th>\n",
       "      <th>Price/Earnings</th>\n",
       "      <th>Earnings/Share</th>\n",
       "      <th>Book Value</th>\n",
       "      <th>52 week low</th>\n",
       "      <th>52 week high</th>\n",
       "      <th>Market Cap</th>\n",
       "      <th>EBITDA</th>\n",
       "      <th>Price/Sales</th>\n",
       "      <th>Price/Book</th>\n",
       "      <th>SEC Filings</th>\n",
       "    </tr>\n",
       "  </thead>\n",
       "  <tbody>\n",
       "    <tr>\n",
       "      <th>0</th>\n",
       "      <td>MMM</td>\n",
       "      <td>3M Company</td>\n",
       "      <td>Industrials</td>\n",
       "      <td>177.12</td>\n",
       "      <td>2.53</td>\n",
       "      <td>22.77</td>\n",
       "      <td>7.78</td>\n",
       "      <td>19.34</td>\n",
       "      <td>134.00</td>\n",
       "      <td>177.79</td>\n",
       "      <td>107.43</td>\n",
       "      <td>8.5700</td>\n",
       "      <td>3.52</td>\n",
       "      <td>9.04</td>\n",
       "      <td>http://www.sec.gov/cgi-bin/browse-edgar?action...</td>\n",
       "    </tr>\n",
       "    <tr>\n",
       "      <th>1</th>\n",
       "      <td>ABT</td>\n",
       "      <td>Abbott Laboratories</td>\n",
       "      <td>Health Care</td>\n",
       "      <td>41.89</td>\n",
       "      <td>2.55</td>\n",
       "      <td>25.79</td>\n",
       "      <td>1.62</td>\n",
       "      <td>14.10</td>\n",
       "      <td>36.00</td>\n",
       "      <td>51.74</td>\n",
       "      <td>61.54</td>\n",
       "      <td>4.4000</td>\n",
       "      <td>2.98</td>\n",
       "      <td>2.93</td>\n",
       "      <td>http://www.sec.gov/cgi-bin/browse-edgar?action...</td>\n",
       "    </tr>\n",
       "    <tr>\n",
       "      <th>2</th>\n",
       "      <td>ABBV</td>\n",
       "      <td>AbbVie</td>\n",
       "      <td>Health Care</td>\n",
       "      <td>64.16</td>\n",
       "      <td>3.60</td>\n",
       "      <td>19.29</td>\n",
       "      <td>3.33</td>\n",
       "      <td>2.87</td>\n",
       "      <td>45.45</td>\n",
       "      <td>71.60</td>\n",
       "      <td>103.77</td>\n",
       "      <td>10.3000</td>\n",
       "      <td>4.31</td>\n",
       "      <td>22.09</td>\n",
       "      <td>http://www.sec.gov/cgi-bin/browse-edgar?action...</td>\n",
       "    </tr>\n",
       "    <tr>\n",
       "      <th>3</th>\n",
       "      <td>ACN</td>\n",
       "      <td>Accenture plc</td>\n",
       "      <td>Information Technology</td>\n",
       "      <td>115.11</td>\n",
       "      <td>1.94</td>\n",
       "      <td>19.45</td>\n",
       "      <td>5.92</td>\n",
       "      <td>11.45</td>\n",
       "      <td>88.43</td>\n",
       "      <td>120.78</td>\n",
       "      <td>71.66</td>\n",
       "      <td>5.4200</td>\n",
       "      <td>2.17</td>\n",
       "      <td>9.84</td>\n",
       "      <td>http://www.sec.gov/cgi-bin/browse-edgar?action...</td>\n",
       "    </tr>\n",
       "    <tr>\n",
       "      <th>4</th>\n",
       "      <td>ATVI</td>\n",
       "      <td>Activision Blizzard</td>\n",
       "      <td>Information Technology</td>\n",
       "      <td>41.29</td>\n",
       "      <td>0.64</td>\n",
       "      <td>37.06</td>\n",
       "      <td>1.11</td>\n",
       "      <td>11.31</td>\n",
       "      <td>24.04</td>\n",
       "      <td>41.32</td>\n",
       "      <td>30.48</td>\n",
       "      <td>1.5900</td>\n",
       "      <td>6.16</td>\n",
       "      <td>3.57</td>\n",
       "      <td>http://www.sec.gov/cgi-bin/browse-edgar?action...</td>\n",
       "    </tr>\n",
       "    <tr>\n",
       "      <th>5</th>\n",
       "      <td>AYI</td>\n",
       "      <td>Acuity Brands Inc</td>\n",
       "      <td>Industrials</td>\n",
       "      <td>264.62</td>\n",
       "      <td>0.21</td>\n",
       "      <td>43.23</td>\n",
       "      <td>6.12</td>\n",
       "      <td>36.50</td>\n",
       "      <td>168.33</td>\n",
       "      <td>265.10</td>\n",
       "      <td>11.51</td>\n",
       "      <td>0.5365</td>\n",
       "      <td>3.53</td>\n",
       "      <td>6.95</td>\n",
       "      <td>http://www.sec.gov/cgi-bin/browse-edgar?action...</td>\n",
       "    </tr>\n",
       "    <tr>\n",
       "      <th>6</th>\n",
       "      <td>ADBE</td>\n",
       "      <td>Adobe Systems Inc</td>\n",
       "      <td>Information Technology</td>\n",
       "      <td>96.79</td>\n",
       "      <td>0.00</td>\n",
       "      <td>54.68</td>\n",
       "      <td>1.77</td>\n",
       "      <td>14.53</td>\n",
       "      <td>71.27</td>\n",
       "      <td>100.56</td>\n",
       "      <td>48.23</td>\n",
       "      <td>1.5300</td>\n",
       "      <td>8.93</td>\n",
       "      <td>6.55</td>\n",
       "      <td>http://www.sec.gov/cgi-bin/browse-edgar?action...</td>\n",
       "    </tr>\n",
       "    <tr>\n",
       "      <th>7</th>\n",
       "      <td>AAP</td>\n",
       "      <td>Advance Auto Parts</td>\n",
       "      <td>Consumer Discretionary</td>\n",
       "      <td>164.85</td>\n",
       "      <td>0.15</td>\n",
       "      <td>25.20</td>\n",
       "      <td>6.40</td>\n",
       "      <td>35.82</td>\n",
       "      <td>131.59</td>\n",
       "      <td>201.24</td>\n",
       "      <td>12.10</td>\n",
       "      <td>1.2400</td>\n",
       "      <td>1.22</td>\n",
       "      <td>4.50</td>\n",
       "      <td>http://www.sec.gov/cgi-bin/browse-edgar?action...</td>\n",
       "    </tr>\n",
       "    <tr>\n",
       "      <th>8</th>\n",
       "      <td>AES</td>\n",
       "      <td>AES Corp</td>\n",
       "      <td>Utilities</td>\n",
       "      <td>12.32</td>\n",
       "      <td>3.60</td>\n",
       "      <td>28.99</td>\n",
       "      <td>0.43</td>\n",
       "      <td>4.86</td>\n",
       "      <td>8.22</td>\n",
       "      <td>13.38</td>\n",
       "      <td>8.12</td>\n",
       "      <td>3.5700</td>\n",
       "      <td>0.55</td>\n",
       "      <td>2.49</td>\n",
       "      <td>http://www.sec.gov/cgi-bin/browse-edgar?action...</td>\n",
       "    </tr>\n",
       "    <tr>\n",
       "      <th>9</th>\n",
       "      <td>AET</td>\n",
       "      <td>Aetna Inc</td>\n",
       "      <td>Health Care</td>\n",
       "      <td>117.00</td>\n",
       "      <td>0.87</td>\n",
       "      <td>17.62</td>\n",
       "      <td>6.64</td>\n",
       "      <td>47.96</td>\n",
       "      <td>92.42</td>\n",
       "      <td>125.47</td>\n",
       "      <td>41.02</td>\n",
       "      <td>5.4000</td>\n",
       "      <td>0.67</td>\n",
       "      <td>2.41</td>\n",
       "      <td>http://www.sec.gov/cgi-bin/browse-edgar?action...</td>\n",
       "    </tr>\n",
       "  </tbody>\n",
       "</table>\n",
       "</div>"
      ],
      "text/plain": [
       "  Symbol                 Name                  Sector   Price  Dividend Yield  \\\n",
       "0    MMM           3M Company             Industrials  177.12            2.53   \n",
       "1    ABT  Abbott Laboratories             Health Care   41.89            2.55   \n",
       "2   ABBV               AbbVie             Health Care   64.16            3.60   \n",
       "3    ACN        Accenture plc  Information Technology  115.11            1.94   \n",
       "4   ATVI  Activision Blizzard  Information Technology   41.29            0.64   \n",
       "5    AYI    Acuity Brands Inc             Industrials  264.62            0.21   \n",
       "6   ADBE    Adobe Systems Inc  Information Technology   96.79            0.00   \n",
       "7    AAP   Advance Auto Parts  Consumer Discretionary  164.85            0.15   \n",
       "8    AES             AES Corp               Utilities   12.32            3.60   \n",
       "9    AET            Aetna Inc             Health Care  117.00            0.87   \n",
       "\n",
       "   Price/Earnings  Earnings/Share  Book Value  52 week low  52 week high  \\\n",
       "0           22.77            7.78       19.34       134.00        177.79   \n",
       "1           25.79            1.62       14.10        36.00         51.74   \n",
       "2           19.29            3.33        2.87        45.45         71.60   \n",
       "3           19.45            5.92       11.45        88.43        120.78   \n",
       "4           37.06            1.11       11.31        24.04         41.32   \n",
       "5           43.23            6.12       36.50       168.33        265.10   \n",
       "6           54.68            1.77       14.53        71.27        100.56   \n",
       "7           25.20            6.40       35.82       131.59        201.24   \n",
       "8           28.99            0.43        4.86         8.22         13.38   \n",
       "9           17.62            6.64       47.96        92.42        125.47   \n",
       "\n",
       "   Market Cap   EBITDA  Price/Sales  Price/Book  \\\n",
       "0      107.43   8.5700         3.52        9.04   \n",
       "1       61.54   4.4000         2.98        2.93   \n",
       "2      103.77  10.3000         4.31       22.09   \n",
       "3       71.66   5.4200         2.17        9.84   \n",
       "4       30.48   1.5900         6.16        3.57   \n",
       "5       11.51   0.5365         3.53        6.95   \n",
       "6       48.23   1.5300         8.93        6.55   \n",
       "7       12.10   1.2400         1.22        4.50   \n",
       "8        8.12   3.5700         0.55        2.49   \n",
       "9       41.02   5.4000         0.67        2.41   \n",
       "\n",
       "                                         SEC Filings  \n",
       "0  http://www.sec.gov/cgi-bin/browse-edgar?action...  \n",
       "1  http://www.sec.gov/cgi-bin/browse-edgar?action...  \n",
       "2  http://www.sec.gov/cgi-bin/browse-edgar?action...  \n",
       "3  http://www.sec.gov/cgi-bin/browse-edgar?action...  \n",
       "4  http://www.sec.gov/cgi-bin/browse-edgar?action...  \n",
       "5  http://www.sec.gov/cgi-bin/browse-edgar?action...  \n",
       "6  http://www.sec.gov/cgi-bin/browse-edgar?action...  \n",
       "7  http://www.sec.gov/cgi-bin/browse-edgar?action...  \n",
       "8  http://www.sec.gov/cgi-bin/browse-edgar?action...  \n",
       "9  http://www.sec.gov/cgi-bin/browse-edgar?action...  "
      ]
     },
     "execution_count": 156,
     "metadata": {},
     "output_type": "execute_result"
    }
   ],
   "source": [
    "sample_df = pd.read_csv('sample.csv')\n",
    "sample_df.head(n=10)"
   ]
  },
  {
   "cell_type": "code",
   "execution_count": 158,
   "metadata": {},
   "outputs": [
    {
     "data": {
      "text/html": [
       "<div>\n",
       "<style>\n",
       "    .dataframe thead tr:only-child th {\n",
       "        text-align: right;\n",
       "    }\n",
       "\n",
       "    .dataframe thead th {\n",
       "        text-align: left;\n",
       "    }\n",
       "\n",
       "    .dataframe tbody tr th {\n",
       "        vertical-align: top;\n",
       "    }\n",
       "</style>\n",
       "<table border=\"1\" class=\"dataframe\">\n",
       "  <thead>\n",
       "    <tr style=\"text-align: right;\">\n",
       "      <th></th>\n",
       "      <th>Symbol</th>\n",
       "      <th>Name</th>\n",
       "      <th>Sector</th>\n",
       "      <th>Price</th>\n",
       "      <th>Book Value</th>\n",
       "    </tr>\n",
       "  </thead>\n",
       "  <tbody>\n",
       "    <tr>\n",
       "      <th>0</th>\n",
       "      <td>MMM</td>\n",
       "      <td>3M Company</td>\n",
       "      <td>Industrials</td>\n",
       "      <td>177.12</td>\n",
       "      <td>19.34</td>\n",
       "    </tr>\n",
       "    <tr>\n",
       "      <th>1</th>\n",
       "      <td>ABT</td>\n",
       "      <td>Abbott Laboratories</td>\n",
       "      <td>Health Care</td>\n",
       "      <td>41.89</td>\n",
       "      <td>14.10</td>\n",
       "    </tr>\n",
       "    <tr>\n",
       "      <th>2</th>\n",
       "      <td>ABBV</td>\n",
       "      <td>AbbVie</td>\n",
       "      <td>Health Care</td>\n",
       "      <td>64.16</td>\n",
       "      <td>2.87</td>\n",
       "    </tr>\n",
       "    <tr>\n",
       "      <th>3</th>\n",
       "      <td>ACN</td>\n",
       "      <td>Accenture plc</td>\n",
       "      <td>Information Technology</td>\n",
       "      <td>115.11</td>\n",
       "      <td>11.45</td>\n",
       "    </tr>\n",
       "    <tr>\n",
       "      <th>4</th>\n",
       "      <td>ATVI</td>\n",
       "      <td>Activision Blizzard</td>\n",
       "      <td>Information Technology</td>\n",
       "      <td>41.29</td>\n",
       "      <td>11.31</td>\n",
       "    </tr>\n",
       "  </tbody>\n",
       "</table>\n",
       "</div>"
      ],
      "text/plain": [
       "  Symbol                 Name                  Sector   Price  Book Value\n",
       "0    MMM           3M Company             Industrials  177.12       19.34\n",
       "1    ABT  Abbott Laboratories             Health Care   41.89       14.10\n",
       "2   ABBV               AbbVie             Health Care   64.16        2.87\n",
       "3    ACN        Accenture plc  Information Technology  115.11       11.45\n",
       "4   ATVI  Activision Blizzard  Information Technology   41.29       11.31"
      ]
     },
     "execution_count": 158,
     "metadata": {},
     "output_type": "execute_result"
    }
   ],
   "source": [
    "sample_df = pd.read_csv('sample.csv', usecols = [0, 1, 2, 3, 7]) #필요한 열만 가져옴\n",
    "sample_df.head()"
   ]
  },
  {
   "cell_type": "code",
   "execution_count": 160,
   "metadata": {},
   "outputs": [
    {
     "data": {
      "text/html": [
       "<div>\n",
       "<style>\n",
       "    .dataframe thead tr:only-child th {\n",
       "        text-align: right;\n",
       "    }\n",
       "\n",
       "    .dataframe thead th {\n",
       "        text-align: left;\n",
       "    }\n",
       "\n",
       "    .dataframe tbody tr th {\n",
       "        vertical-align: top;\n",
       "    }\n",
       "</style>\n",
       "<table border=\"1\" class=\"dataframe\">\n",
       "  <thead>\n",
       "    <tr style=\"text-align: right;\">\n",
       "      <th></th>\n",
       "      <th>Name</th>\n",
       "      <th>Sector</th>\n",
       "      <th>Price</th>\n",
       "      <th>Book Value</th>\n",
       "    </tr>\n",
       "    <tr>\n",
       "      <th>Symbol</th>\n",
       "      <th></th>\n",
       "      <th></th>\n",
       "      <th></th>\n",
       "      <th></th>\n",
       "    </tr>\n",
       "  </thead>\n",
       "  <tbody>\n",
       "    <tr>\n",
       "      <th>MMM</th>\n",
       "      <td>3M Company</td>\n",
       "      <td>Industrials</td>\n",
       "      <td>177.12</td>\n",
       "      <td>19.34</td>\n",
       "    </tr>\n",
       "    <tr>\n",
       "      <th>ABT</th>\n",
       "      <td>Abbott Laboratories</td>\n",
       "      <td>Health Care</td>\n",
       "      <td>41.89</td>\n",
       "      <td>14.10</td>\n",
       "    </tr>\n",
       "    <tr>\n",
       "      <th>ABBV</th>\n",
       "      <td>AbbVie</td>\n",
       "      <td>Health Care</td>\n",
       "      <td>64.16</td>\n",
       "      <td>2.87</td>\n",
       "    </tr>\n",
       "    <tr>\n",
       "      <th>ACN</th>\n",
       "      <td>Accenture plc</td>\n",
       "      <td>Information Technology</td>\n",
       "      <td>115.11</td>\n",
       "      <td>11.45</td>\n",
       "    </tr>\n",
       "    <tr>\n",
       "      <th>ATVI</th>\n",
       "      <td>Activision Blizzard</td>\n",
       "      <td>Information Technology</td>\n",
       "      <td>41.29</td>\n",
       "      <td>11.31</td>\n",
       "    </tr>\n",
       "  </tbody>\n",
       "</table>\n",
       "</div>"
      ],
      "text/plain": [
       "                       Name                  Sector   Price  Book Value\n",
       "Symbol                                                                 \n",
       "MMM              3M Company             Industrials  177.12       19.34\n",
       "ABT     Abbott Laboratories             Health Care   41.89       14.10\n",
       "ABBV                 AbbVie             Health Care   64.16        2.87\n",
       "ACN           Accenture plc  Information Technology  115.11       11.45\n",
       "ATVI    Activision Blizzard  Information Technology   41.29       11.31"
      ]
     },
     "execution_count": 160,
     "metadata": {},
     "output_type": "execute_result"
    }
   ],
   "source": [
    "sample_df = pd.read_csv('sample.csv', index_col = 'Symbol', usecols = [0, 1, 2, 3, 7]) #index_col = raw기준 설정\n",
    "sample_df.head()"
   ]
  },
  {
   "cell_type": "code",
   "execution_count": 165,
   "metadata": {},
   "outputs": [
    {
     "data": {
      "text/html": [
       "<div>\n",
       "<style>\n",
       "    .dataframe thead tr:only-child th {\n",
       "        text-align: right;\n",
       "    }\n",
       "\n",
       "    .dataframe thead th {\n",
       "        text-align: left;\n",
       "    }\n",
       "\n",
       "    .dataframe tbody tr th {\n",
       "        vertical-align: top;\n",
       "    }\n",
       "</style>\n",
       "<table border=\"1\" class=\"dataframe\">\n",
       "  <thead>\n",
       "    <tr style=\"text-align: right;\">\n",
       "      <th></th>\n",
       "      <th>Name</th>\n",
       "      <th>Price</th>\n",
       "    </tr>\n",
       "    <tr>\n",
       "      <th>Symbol</th>\n",
       "      <th></th>\n",
       "      <th></th>\n",
       "    </tr>\n",
       "  </thead>\n",
       "  <tbody>\n",
       "    <tr>\n",
       "      <th>MMM</th>\n",
       "      <td>3M Company</td>\n",
       "      <td>177.12</td>\n",
       "    </tr>\n",
       "    <tr>\n",
       "      <th>ABT</th>\n",
       "      <td>Abbott Laboratories</td>\n",
       "      <td>41.89</td>\n",
       "    </tr>\n",
       "    <tr>\n",
       "      <th>ABBV</th>\n",
       "      <td>AbbVie</td>\n",
       "      <td>64.16</td>\n",
       "    </tr>\n",
       "    <tr>\n",
       "      <th>ACN</th>\n",
       "      <td>Accenture plc</td>\n",
       "      <td>115.11</td>\n",
       "    </tr>\n",
       "    <tr>\n",
       "      <th>ATVI</th>\n",
       "      <td>Activision Blizzard</td>\n",
       "      <td>41.29</td>\n",
       "    </tr>\n",
       "  </tbody>\n",
       "</table>\n",
       "</div>"
      ],
      "text/plain": [
       "                       Name   Price\n",
       "Symbol                             \n",
       "MMM              3M Company  177.12\n",
       "ABT     Abbott Laboratories   41.89\n",
       "ABBV                 AbbVie   64.16\n",
       "ACN           Accenture plc  115.11\n",
       "ATVI    Activision Blizzard   41.29"
      ]
     },
     "execution_count": 165,
     "metadata": {},
     "output_type": "execute_result"
    }
   ],
   "source": [
    "sample_df = pd.read_csv('sample.csv', index_col = 'Symbol', usecols=['Name', 'Symbol', 'Price'])\n",
    "sample_df.head()"
   ]
  },
  {
   "cell_type": "markdown",
   "metadata": {},
   "source": [
    "* **data 개수**"
   ]
  },
  {
   "cell_type": "code",
   "execution_count": 166,
   "metadata": {},
   "outputs": [
    {
     "name": "stdout",
     "output_type": "stream",
     "text": [
      "504\n"
     ]
    }
   ],
   "source": [
    "print len(sample_df)"
   ]
  },
  {
   "cell_type": "code",
   "execution_count": 167,
   "metadata": {},
   "outputs": [
    {
     "name": "stdout",
     "output_type": "stream",
     "text": [
      "Index([u'MMM', u'ABT', u'ABBV', u'ACN', u'ATVI', u'AYI', u'ADBE', u'AAP',\n",
      "       u'AES', u'AET',\n",
      "       ...\n",
      "       u'XEL', u'XRX', u'XLNX', u'XL', u'XYL', u'YHOO', u'YUM', u'ZBH',\n",
      "       u'ZION', u'ZTS'],\n",
      "      dtype='object', name=u'Symbol', length=504)\n",
      "\n",
      "Index([u'Name', u'Price'], dtype='object')\n"
     ]
    }
   ],
   "source": [
    "print sample_df.index\n",
    "print \n",
    "print sample_df.columns"
   ]
  },
  {
   "cell_type": "markdown",
   "metadata": {},
   "source": [
    "* **dataframe slicing**\n",
    "  - dataframe의 경우 기본적으로 [] 연산자가 column 선택에 사용\n",
    "  - 따라서 [0], ['some val'] 과 같이 하면 column 레벨의 데이터 추출\n",
    "  - 하지만, 유일하게 slicing은 row 레벨로 지원"
   ]
  },
  {
   "cell_type": "code",
   "execution_count": 169,
   "metadata": {},
   "outputs": [
    {
     "data": {
      "text/html": [
       "<div>\n",
       "<style>\n",
       "    .dataframe thead tr:only-child th {\n",
       "        text-align: right;\n",
       "    }\n",
       "\n",
       "    .dataframe thead th {\n",
       "        text-align: left;\n",
       "    }\n",
       "\n",
       "    .dataframe tbody tr th {\n",
       "        vertical-align: top;\n",
       "    }\n",
       "</style>\n",
       "<table border=\"1\" class=\"dataframe\">\n",
       "  <thead>\n",
       "    <tr style=\"text-align: right;\">\n",
       "      <th></th>\n",
       "      <th>Date</th>\n",
       "      <th>Open</th>\n",
       "      <th>High</th>\n",
       "      <th>Low</th>\n",
       "      <th>Close</th>\n",
       "      <th>Volume</th>\n",
       "    </tr>\n",
       "  </thead>\n",
       "  <tbody>\n",
       "    <tr>\n",
       "      <th>0</th>\n",
       "      <td>30-Sep-16</td>\n",
       "      <td>112.46</td>\n",
       "      <td>113.37</td>\n",
       "      <td>111.80</td>\n",
       "      <td>113.05</td>\n",
       "      <td>36379106</td>\n",
       "    </tr>\n",
       "    <tr>\n",
       "      <th>1</th>\n",
       "      <td>29-Sep-16</td>\n",
       "      <td>113.16</td>\n",
       "      <td>113.80</td>\n",
       "      <td>111.80</td>\n",
       "      <td>112.18</td>\n",
       "      <td>35886990</td>\n",
       "    </tr>\n",
       "    <tr>\n",
       "      <th>2</th>\n",
       "      <td>28-Sep-16</td>\n",
       "      <td>113.69</td>\n",
       "      <td>114.64</td>\n",
       "      <td>113.43</td>\n",
       "      <td>113.95</td>\n",
       "      <td>29641085</td>\n",
       "    </tr>\n",
       "    <tr>\n",
       "      <th>3</th>\n",
       "      <td>27-Sep-16</td>\n",
       "      <td>113.00</td>\n",
       "      <td>113.18</td>\n",
       "      <td>112.34</td>\n",
       "      <td>113.09</td>\n",
       "      <td>24607412</td>\n",
       "    </tr>\n",
       "    <tr>\n",
       "      <th>4</th>\n",
       "      <td>26-Sep-16</td>\n",
       "      <td>111.64</td>\n",
       "      <td>113.39</td>\n",
       "      <td>111.55</td>\n",
       "      <td>112.88</td>\n",
       "      <td>29869442</td>\n",
       "    </tr>\n",
       "    <tr>\n",
       "      <th>5</th>\n",
       "      <td>23-Sep-16</td>\n",
       "      <td>114.42</td>\n",
       "      <td>114.79</td>\n",
       "      <td>111.55</td>\n",
       "      <td>112.71</td>\n",
       "      <td>52481151</td>\n",
       "    </tr>\n",
       "    <tr>\n",
       "      <th>6</th>\n",
       "      <td>22-Sep-16</td>\n",
       "      <td>114.35</td>\n",
       "      <td>114.94</td>\n",
       "      <td>114.00</td>\n",
       "      <td>114.62</td>\n",
       "      <td>31073984</td>\n",
       "    </tr>\n",
       "    <tr>\n",
       "      <th>7</th>\n",
       "      <td>21-Sep-16</td>\n",
       "      <td>113.85</td>\n",
       "      <td>113.99</td>\n",
       "      <td>112.44</td>\n",
       "      <td>113.55</td>\n",
       "      <td>36003185</td>\n",
       "    </tr>\n",
       "    <tr>\n",
       "      <th>8</th>\n",
       "      <td>20-Sep-16</td>\n",
       "      <td>113.05</td>\n",
       "      <td>114.12</td>\n",
       "      <td>112.51</td>\n",
       "      <td>113.57</td>\n",
       "      <td>34514269</td>\n",
       "    </tr>\n",
       "    <tr>\n",
       "      <th>9</th>\n",
       "      <td>19-Sep-16</td>\n",
       "      <td>115.19</td>\n",
       "      <td>116.18</td>\n",
       "      <td>113.25</td>\n",
       "      <td>113.58</td>\n",
       "      <td>47023046</td>\n",
       "    </tr>\n",
       "  </tbody>\n",
       "</table>\n",
       "</div>"
      ],
      "text/plain": [
       "        Date    Open    High     Low   Close    Volume\n",
       "0  30-Sep-16  112.46  113.37  111.80  113.05  36379106\n",
       "1  29-Sep-16  113.16  113.80  111.80  112.18  35886990\n",
       "2  28-Sep-16  113.69  114.64  113.43  113.95  29641085\n",
       "3  27-Sep-16  113.00  113.18  112.34  113.09  24607412\n",
       "4  26-Sep-16  111.64  113.39  111.55  112.88  29869442\n",
       "5  23-Sep-16  114.42  114.79  111.55  112.71  52481151\n",
       "6  22-Sep-16  114.35  114.94  114.00  114.62  31073984\n",
       "7  21-Sep-16  113.85  113.99  112.44  113.55  36003185\n",
       "8  20-Sep-16  113.05  114.12  112.51  113.57  34514269\n",
       "9  19-Sep-16  115.19  116.18  113.25  113.58  47023046"
      ]
     },
     "execution_count": 169,
     "metadata": {},
     "output_type": "execute_result"
    }
   ],
   "source": [
    "#apple_df = pd.read_csv('apple.csv', header = None)\n",
    "apple_df = pd.read_csv('apple.csv')\n",
    "apple_df[:10]"
   ]
  },
  {
   "cell_type": "code",
   "execution_count": 172,
   "metadata": {
    "scrolled": true
   },
   "outputs": [
    {
     "name": "stdout",
     "output_type": "stream",
     "text": [
      "        Date    Open    High     Low   Close    Volume\n",
      "0  30-Sep-16  112.46  113.37  111.80  113.05  36379106\n",
      "1  29-Sep-16  113.16  113.80  111.80  112.18  35886990\n",
      "2  28-Sep-16  113.69  114.64  113.43  113.95  29641085\n",
      "3  27-Sep-16  113.00  113.18  112.34  113.09  24607412\n",
      "4  26-Sep-16  111.64  113.39  111.55  112.88  29869442\n",
      "5  23-Sep-16  114.42  114.79  111.55  112.71  52481151\n",
      "6  22-Sep-16  114.35  114.94  114.00  114.62  31073984\n",
      "7  21-Sep-16  113.85  113.99  112.44  113.55  36003185\n",
      "8  20-Sep-16  113.05  114.12  112.51  113.57  34514269\n",
      "9  19-Sep-16  115.19  116.18  113.25  113.58  47023046\n"
     ]
    }
   ],
   "source": [
    "print apple_df[:10] #[10] 는 안되느지만 슬라이싱 된다."
   ]
  },
  {
   "cell_type": "code",
   "execution_count": 175,
   "metadata": {
    "scrolled": true
   },
   "outputs": [
    {
     "ename": "KeyError",
     "evalue": "('High', 'Low')",
     "output_type": "error",
     "traceback": [
      "\u001b[0;31m---------------------------------------------------------------------------\u001b[0m",
      "\u001b[0;31mKeyError\u001b[0m                                  Traceback (most recent call last)",
      "\u001b[0;32m<ipython-input-175-3a5f901893ad>\u001b[0m in \u001b[0;36m<module>\u001b[0;34m()\u001b[0m\n\u001b[0;32m----> 1\u001b[0;31m \u001b[0;32mprint\u001b[0m \u001b[0mapple_df\u001b[0m\u001b[0;34m[\u001b[0m\u001b[0;34m'High'\u001b[0m\u001b[0;34m,\u001b[0m \u001b[0;34m'Low'\u001b[0m\u001b[0;34m]\u001b[0m \u001b[0;31m#컬럼명을 입력하면 가져온다.\u001b[0m\u001b[0;34m\u001b[0m\u001b[0m\n\u001b[0m",
      "\u001b[0;32m/usr/local/lib/python2.7/site-packages/pandas/core/frame.pyc\u001b[0m in \u001b[0;36m__getitem__\u001b[0;34m(self, key)\u001b[0m\n\u001b[1;32m   2060\u001b[0m             \u001b[0;32mreturn\u001b[0m \u001b[0mself\u001b[0m\u001b[0;34m.\u001b[0m\u001b[0m_getitem_multilevel\u001b[0m\u001b[0;34m(\u001b[0m\u001b[0mkey\u001b[0m\u001b[0;34m)\u001b[0m\u001b[0;34m\u001b[0m\u001b[0m\n\u001b[1;32m   2061\u001b[0m         \u001b[0;32melse\u001b[0m\u001b[0;34m:\u001b[0m\u001b[0;34m\u001b[0m\u001b[0m\n\u001b[0;32m-> 2062\u001b[0;31m             \u001b[0;32mreturn\u001b[0m \u001b[0mself\u001b[0m\u001b[0;34m.\u001b[0m\u001b[0m_getitem_column\u001b[0m\u001b[0;34m(\u001b[0m\u001b[0mkey\u001b[0m\u001b[0;34m)\u001b[0m\u001b[0;34m\u001b[0m\u001b[0m\n\u001b[0m\u001b[1;32m   2063\u001b[0m \u001b[0;34m\u001b[0m\u001b[0m\n\u001b[1;32m   2064\u001b[0m     \u001b[0;32mdef\u001b[0m \u001b[0m_getitem_column\u001b[0m\u001b[0;34m(\u001b[0m\u001b[0mself\u001b[0m\u001b[0;34m,\u001b[0m \u001b[0mkey\u001b[0m\u001b[0;34m)\u001b[0m\u001b[0;34m:\u001b[0m\u001b[0;34m\u001b[0m\u001b[0m\n",
      "\u001b[0;32m/usr/local/lib/python2.7/site-packages/pandas/core/frame.pyc\u001b[0m in \u001b[0;36m_getitem_column\u001b[0;34m(self, key)\u001b[0m\n\u001b[1;32m   2067\u001b[0m         \u001b[0;31m# get column\u001b[0m\u001b[0;34m\u001b[0m\u001b[0;34m\u001b[0m\u001b[0m\n\u001b[1;32m   2068\u001b[0m         \u001b[0;32mif\u001b[0m \u001b[0mself\u001b[0m\u001b[0;34m.\u001b[0m\u001b[0mcolumns\u001b[0m\u001b[0;34m.\u001b[0m\u001b[0mis_unique\u001b[0m\u001b[0;34m:\u001b[0m\u001b[0;34m\u001b[0m\u001b[0m\n\u001b[0;32m-> 2069\u001b[0;31m             \u001b[0;32mreturn\u001b[0m \u001b[0mself\u001b[0m\u001b[0;34m.\u001b[0m\u001b[0m_get_item_cache\u001b[0m\u001b[0;34m(\u001b[0m\u001b[0mkey\u001b[0m\u001b[0;34m)\u001b[0m\u001b[0;34m\u001b[0m\u001b[0m\n\u001b[0m\u001b[1;32m   2070\u001b[0m \u001b[0;34m\u001b[0m\u001b[0m\n\u001b[1;32m   2071\u001b[0m         \u001b[0;31m# duplicate columns & possible reduce dimensionality\u001b[0m\u001b[0;34m\u001b[0m\u001b[0;34m\u001b[0m\u001b[0m\n",
      "\u001b[0;32m/usr/local/lib/python2.7/site-packages/pandas/core/generic.pyc\u001b[0m in \u001b[0;36m_get_item_cache\u001b[0;34m(self, item)\u001b[0m\n\u001b[1;32m   1532\u001b[0m         \u001b[0mres\u001b[0m \u001b[0;34m=\u001b[0m \u001b[0mcache\u001b[0m\u001b[0;34m.\u001b[0m\u001b[0mget\u001b[0m\u001b[0;34m(\u001b[0m\u001b[0mitem\u001b[0m\u001b[0;34m)\u001b[0m\u001b[0;34m\u001b[0m\u001b[0m\n\u001b[1;32m   1533\u001b[0m         \u001b[0;32mif\u001b[0m \u001b[0mres\u001b[0m \u001b[0;32mis\u001b[0m \u001b[0mNone\u001b[0m\u001b[0;34m:\u001b[0m\u001b[0;34m\u001b[0m\u001b[0m\n\u001b[0;32m-> 1534\u001b[0;31m             \u001b[0mvalues\u001b[0m \u001b[0;34m=\u001b[0m \u001b[0mself\u001b[0m\u001b[0;34m.\u001b[0m\u001b[0m_data\u001b[0m\u001b[0;34m.\u001b[0m\u001b[0mget\u001b[0m\u001b[0;34m(\u001b[0m\u001b[0mitem\u001b[0m\u001b[0;34m)\u001b[0m\u001b[0;34m\u001b[0m\u001b[0m\n\u001b[0m\u001b[1;32m   1535\u001b[0m             \u001b[0mres\u001b[0m \u001b[0;34m=\u001b[0m \u001b[0mself\u001b[0m\u001b[0;34m.\u001b[0m\u001b[0m_box_item_values\u001b[0m\u001b[0;34m(\u001b[0m\u001b[0mitem\u001b[0m\u001b[0;34m,\u001b[0m \u001b[0mvalues\u001b[0m\u001b[0;34m)\u001b[0m\u001b[0;34m\u001b[0m\u001b[0m\n\u001b[1;32m   1536\u001b[0m             \u001b[0mcache\u001b[0m\u001b[0;34m[\u001b[0m\u001b[0mitem\u001b[0m\u001b[0;34m]\u001b[0m \u001b[0;34m=\u001b[0m \u001b[0mres\u001b[0m\u001b[0;34m\u001b[0m\u001b[0m\n",
      "\u001b[0;32m/usr/local/lib/python2.7/site-packages/pandas/core/internals.pyc\u001b[0m in \u001b[0;36mget\u001b[0;34m(self, item, fastpath)\u001b[0m\n\u001b[1;32m   3588\u001b[0m \u001b[0;34m\u001b[0m\u001b[0m\n\u001b[1;32m   3589\u001b[0m             \u001b[0;32mif\u001b[0m \u001b[0;32mnot\u001b[0m \u001b[0misnull\u001b[0m\u001b[0;34m(\u001b[0m\u001b[0mitem\u001b[0m\u001b[0;34m)\u001b[0m\u001b[0;34m:\u001b[0m\u001b[0;34m\u001b[0m\u001b[0m\n\u001b[0;32m-> 3590\u001b[0;31m                 \u001b[0mloc\u001b[0m \u001b[0;34m=\u001b[0m \u001b[0mself\u001b[0m\u001b[0;34m.\u001b[0m\u001b[0mitems\u001b[0m\u001b[0;34m.\u001b[0m\u001b[0mget_loc\u001b[0m\u001b[0;34m(\u001b[0m\u001b[0mitem\u001b[0m\u001b[0;34m)\u001b[0m\u001b[0;34m\u001b[0m\u001b[0m\n\u001b[0m\u001b[1;32m   3591\u001b[0m             \u001b[0;32melse\u001b[0m\u001b[0;34m:\u001b[0m\u001b[0;34m\u001b[0m\u001b[0m\n\u001b[1;32m   3592\u001b[0m                 \u001b[0mindexer\u001b[0m \u001b[0;34m=\u001b[0m \u001b[0mnp\u001b[0m\u001b[0;34m.\u001b[0m\u001b[0marange\u001b[0m\u001b[0;34m(\u001b[0m\u001b[0mlen\u001b[0m\u001b[0;34m(\u001b[0m\u001b[0mself\u001b[0m\u001b[0;34m.\u001b[0m\u001b[0mitems\u001b[0m\u001b[0;34m)\u001b[0m\u001b[0;34m)\u001b[0m\u001b[0;34m[\u001b[0m\u001b[0misnull\u001b[0m\u001b[0;34m(\u001b[0m\u001b[0mself\u001b[0m\u001b[0;34m.\u001b[0m\u001b[0mitems\u001b[0m\u001b[0;34m)\u001b[0m\u001b[0;34m]\u001b[0m\u001b[0;34m\u001b[0m\u001b[0m\n",
      "\u001b[0;32m/usr/local/lib/python2.7/site-packages/pandas/core/indexes/base.pyc\u001b[0m in \u001b[0;36mget_loc\u001b[0;34m(self, key, method, tolerance)\u001b[0m\n\u001b[1;32m   2393\u001b[0m                 \u001b[0;32mreturn\u001b[0m \u001b[0mself\u001b[0m\u001b[0;34m.\u001b[0m\u001b[0m_engine\u001b[0m\u001b[0;34m.\u001b[0m\u001b[0mget_loc\u001b[0m\u001b[0;34m(\u001b[0m\u001b[0mkey\u001b[0m\u001b[0;34m)\u001b[0m\u001b[0;34m\u001b[0m\u001b[0m\n\u001b[1;32m   2394\u001b[0m             \u001b[0;32mexcept\u001b[0m \u001b[0mKeyError\u001b[0m\u001b[0;34m:\u001b[0m\u001b[0;34m\u001b[0m\u001b[0m\n\u001b[0;32m-> 2395\u001b[0;31m                 \u001b[0;32mreturn\u001b[0m \u001b[0mself\u001b[0m\u001b[0;34m.\u001b[0m\u001b[0m_engine\u001b[0m\u001b[0;34m.\u001b[0m\u001b[0mget_loc\u001b[0m\u001b[0;34m(\u001b[0m\u001b[0mself\u001b[0m\u001b[0;34m.\u001b[0m\u001b[0m_maybe_cast_indexer\u001b[0m\u001b[0;34m(\u001b[0m\u001b[0mkey\u001b[0m\u001b[0;34m)\u001b[0m\u001b[0;34m)\u001b[0m\u001b[0;34m\u001b[0m\u001b[0m\n\u001b[0m\u001b[1;32m   2396\u001b[0m \u001b[0;34m\u001b[0m\u001b[0m\n\u001b[1;32m   2397\u001b[0m         \u001b[0mindexer\u001b[0m \u001b[0;34m=\u001b[0m \u001b[0mself\u001b[0m\u001b[0;34m.\u001b[0m\u001b[0mget_indexer\u001b[0m\u001b[0;34m(\u001b[0m\u001b[0;34m[\u001b[0m\u001b[0mkey\u001b[0m\u001b[0;34m]\u001b[0m\u001b[0;34m,\u001b[0m \u001b[0mmethod\u001b[0m\u001b[0;34m=\u001b[0m\u001b[0mmethod\u001b[0m\u001b[0;34m,\u001b[0m \u001b[0mtolerance\u001b[0m\u001b[0;34m=\u001b[0m\u001b[0mtolerance\u001b[0m\u001b[0;34m)\u001b[0m\u001b[0;34m\u001b[0m\u001b[0m\n",
      "\u001b[0;32mpandas/_libs/index.pyx\u001b[0m in \u001b[0;36mpandas._libs.index.IndexEngine.get_loc (pandas/_libs/index.c:5239)\u001b[0;34m()\u001b[0m\n",
      "\u001b[0;32mpandas/_libs/index.pyx\u001b[0m in \u001b[0;36mpandas._libs.index.IndexEngine.get_loc (pandas/_libs/index.c:5085)\u001b[0;34m()\u001b[0m\n",
      "\u001b[0;32mpandas/_libs/hashtable_class_helper.pxi\u001b[0m in \u001b[0;36mpandas._libs.hashtable.PyObjectHashTable.get_item (pandas/_libs/hashtable.c:20405)\u001b[0;34m()\u001b[0m\n",
      "\u001b[0;32mpandas/_libs/hashtable_class_helper.pxi\u001b[0m in \u001b[0;36mpandas._libs.hashtable.PyObjectHashTable.get_item (pandas/_libs/hashtable.c:20359)\u001b[0;34m()\u001b[0m\n",
      "\u001b[0;31mKeyError\u001b[0m: ('High', 'Low')"
     ]
    }
   ],
   "source": [
    "print apple_df['High', 'Low'] #컬럼명을 입력하면 가져온다."
   ]
  },
  {
   "cell_type": "markdown",
   "metadata": {},
   "source": [
    "* **column 선택하기**\n",
    "  - df에서 특정 컬럼의 데이터만 추출\n",
    "  - 컬럼 이름일 경우 이름만 사용 가능\n",
    "  - 컬럼 인덱스일 경우 인덱스의 리스트 사용 가능"
   ]
  },
  {
   "cell_type": "code",
   "execution_count": 185,
   "metadata": {},
   "outputs": [
    {
     "data": {
      "text/html": [
       "<div>\n",
       "<style>\n",
       "    .dataframe thead tr:only-child th {\n",
       "        text-align: right;\n",
       "    }\n",
       "\n",
       "    .dataframe thead th {\n",
       "        text-align: left;\n",
       "    }\n",
       "\n",
       "    .dataframe tbody tr th {\n",
       "        vertical-align: top;\n",
       "    }\n",
       "</style>\n",
       "<table border=\"1\" class=\"dataframe\">\n",
       "  <thead>\n",
       "    <tr style=\"text-align: right;\">\n",
       "      <th></th>\n",
       "      <th>Date</th>\n",
       "      <th>Close</th>\n",
       "      <th>Volume</th>\n",
       "    </tr>\n",
       "  </thead>\n",
       "  <tbody>\n",
       "    <tr>\n",
       "      <th>0</th>\n",
       "      <td>30-Sep-16</td>\n",
       "      <td>113.05</td>\n",
       "      <td>36379106</td>\n",
       "    </tr>\n",
       "    <tr>\n",
       "      <th>1</th>\n",
       "      <td>29-Sep-16</td>\n",
       "      <td>112.18</td>\n",
       "      <td>35886990</td>\n",
       "    </tr>\n",
       "    <tr>\n",
       "      <th>2</th>\n",
       "      <td>28-Sep-16</td>\n",
       "      <td>113.95</td>\n",
       "      <td>29641085</td>\n",
       "    </tr>\n",
       "    <tr>\n",
       "      <th>3</th>\n",
       "      <td>27-Sep-16</td>\n",
       "      <td>113.09</td>\n",
       "      <td>24607412</td>\n",
       "    </tr>\n",
       "    <tr>\n",
       "      <th>4</th>\n",
       "      <td>26-Sep-16</td>\n",
       "      <td>112.88</td>\n",
       "      <td>29869442</td>\n",
       "    </tr>\n",
       "    <tr>\n",
       "      <th>5</th>\n",
       "      <td>23-Sep-16</td>\n",
       "      <td>112.71</td>\n",
       "      <td>52481151</td>\n",
       "    </tr>\n",
       "    <tr>\n",
       "      <th>6</th>\n",
       "      <td>22-Sep-16</td>\n",
       "      <td>114.62</td>\n",
       "      <td>31073984</td>\n",
       "    </tr>\n",
       "    <tr>\n",
       "      <th>7</th>\n",
       "      <td>21-Sep-16</td>\n",
       "      <td>113.55</td>\n",
       "      <td>36003185</td>\n",
       "    </tr>\n",
       "    <tr>\n",
       "      <th>8</th>\n",
       "      <td>20-Sep-16</td>\n",
       "      <td>113.57</td>\n",
       "      <td>34514269</td>\n",
       "    </tr>\n",
       "    <tr>\n",
       "      <th>9</th>\n",
       "      <td>19-Sep-16</td>\n",
       "      <td>113.58</td>\n",
       "      <td>47023046</td>\n",
       "    </tr>\n",
       "    <tr>\n",
       "      <th>10</th>\n",
       "      <td>16-Sep-16</td>\n",
       "      <td>114.92</td>\n",
       "      <td>79886911</td>\n",
       "    </tr>\n",
       "    <tr>\n",
       "      <th>11</th>\n",
       "      <td>15-Sep-16</td>\n",
       "      <td>115.57</td>\n",
       "      <td>90613177</td>\n",
       "    </tr>\n",
       "    <tr>\n",
       "      <th>12</th>\n",
       "      <td>14-Sep-16</td>\n",
       "      <td>111.77</td>\n",
       "      <td>112340318</td>\n",
       "    </tr>\n",
       "    <tr>\n",
       "      <th>13</th>\n",
       "      <td>13-Sep-16</td>\n",
       "      <td>107.95</td>\n",
       "      <td>62176190</td>\n",
       "    </tr>\n",
       "    <tr>\n",
       "      <th>14</th>\n",
       "      <td>12-Sep-16</td>\n",
       "      <td>105.44</td>\n",
       "      <td>45292770</td>\n",
       "    </tr>\n",
       "    <tr>\n",
       "      <th>15</th>\n",
       "      <td>9-Sep-16</td>\n",
       "      <td>103.13</td>\n",
       "      <td>46556984</td>\n",
       "    </tr>\n",
       "    <tr>\n",
       "      <th>16</th>\n",
       "      <td>8-Sep-16</td>\n",
       "      <td>105.52</td>\n",
       "      <td>53002026</td>\n",
       "    </tr>\n",
       "    <tr>\n",
       "      <th>17</th>\n",
       "      <td>7-Sep-16</td>\n",
       "      <td>108.36</td>\n",
       "      <td>42364328</td>\n",
       "    </tr>\n",
       "    <tr>\n",
       "      <th>18</th>\n",
       "      <td>6-Sep-16</td>\n",
       "      <td>107.70</td>\n",
       "      <td>26880391</td>\n",
       "    </tr>\n",
       "    <tr>\n",
       "      <th>19</th>\n",
       "      <td>2-Sep-16</td>\n",
       "      <td>107.73</td>\n",
       "      <td>26334858</td>\n",
       "    </tr>\n",
       "    <tr>\n",
       "      <th>20</th>\n",
       "      <td>1-Sep-16</td>\n",
       "      <td>106.73</td>\n",
       "      <td>26701523</td>\n",
       "    </tr>\n",
       "  </tbody>\n",
       "</table>\n",
       "</div>"
      ],
      "text/plain": [
       "         Date   Close     Volume\n",
       "0   30-Sep-16  113.05   36379106\n",
       "1   29-Sep-16  112.18   35886990\n",
       "2   28-Sep-16  113.95   29641085\n",
       "3   27-Sep-16  113.09   24607412\n",
       "4   26-Sep-16  112.88   29869442\n",
       "5   23-Sep-16  112.71   52481151\n",
       "6   22-Sep-16  114.62   31073984\n",
       "7   21-Sep-16  113.55   36003185\n",
       "8   20-Sep-16  113.57   34514269\n",
       "9   19-Sep-16  113.58   47023046\n",
       "10  16-Sep-16  114.92   79886911\n",
       "11  15-Sep-16  115.57   90613177\n",
       "12  14-Sep-16  111.77  112340318\n",
       "13  13-Sep-16  107.95   62176190\n",
       "14  12-Sep-16  105.44   45292770\n",
       "15   9-Sep-16  103.13   46556984\n",
       "16   8-Sep-16  105.52   53002026\n",
       "17   7-Sep-16  108.36   42364328\n",
       "18   6-Sep-16  107.70   26880391\n",
       "19   2-Sep-16  107.73   26334858\n",
       "20   1-Sep-16  106.73   26701523"
      ]
     },
     "execution_count": 185,
     "metadata": {},
     "output_type": "execute_result"
    }
   ],
   "source": [
    "apple_df[['Date', 'Close', 'Volume']] # 인덱스로도 가능\n",
    "\n"
   ]
  },
  {
   "cell_type": "code",
   "execution_count": 187,
   "metadata": {},
   "outputs": [
    {
     "name": "stdout",
     "output_type": "stream",
     "text": [
      "<class 'pandas.core.frame.DataFrame'>\n",
      "<class 'pandas.core.frame.DataFrame'>\n",
      "<class 'pandas.core.series.Series'>\n"
     ]
    }
   ],
   "source": [
    "\n",
    "print type(apple_df[['Date']])\n",
    "print type(apple_df[['Date', 'Close']])\n",
    "print type(apple_df['Date'])"
   ]
  },
  {
   "cell_type": "code",
   "execution_count": 188,
   "metadata": {},
   "outputs": [
    {
     "name": "stdout",
     "output_type": "stream",
     "text": [
      "0     30-Sep-16\n",
      "1     29-Sep-16\n",
      "2     28-Sep-16\n",
      "3     27-Sep-16\n",
      "4     26-Sep-16\n",
      "5     23-Sep-16\n",
      "6     22-Sep-16\n",
      "7     21-Sep-16\n",
      "8     20-Sep-16\n",
      "9     19-Sep-16\n",
      "10    16-Sep-16\n",
      "11    15-Sep-16\n",
      "12    14-Sep-16\n",
      "13    13-Sep-16\n",
      "14    12-Sep-16\n",
      "15     9-Sep-16\n",
      "16     8-Sep-16\n",
      "17     7-Sep-16\n",
      "18     6-Sep-16\n",
      "19     2-Sep-16\n",
      "20     1-Sep-16\n",
      "Name: Date, dtype: object\n",
      "0     113.05\n",
      "1     112.18\n",
      "2     113.95\n",
      "3     113.09\n",
      "4     112.88\n",
      "5     112.71\n",
      "6     114.62\n",
      "7     113.55\n",
      "8     113.57\n",
      "9     113.58\n",
      "10    114.92\n",
      "11    115.57\n",
      "12    111.77\n",
      "13    107.95\n",
      "14    105.44\n",
      "15    103.13\n",
      "16    105.52\n",
      "17    108.36\n",
      "18    107.70\n",
      "19    107.73\n",
      "20    106.73\n",
      "Name: Close, dtype: float64\n"
     ]
    }
   ],
   "source": [
    "print apple_df.Date\n",
    "print apple_df.Close"
   ]
  },
  {
   "cell_type": "markdown",
   "metadata": {},
   "source": [
    "* **row 선택하기**\n",
    "  - Seires의 경우 []로 row 선택이 가능하나, **DataFrame의 경우는 기본적으로 column을 선택하도록 설계**\n",
    "  - [:10]과 같이 slicing의 경우에는 row 선택 가능\n",
    "  - .loc, .iloc, .ix 의 함수로 row 선택 가능"
   ]
  },
  {
   "cell_type": "code",
   "execution_count": 191,
   "metadata": {},
   "outputs": [
    {
     "name": "stdout",
     "output_type": "stream",
     "text": [
      "        Date    Open    High     Low   Close    Volume\n",
      "0  30-Sep-16  112.46  113.37  111.80  113.05  36379106\n",
      "1  29-Sep-16  113.16  113.80  111.80  112.18  35886990\n",
      "2  28-Sep-16  113.69  114.64  113.43  113.95  29641085\n",
      "3  27-Sep-16  113.00  113.18  112.34  113.09  24607412\n",
      "4  26-Sep-16  111.64  113.39  111.55  112.88  29869442\n",
      "5  23-Sep-16  114.42  114.79  111.55  112.71  52481151\n",
      "6  22-Sep-16  114.35  114.94  114.00  114.62  31073984\n",
      "7  21-Sep-16  113.85  113.99  112.44  113.55  36003185\n",
      "8  20-Sep-16  113.05  114.12  112.51  113.57  34514269\n",
      "9  19-Sep-16  115.19  116.18  113.25  113.58  47023046\n",
      "\n",
      "Date      30-Sep-16\n",
      "Open         112.46\n",
      "High         113.37\n",
      "Low           111.8\n",
      "Close        113.05\n",
      "Volume     36379106\n",
      "Name: 0, dtype: object\n"
     ]
    }
   ],
   "source": [
    "print apple_df[0:10]\n",
    "print\n",
    "print apple_df.loc[0] #0번째 raw를 가져온다. 타입은 시리즈"
   ]
  },
  {
   "cell_type": "code",
   "execution_count": 192,
   "metadata": {},
   "outputs": [
    {
     "data": {
      "text/html": [
       "<div>\n",
       "<style>\n",
       "    .dataframe thead tr:only-child th {\n",
       "        text-align: right;\n",
       "    }\n",
       "\n",
       "    .dataframe thead th {\n",
       "        text-align: left;\n",
       "    }\n",
       "\n",
       "    .dataframe tbody tr th {\n",
       "        vertical-align: top;\n",
       "    }\n",
       "</style>\n",
       "<table border=\"1\" class=\"dataframe\">\n",
       "  <thead>\n",
       "    <tr style=\"text-align: right;\">\n",
       "      <th></th>\n",
       "      <th>Name</th>\n",
       "      <th>Sector</th>\n",
       "      <th>Price</th>\n",
       "      <th>Book Value</th>\n",
       "    </tr>\n",
       "    <tr>\n",
       "      <th>Symbol</th>\n",
       "      <th></th>\n",
       "      <th></th>\n",
       "      <th></th>\n",
       "      <th></th>\n",
       "    </tr>\n",
       "  </thead>\n",
       "  <tbody>\n",
       "    <tr>\n",
       "      <th>MMM</th>\n",
       "      <td>3M Company</td>\n",
       "      <td>Industrials</td>\n",
       "      <td>177.12</td>\n",
       "      <td>19.34</td>\n",
       "    </tr>\n",
       "    <tr>\n",
       "      <th>ABT</th>\n",
       "      <td>Abbott Laboratories</td>\n",
       "      <td>Health Care</td>\n",
       "      <td>41.89</td>\n",
       "      <td>14.10</td>\n",
       "    </tr>\n",
       "  </tbody>\n",
       "</table>\n",
       "</div>"
      ],
      "text/plain": [
       "                       Name       Sector   Price  Book Value\n",
       "Symbol                                                      \n",
       "MMM              3M Company  Industrials  177.12       19.34\n",
       "ABT     Abbott Laboratories  Health Care   41.89       14.10"
      ]
     },
     "execution_count": 192,
     "metadata": {},
     "output_type": "execute_result"
    }
   ],
   "source": [
    "sample_df = pd.read_csv('sample.csv', index_col = 'Symbol', usecols = [0, 1, 2, 3, 7])\n",
    "sample_df['MMM':'ABT'] # mmm부터 abt까지 #loc 숫자, "
   ]
  },
  {
   "cell_type": "code",
   "execution_count": 193,
   "metadata": {},
   "outputs": [
    {
     "name": "stdout",
     "output_type": "stream",
     "text": [
      "Name           3M Company\n",
      "Sector        Industrials\n",
      "Price              177.12\n",
      "Book Value          19.34\n",
      "Name: MMM, dtype: object\n"
     ]
    }
   ],
   "source": [
    "print sample_df.loc['MMM'] #인데스가 mmm인 것 출력"
   ]
  },
  {
   "cell_type": "code",
   "execution_count": null,
   "metadata": {
    "collapsed": true
   },
   "outputs": [],
   "source": [
    "print sample_df.loc[['MMM', 'MSFT']] #복수의 인덱스 출력시, 꼭 리스트로 입력 / 인덱스가 mmm, msft출력"
   ]
  },
  {
   "cell_type": "code",
   "execution_count": 194,
   "metadata": {},
   "outputs": [
    {
     "name": "stdout",
     "output_type": "stream",
     "text": [
      "                       Name       Sector   Price  Book Value\n",
      "Symbol                                                      \n",
      "MMM              3M Company  Industrials  177.12       19.34\n",
      "ABT     Abbott Laboratories  Health Care   41.89       14.10\n",
      "ABBV                 AbbVie  Health Care   64.16        2.87\n",
      "<class 'pandas.core.frame.DataFrame'>\n",
      "Name           3M Company\n",
      "Sector        Industrials\n",
      "Price              177.12\n",
      "Book Value          19.34\n",
      "Name: MMM, dtype: object\n",
      "<class 'pandas.core.series.Series'>\n"
     ]
    }
   ],
   "source": [
    "print sample_df.iloc[[0, 1, 2]]    #인데스 명을 모를 경우 , '0베이스 인데스' 이용\n",
    "print type(sample_df.iloc[[0, 1, 2]])\n",
    "\n",
    "print sample_df.iloc[0] \n",
    "print type(sample_df.iloc[0])"
   ]
  },
  {
   "cell_type": "markdown",
   "metadata": {},
   "source": [
    "* **ix**\n",
    " - iloc, loc 구별없이 사용하고 싶을 때 사용\n",
    " - 짱 좋음!!! 구분없음"
   ]
  },
  {
   "cell_type": "code",
   "execution_count": 195,
   "metadata": {},
   "outputs": [
    {
     "name": "stdout",
     "output_type": "stream",
     "text": [
      "                   Name                  Sector  Price  Book Value\n",
      "Symbol                                                            \n",
      "MSFT    Microsoft Corp.  Information Technology   52.3        9.51\n",
      "ZTS              Zoetis             Health Care   48.5        2.35\n"
     ]
    },
    {
     "name": "stderr",
     "output_type": "stream",
     "text": [
      "/usr/local/lib/python2.7/site-packages/ipykernel_launcher.py:1: DeprecationWarning: \n",
      ".ix is deprecated. Please use\n",
      ".loc for label based indexing or\n",
      ".iloc for positional indexing\n",
      "\n",
      "See the documentation here:\n",
      "http://pandas.pydata.org/pandas-docs/stable/indexing.html#deprecate_ix\n",
      "  \"\"\"Entry point for launching an IPython kernel.\n"
     ]
    }
   ],
   "source": [
    "print sample_df.ix[['MSFT', 'ZTS']]"
   ]
  },
  {
   "cell_type": "code",
   "execution_count": 196,
   "metadata": {},
   "outputs": [
    {
     "name": "stdout",
     "output_type": "stream",
     "text": [
      "                                 Name       Sector   Price  Book Value\n",
      "Symbol                                                                \n",
      "AMG     Affiliated Managers Group Inc   Financials  138.85       53.30\n",
      "AFL                         AFLAC Inc   Financials   72.49       48.22\n",
      "A            Agilent Technologies Inc  Health Care   45.48       12.79\n",
      "ALK              Alaska Air Group Inc  Industrials   59.86       19.81\n"
     ]
    }
   ],
   "source": [
    "print sample_df.ix[[10, 11, 12, 15]]"
   ]
  },
  {
   "cell_type": "markdown",
   "metadata": {},
   "source": [
    "* **boolean selection으로 row 선택하기**"
   ]
  },
  {
   "cell_type": "code",
   "execution_count": 197,
   "metadata": {},
   "outputs": [
    {
     "name": "stdout",
     "output_type": "stream",
     "text": [
      "Symbol\n",
      "MMM       True\n",
      "ABT      False\n",
      "ABBV     False\n",
      "ACN       True\n",
      "ATVI     False\n",
      "AYI       True\n",
      "ADBE     False\n",
      "AAP       True\n",
      "AES      False\n",
      "AET       True\n",
      "AMG       True\n",
      "AFL      False\n",
      "A        False\n",
      "APD       True\n",
      "AKAM     False\n",
      "ALK      False\n",
      "ALB      False\n",
      "AA       False\n",
      "ALXN      True\n",
      "ALLE     False\n",
      "AGN       True\n",
      "ADS       True\n",
      "LNT      False\n",
      "ALL      False\n",
      "GOOGL     True\n",
      "GOOG      True\n",
      "MO       False\n",
      "AMZN      True\n",
      "AEE      False\n",
      "AAL      False\n",
      "         ...  \n",
      "V        False\n",
      "VNO       True\n",
      "VMC       True\n",
      "WMT      False\n",
      "WBA      False\n",
      "WM       False\n",
      "WAT       True\n",
      "WFC      False\n",
      "HCN      False\n",
      "WDC      False\n",
      "WU       False\n",
      "WRK      False\n",
      "WY       False\n",
      "WHR       True\n",
      "WFM      False\n",
      "WMB      False\n",
      "WLTW      True\n",
      "WEC      False\n",
      "WYN      False\n",
      "WYNN     False\n",
      "XEL      False\n",
      "XRX      False\n",
      "XLNX     False\n",
      "XL       False\n",
      "XYL      False\n",
      "YHOO     False\n",
      "YUM      False\n",
      "ZBH       True\n",
      "ZION     False\n",
      "ZTS      False\n",
      "Name: Price, Length: 504, dtype: bool\n"
     ]
    }
   ],
   "source": [
    "print sample_df.Price > 100 #비교할 컬럼명 입력! \n",
    "#print sample_df['Price'] > 100 도 가능!!!!!!!!!!!!!!!"
   ]
  },
  {
   "cell_type": "code",
   "execution_count": 201,
   "metadata": {},
   "outputs": [
    {
     "data": {
      "text/html": [
       "<div>\n",
       "<style>\n",
       "    .dataframe thead tr:only-child th {\n",
       "        text-align: right;\n",
       "    }\n",
       "\n",
       "    .dataframe thead th {\n",
       "        text-align: left;\n",
       "    }\n",
       "\n",
       "    .dataframe tbody tr th {\n",
       "        vertical-align: top;\n",
       "    }\n",
       "</style>\n",
       "<table border=\"1\" class=\"dataframe\">\n",
       "  <thead>\n",
       "    <tr style=\"text-align: right;\">\n",
       "      <th></th>\n",
       "      <th>Name</th>\n",
       "      <th>Sector</th>\n",
       "      <th>Price</th>\n",
       "      <th>Book Value</th>\n",
       "    </tr>\n",
       "    <tr>\n",
       "      <th>Symbol</th>\n",
       "      <th></th>\n",
       "      <th></th>\n",
       "      <th></th>\n",
       "      <th></th>\n",
       "    </tr>\n",
       "  </thead>\n",
       "  <tbody>\n",
       "    <tr>\n",
       "      <th>MMM</th>\n",
       "      <td>3M Company</td>\n",
       "      <td>Industrials</td>\n",
       "      <td>177.12</td>\n",
       "      <td>19.34</td>\n",
       "    </tr>\n",
       "    <tr>\n",
       "      <th>ACN</th>\n",
       "      <td>Accenture plc</td>\n",
       "      <td>Information Technology</td>\n",
       "      <td>115.11</td>\n",
       "      <td>11.45</td>\n",
       "    </tr>\n",
       "    <tr>\n",
       "      <th>AYI</th>\n",
       "      <td>Acuity Brands Inc</td>\n",
       "      <td>Industrials</td>\n",
       "      <td>264.62</td>\n",
       "      <td>36.50</td>\n",
       "    </tr>\n",
       "    <tr>\n",
       "      <th>AAP</th>\n",
       "      <td>Advance Auto Parts</td>\n",
       "      <td>Consumer Discretionary</td>\n",
       "      <td>164.85</td>\n",
       "      <td>35.82</td>\n",
       "    </tr>\n",
       "    <tr>\n",
       "      <th>AET</th>\n",
       "      <td>Aetna Inc</td>\n",
       "      <td>Health Care</td>\n",
       "      <td>117.00</td>\n",
       "      <td>47.96</td>\n",
       "    </tr>\n",
       "    <tr>\n",
       "      <th>AMG</th>\n",
       "      <td>Affiliated Managers Group Inc</td>\n",
       "      <td>Financials</td>\n",
       "      <td>138.85</td>\n",
       "      <td>53.30</td>\n",
       "    </tr>\n",
       "    <tr>\n",
       "      <th>APD</th>\n",
       "      <td>Air Products &amp; Chemicals Inc</td>\n",
       "      <td>Materials</td>\n",
       "      <td>144.35</td>\n",
       "      <td>32.01</td>\n",
       "    </tr>\n",
       "    <tr>\n",
       "      <th>ALXN</th>\n",
       "      <td>Alexion Pharmaceuticals</td>\n",
       "      <td>Health Care</td>\n",
       "      <td>124.42</td>\n",
       "      <td>35.96</td>\n",
       "    </tr>\n",
       "    <tr>\n",
       "      <th>AGN</th>\n",
       "      <td>Allergan plc</td>\n",
       "      <td>Health Care</td>\n",
       "      <td>240.59</td>\n",
       "      <td>183.41</td>\n",
       "    </tr>\n",
       "    <tr>\n",
       "      <th>ADS</th>\n",
       "      <td>Alliance Data Systems</td>\n",
       "      <td>Information Technology</td>\n",
       "      <td>200.96</td>\n",
       "      <td>29.51</td>\n",
       "    </tr>\n",
       "    <tr>\n",
       "      <th>GOOGL</th>\n",
       "      <td>Alphabet Inc Class A</td>\n",
       "      <td>Information Technology</td>\n",
       "      <td>717.78</td>\n",
       "      <td>179.92</td>\n",
       "    </tr>\n",
       "    <tr>\n",
       "      <th>GOOG</th>\n",
       "      <td>Alphabet Inc Class C</td>\n",
       "      <td>Information Technology</td>\n",
       "      <td>705.63</td>\n",
       "      <td>179.92</td>\n",
       "    </tr>\n",
       "    <tr>\n",
       "      <th>AMZN</th>\n",
       "      <td>Amazon.com Inc</td>\n",
       "      <td>Consumer Discretionary</td>\n",
       "      <td>745.81</td>\n",
       "      <td>31.26</td>\n",
       "    </tr>\n",
       "    <tr>\n",
       "      <th>AMT</th>\n",
       "      <td>American Tower Corp A</td>\n",
       "      <td>Financials</td>\n",
       "      <td>113.66</td>\n",
       "      <td>16.33</td>\n",
       "    </tr>\n",
       "    <tr>\n",
       "      <th>AMGN</th>\n",
       "      <td>Amgen Inc</td>\n",
       "      <td>Health Care</td>\n",
       "      <td>161.10</td>\n",
       "      <td>38.18</td>\n",
       "    </tr>\n",
       "    <tr>\n",
       "      <th>ANTM</th>\n",
       "      <td>Anthem Inc.</td>\n",
       "      <td>Health Care</td>\n",
       "      <td>132.15</td>\n",
       "      <td>89.59</td>\n",
       "    </tr>\n",
       "    <tr>\n",
       "      <th>AON</th>\n",
       "      <td>Aon plc</td>\n",
       "      <td>Financials</td>\n",
       "      <td>109.57</td>\n",
       "      <td>19.94</td>\n",
       "    </tr>\n",
       "    <tr>\n",
       "      <th>AZO</th>\n",
       "      <td>AutoZone Inc</td>\n",
       "      <td>Consumer Discretionary</td>\n",
       "      <td>815.02</td>\n",
       "      <td>-63.16</td>\n",
       "    </tr>\n",
       "    <tr>\n",
       "      <th>AVGO</th>\n",
       "      <td>Avago Technologies</td>\n",
       "      <td>Information Technology</td>\n",
       "      <td>155.14</td>\n",
       "      <td>49.90</td>\n",
       "    </tr>\n",
       "    <tr>\n",
       "      <th>AVB</th>\n",
       "      <td>AvalonBay Communities, Inc.</td>\n",
       "      <td>Financials</td>\n",
       "      <td>184.94</td>\n",
       "      <td>71.79</td>\n",
       "    </tr>\n",
       "    <tr>\n",
       "      <th>BCR</th>\n",
       "      <td>Bard (C.R.) Inc.</td>\n",
       "      <td>Health Care</td>\n",
       "      <td>239.00</td>\n",
       "      <td>19.91</td>\n",
       "    </tr>\n",
       "    <tr>\n",
       "      <th>BDX</th>\n",
       "      <td>Becton Dickinson</td>\n",
       "      <td>Health Care</td>\n",
       "      <td>175.64</td>\n",
       "      <td>36.13</td>\n",
       "    </tr>\n",
       "    <tr>\n",
       "      <th>BRK-B</th>\n",
       "      <td>Berkshire Hathaway</td>\n",
       "      <td>Financials</td>\n",
       "      <td>143.65</td>\n",
       "      <td>157329.00</td>\n",
       "    </tr>\n",
       "    <tr>\n",
       "      <th>BIIB</th>\n",
       "      <td>BIOGEN IDEC Inc.</td>\n",
       "      <td>Health Care</td>\n",
       "      <td>251.30</td>\n",
       "      <td>47.14</td>\n",
       "    </tr>\n",
       "    <tr>\n",
       "      <th>BLK</th>\n",
       "      <td>BlackRock</td>\n",
       "      <td>Financials</td>\n",
       "      <td>345.20</td>\n",
       "      <td>171.90</td>\n",
       "    </tr>\n",
       "    <tr>\n",
       "      <th>BA</th>\n",
       "      <td>Boeing Company</td>\n",
       "      <td>Industrials</td>\n",
       "      <td>130.09</td>\n",
       "      <td>6.32</td>\n",
       "    </tr>\n",
       "    <tr>\n",
       "      <th>BXP</th>\n",
       "      <td>Boston Properties</td>\n",
       "      <td>Financials</td>\n",
       "      <td>133.32</td>\n",
       "      <td>36.13</td>\n",
       "    </tr>\n",
       "    <tr>\n",
       "      <th>CELG</th>\n",
       "      <td>Celgene Corp.</td>\n",
       "      <td>Health Care</td>\n",
       "      <td>105.03</td>\n",
       "      <td>6.55</td>\n",
       "    </tr>\n",
       "    <tr>\n",
       "      <th>CVX</th>\n",
       "      <td>Chevron Corp.</td>\n",
       "      <td>Energy</td>\n",
       "      <td>104.77</td>\n",
       "      <td>79.75</td>\n",
       "    </tr>\n",
       "    <tr>\n",
       "      <th>CMG</th>\n",
       "      <td>Chipotle Mexican Grill</td>\n",
       "      <td>Consumer Discretionary</td>\n",
       "      <td>399.71</td>\n",
       "      <td>52.48</td>\n",
       "    </tr>\n",
       "    <tr>\n",
       "      <th>...</th>\n",
       "      <td>...</td>\n",
       "      <td>...</td>\n",
       "      <td>...</td>\n",
       "      <td>...</td>\n",
       "    </tr>\n",
       "    <tr>\n",
       "      <th>RTN</th>\n",
       "      <td>Raytheon Co.</td>\n",
       "      <td>Industrials</td>\n",
       "      <td>138.49</td>\n",
       "      <td>34.10</td>\n",
       "    </tr>\n",
       "    <tr>\n",
       "      <th>REGN</th>\n",
       "      <td>Regeneron</td>\n",
       "      <td>Health Care</td>\n",
       "      <td>378.35</td>\n",
       "      <td>36.10</td>\n",
       "    </tr>\n",
       "    <tr>\n",
       "      <th>ROK</th>\n",
       "      <td>Rockwell Automation Inc.</td>\n",
       "      <td>Industrials</td>\n",
       "      <td>115.70</td>\n",
       "      <td>17.01</td>\n",
       "    </tr>\n",
       "    <tr>\n",
       "      <th>ROP</th>\n",
       "      <td>Roper Industries</td>\n",
       "      <td>Industrials</td>\n",
       "      <td>170.04</td>\n",
       "      <td>53.77</td>\n",
       "    </tr>\n",
       "    <tr>\n",
       "      <th>SPGI</th>\n",
       "      <td>S&amp;P Global, Inc.</td>\n",
       "      <td>Financials</td>\n",
       "      <td>108.87</td>\n",
       "      <td>0.84</td>\n",
       "    </tr>\n",
       "    <tr>\n",
       "      <th>SRE</th>\n",
       "      <td>Sempra Energy</td>\n",
       "      <td>Utilities</td>\n",
       "      <td>114.11</td>\n",
       "      <td>47.83</td>\n",
       "    </tr>\n",
       "    <tr>\n",
       "      <th>SHW</th>\n",
       "      <td>Sherwin-Williams</td>\n",
       "      <td>Materials</td>\n",
       "      <td>306.52</td>\n",
       "      <td>10.94</td>\n",
       "    </tr>\n",
       "    <tr>\n",
       "      <th>SPG</th>\n",
       "      <td>Simon Property Group Inc</td>\n",
       "      <td>Financials</td>\n",
       "      <td>219.56</td>\n",
       "      <td>14.69</td>\n",
       "    </tr>\n",
       "    <tr>\n",
       "      <th>SLG</th>\n",
       "      <td>SL Green Realty</td>\n",
       "      <td>Financials</td>\n",
       "      <td>105.98</td>\n",
       "      <td>70.40</td>\n",
       "    </tr>\n",
       "    <tr>\n",
       "      <th>SJM</th>\n",
       "      <td>Smucker (J.M.)</td>\n",
       "      <td>Consumer Staples</td>\n",
       "      <td>154.08</td>\n",
       "      <td>60.26</td>\n",
       "    </tr>\n",
       "    <tr>\n",
       "      <th>SNA</th>\n",
       "      <td>Snap-On Inc.</td>\n",
       "      <td>Consumer Discretionary</td>\n",
       "      <td>160.16</td>\n",
       "      <td>43.29</td>\n",
       "    </tr>\n",
       "    <tr>\n",
       "      <th>SWK</th>\n",
       "      <td>Stanley Black &amp; Decker</td>\n",
       "      <td>Consumer Discretionary</td>\n",
       "      <td>114.97</td>\n",
       "      <td>37.76</td>\n",
       "    </tr>\n",
       "    <tr>\n",
       "      <th>SRCL</th>\n",
       "      <td>Stericycle Inc</td>\n",
       "      <td>Industrials</td>\n",
       "      <td>104.70</td>\n",
       "      <td>33.08</td>\n",
       "    </tr>\n",
       "    <tr>\n",
       "      <th>SYK</th>\n",
       "      <td>Stryker Corp.</td>\n",
       "      <td>Health Care</td>\n",
       "      <td>122.29</td>\n",
       "      <td>23.55</td>\n",
       "    </tr>\n",
       "    <tr>\n",
       "      <th>CLX</th>\n",
       "      <td>The Clorox Company</td>\n",
       "      <td>Consumer Staples</td>\n",
       "      <td>138.37</td>\n",
       "      <td>2.00</td>\n",
       "    </tr>\n",
       "    <tr>\n",
       "      <th>HSY</th>\n",
       "      <td>The Hershey Company</td>\n",
       "      <td>Consumer Staples</td>\n",
       "      <td>110.70</td>\n",
       "      <td>3.88</td>\n",
       "    </tr>\n",
       "    <tr>\n",
       "      <th>TRV</th>\n",
       "      <td>The Travelers Companies Inc.</td>\n",
       "      <td>Financials</td>\n",
       "      <td>118.08</td>\n",
       "      <td>82.65</td>\n",
       "    </tr>\n",
       "    <tr>\n",
       "      <th>TMO</th>\n",
       "      <td>Thermo Fisher Scientific</td>\n",
       "      <td>Health Care</td>\n",
       "      <td>152.69</td>\n",
       "      <td>53.17</td>\n",
       "    </tr>\n",
       "    <tr>\n",
       "      <th>TDG</th>\n",
       "      <td>TransDigm Group</td>\n",
       "      <td>Industrials</td>\n",
       "      <td>269.81</td>\n",
       "      <td>-18.16</td>\n",
       "    </tr>\n",
       "    <tr>\n",
       "      <th>ULTA</th>\n",
       "      <td>Ulta Salon Cosmetics &amp; Fragrance Inc</td>\n",
       "      <td>Consumer Discretionary</td>\n",
       "      <td>250.82</td>\n",
       "      <td>21.07</td>\n",
       "    </tr>\n",
       "    <tr>\n",
       "      <th>UNH</th>\n",
       "      <td>United Health Group Inc.</td>\n",
       "      <td>Health Care</td>\n",
       "      <td>141.27</td>\n",
       "      <td>36.87</td>\n",
       "    </tr>\n",
       "    <tr>\n",
       "      <th>UPS</th>\n",
       "      <td>United Parcel Service</td>\n",
       "      <td>Industrials</td>\n",
       "      <td>109.52</td>\n",
       "      <td>2.78</td>\n",
       "    </tr>\n",
       "    <tr>\n",
       "      <th>UTX</th>\n",
       "      <td>United Technologies</td>\n",
       "      <td>Industrials</td>\n",
       "      <td>103.66</td>\n",
       "      <td>33.88</td>\n",
       "    </tr>\n",
       "    <tr>\n",
       "      <th>UHS</th>\n",
       "      <td>Universal Health Services, Inc.</td>\n",
       "      <td>Health Care</td>\n",
       "      <td>137.16</td>\n",
       "      <td>44.20</td>\n",
       "    </tr>\n",
       "    <tr>\n",
       "      <th>VNO</th>\n",
       "      <td>Vornado Realty Trust</td>\n",
       "      <td>Financials</td>\n",
       "      <td>100.46</td>\n",
       "      <td>27.80</td>\n",
       "    </tr>\n",
       "    <tr>\n",
       "      <th>VMC</th>\n",
       "      <td>Vulcan Materials</td>\n",
       "      <td>Materials</td>\n",
       "      <td>123.61</td>\n",
       "      <td>33.15</td>\n",
       "    </tr>\n",
       "    <tr>\n",
       "      <th>WAT</th>\n",
       "      <td>Waters Corporation</td>\n",
       "      <td>Health Care</td>\n",
       "      <td>146.53</td>\n",
       "      <td>25.97</td>\n",
       "    </tr>\n",
       "    <tr>\n",
       "      <th>WHR</th>\n",
       "      <td>Whirlpool Corp.</td>\n",
       "      <td>Consumer Discretionary</td>\n",
       "      <td>171.38</td>\n",
       "      <td>62.60</td>\n",
       "    </tr>\n",
       "    <tr>\n",
       "      <th>WLTW</th>\n",
       "      <td>Willis Towers Watson</td>\n",
       "      <td>Financials</td>\n",
       "      <td>125.06</td>\n",
       "      <td>80.57</td>\n",
       "    </tr>\n",
       "    <tr>\n",
       "      <th>ZBH</th>\n",
       "      <td>Zimmer Biomet Holdings</td>\n",
       "      <td>Health Care</td>\n",
       "      <td>124.89</td>\n",
       "      <td>48.52</td>\n",
       "    </tr>\n",
       "  </tbody>\n",
       "</table>\n",
       "<p>122 rows × 4 columns</p>\n",
       "</div>"
      ],
      "text/plain": [
       "                                        Name                  Sector   Price  \\\n",
       "Symbol                                                                         \n",
       "MMM                               3M Company             Industrials  177.12   \n",
       "ACN                            Accenture plc  Information Technology  115.11   \n",
       "AYI                        Acuity Brands Inc             Industrials  264.62   \n",
       "AAP                       Advance Auto Parts  Consumer Discretionary  164.85   \n",
       "AET                                Aetna Inc             Health Care  117.00   \n",
       "AMG            Affiliated Managers Group Inc              Financials  138.85   \n",
       "APD             Air Products & Chemicals Inc               Materials  144.35   \n",
       "ALXN                 Alexion Pharmaceuticals             Health Care  124.42   \n",
       "AGN                             Allergan plc             Health Care  240.59   \n",
       "ADS                    Alliance Data Systems  Information Technology  200.96   \n",
       "GOOGL                   Alphabet Inc Class A  Information Technology  717.78   \n",
       "GOOG                    Alphabet Inc Class C  Information Technology  705.63   \n",
       "AMZN                          Amazon.com Inc  Consumer Discretionary  745.81   \n",
       "AMT                    American Tower Corp A              Financials  113.66   \n",
       "AMGN                               Amgen Inc             Health Care  161.10   \n",
       "ANTM                             Anthem Inc.             Health Care  132.15   \n",
       "AON                                  Aon plc              Financials  109.57   \n",
       "AZO                             AutoZone Inc  Consumer Discretionary  815.02   \n",
       "AVGO                      Avago Technologies  Information Technology  155.14   \n",
       "AVB              AvalonBay Communities, Inc.              Financials  184.94   \n",
       "BCR                         Bard (C.R.) Inc.             Health Care  239.00   \n",
       "BDX                         Becton Dickinson             Health Care  175.64   \n",
       "BRK-B                     Berkshire Hathaway              Financials  143.65   \n",
       "BIIB                        BIOGEN IDEC Inc.             Health Care  251.30   \n",
       "BLK                                BlackRock              Financials  345.20   \n",
       "BA                            Boeing Company             Industrials  130.09   \n",
       "BXP                        Boston Properties              Financials  133.32   \n",
       "CELG                           Celgene Corp.             Health Care  105.03   \n",
       "CVX                            Chevron Corp.                  Energy  104.77   \n",
       "CMG                   Chipotle Mexican Grill  Consumer Discretionary  399.71   \n",
       "...                                      ...                     ...     ...   \n",
       "RTN                             Raytheon Co.             Industrials  138.49   \n",
       "REGN                               Regeneron             Health Care  378.35   \n",
       "ROK                 Rockwell Automation Inc.             Industrials  115.70   \n",
       "ROP                         Roper Industries             Industrials  170.04   \n",
       "SPGI                        S&P Global, Inc.              Financials  108.87   \n",
       "SRE                            Sempra Energy               Utilities  114.11   \n",
       "SHW                         Sherwin-Williams               Materials  306.52   \n",
       "SPG                 Simon Property Group Inc              Financials  219.56   \n",
       "SLG                          SL Green Realty              Financials  105.98   \n",
       "SJM                           Smucker (J.M.)        Consumer Staples  154.08   \n",
       "SNA                             Snap-On Inc.  Consumer Discretionary  160.16   \n",
       "SWK                   Stanley Black & Decker  Consumer Discretionary  114.97   \n",
       "SRCL                          Stericycle Inc             Industrials  104.70   \n",
       "SYK                            Stryker Corp.             Health Care  122.29   \n",
       "CLX                       The Clorox Company        Consumer Staples  138.37   \n",
       "HSY                      The Hershey Company        Consumer Staples  110.70   \n",
       "TRV             The Travelers Companies Inc.              Financials  118.08   \n",
       "TMO                 Thermo Fisher Scientific             Health Care  152.69   \n",
       "TDG                          TransDigm Group             Industrials  269.81   \n",
       "ULTA    Ulta Salon Cosmetics & Fragrance Inc  Consumer Discretionary  250.82   \n",
       "UNH                 United Health Group Inc.             Health Care  141.27   \n",
       "UPS                    United Parcel Service             Industrials  109.52   \n",
       "UTX                      United Technologies             Industrials  103.66   \n",
       "UHS          Universal Health Services, Inc.             Health Care  137.16   \n",
       "VNO                     Vornado Realty Trust              Financials  100.46   \n",
       "VMC                         Vulcan Materials               Materials  123.61   \n",
       "WAT                       Waters Corporation             Health Care  146.53   \n",
       "WHR                          Whirlpool Corp.  Consumer Discretionary  171.38   \n",
       "WLTW                    Willis Towers Watson              Financials  125.06   \n",
       "ZBH                   Zimmer Biomet Holdings             Health Care  124.89   \n",
       "\n",
       "        Book Value  \n",
       "Symbol              \n",
       "MMM          19.34  \n",
       "ACN          11.45  \n",
       "AYI          36.50  \n",
       "AAP          35.82  \n",
       "AET          47.96  \n",
       "AMG          53.30  \n",
       "APD          32.01  \n",
       "ALXN         35.96  \n",
       "AGN         183.41  \n",
       "ADS          29.51  \n",
       "GOOGL       179.92  \n",
       "GOOG        179.92  \n",
       "AMZN         31.26  \n",
       "AMT          16.33  \n",
       "AMGN         38.18  \n",
       "ANTM         89.59  \n",
       "AON          19.94  \n",
       "AZO         -63.16  \n",
       "AVGO         49.90  \n",
       "AVB          71.79  \n",
       "BCR          19.91  \n",
       "BDX          36.13  \n",
       "BRK-B    157329.00  \n",
       "BIIB         47.14  \n",
       "BLK         171.90  \n",
       "BA            6.32  \n",
       "BXP          36.13  \n",
       "CELG          6.55  \n",
       "CVX          79.75  \n",
       "CMG          52.48  \n",
       "...            ...  \n",
       "RTN          34.10  \n",
       "REGN         36.10  \n",
       "ROK          17.01  \n",
       "ROP          53.77  \n",
       "SPGI          0.84  \n",
       "SRE          47.83  \n",
       "SHW          10.94  \n",
       "SPG          14.69  \n",
       "SLG          70.40  \n",
       "SJM          60.26  \n",
       "SNA          43.29  \n",
       "SWK          37.76  \n",
       "SRCL         33.08  \n",
       "SYK          23.55  \n",
       "CLX           2.00  \n",
       "HSY           3.88  \n",
       "TRV          82.65  \n",
       "TMO          53.17  \n",
       "TDG         -18.16  \n",
       "ULTA         21.07  \n",
       "UNH          36.87  \n",
       "UPS           2.78  \n",
       "UTX          33.88  \n",
       "UHS          44.20  \n",
       "VNO          27.80  \n",
       "VMC          33.15  \n",
       "WAT          25.97  \n",
       "WHR          62.60  \n",
       "WLTW         80.57  \n",
       "ZBH          48.52  \n",
       "\n",
       "[122 rows x 4 columns]"
      ]
     },
     "execution_count": 201,
     "metadata": {},
     "output_type": "execute_result"
    }
   ],
   "source": [
    "sample_df[sample_df.Price > 100] #price가 기준, 다른 열도 같이 옴"
   ]
  },
  {
   "cell_type": "code",
   "execution_count": 200,
   "metadata": {},
   "outputs": [
    {
     "data": {
      "text/html": [
       "<div>\n",
       "<style>\n",
       "    .dataframe thead tr:only-child th {\n",
       "        text-align: right;\n",
       "    }\n",
       "\n",
       "    .dataframe thead th {\n",
       "        text-align: left;\n",
       "    }\n",
       "\n",
       "    .dataframe tbody tr th {\n",
       "        vertical-align: top;\n",
       "    }\n",
       "</style>\n",
       "<table border=\"1\" class=\"dataframe\">\n",
       "  <thead>\n",
       "    <tr style=\"text-align: right;\">\n",
       "      <th></th>\n",
       "      <th>Price</th>\n",
       "    </tr>\n",
       "    <tr>\n",
       "      <th>Symbol</th>\n",
       "      <th></th>\n",
       "    </tr>\n",
       "  </thead>\n",
       "  <tbody>\n",
       "    <tr>\n",
       "      <th>MMM</th>\n",
       "      <td>177.12</td>\n",
       "    </tr>\n",
       "    <tr>\n",
       "      <th>ACN</th>\n",
       "      <td>115.11</td>\n",
       "    </tr>\n",
       "    <tr>\n",
       "      <th>AYI</th>\n",
       "      <td>264.62</td>\n",
       "    </tr>\n",
       "    <tr>\n",
       "      <th>AAP</th>\n",
       "      <td>164.85</td>\n",
       "    </tr>\n",
       "    <tr>\n",
       "      <th>AET</th>\n",
       "      <td>117.00</td>\n",
       "    </tr>\n",
       "    <tr>\n",
       "      <th>AMG</th>\n",
       "      <td>138.85</td>\n",
       "    </tr>\n",
       "    <tr>\n",
       "      <th>APD</th>\n",
       "      <td>144.35</td>\n",
       "    </tr>\n",
       "    <tr>\n",
       "      <th>ALXN</th>\n",
       "      <td>124.42</td>\n",
       "    </tr>\n",
       "    <tr>\n",
       "      <th>AGN</th>\n",
       "      <td>240.59</td>\n",
       "    </tr>\n",
       "    <tr>\n",
       "      <th>ADS</th>\n",
       "      <td>200.96</td>\n",
       "    </tr>\n",
       "    <tr>\n",
       "      <th>GOOGL</th>\n",
       "      <td>717.78</td>\n",
       "    </tr>\n",
       "    <tr>\n",
       "      <th>GOOG</th>\n",
       "      <td>705.63</td>\n",
       "    </tr>\n",
       "    <tr>\n",
       "      <th>AMZN</th>\n",
       "      <td>745.81</td>\n",
       "    </tr>\n",
       "    <tr>\n",
       "      <th>AMT</th>\n",
       "      <td>113.66</td>\n",
       "    </tr>\n",
       "    <tr>\n",
       "      <th>AMGN</th>\n",
       "      <td>161.10</td>\n",
       "    </tr>\n",
       "    <tr>\n",
       "      <th>ANTM</th>\n",
       "      <td>132.15</td>\n",
       "    </tr>\n",
       "    <tr>\n",
       "      <th>AON</th>\n",
       "      <td>109.57</td>\n",
       "    </tr>\n",
       "    <tr>\n",
       "      <th>AZO</th>\n",
       "      <td>815.02</td>\n",
       "    </tr>\n",
       "    <tr>\n",
       "      <th>AVGO</th>\n",
       "      <td>155.14</td>\n",
       "    </tr>\n",
       "    <tr>\n",
       "      <th>AVB</th>\n",
       "      <td>184.94</td>\n",
       "    </tr>\n",
       "    <tr>\n",
       "      <th>BCR</th>\n",
       "      <td>239.00</td>\n",
       "    </tr>\n",
       "    <tr>\n",
       "      <th>BDX</th>\n",
       "      <td>175.64</td>\n",
       "    </tr>\n",
       "    <tr>\n",
       "      <th>BRK-B</th>\n",
       "      <td>143.65</td>\n",
       "    </tr>\n",
       "    <tr>\n",
       "      <th>BIIB</th>\n",
       "      <td>251.30</td>\n",
       "    </tr>\n",
       "    <tr>\n",
       "      <th>BLK</th>\n",
       "      <td>345.20</td>\n",
       "    </tr>\n",
       "    <tr>\n",
       "      <th>BA</th>\n",
       "      <td>130.09</td>\n",
       "    </tr>\n",
       "    <tr>\n",
       "      <th>BXP</th>\n",
       "      <td>133.32</td>\n",
       "    </tr>\n",
       "    <tr>\n",
       "      <th>CELG</th>\n",
       "      <td>105.03</td>\n",
       "    </tr>\n",
       "    <tr>\n",
       "      <th>CVX</th>\n",
       "      <td>104.77</td>\n",
       "    </tr>\n",
       "    <tr>\n",
       "      <th>CMG</th>\n",
       "      <td>399.71</td>\n",
       "    </tr>\n",
       "    <tr>\n",
       "      <th>...</th>\n",
       "      <td>...</td>\n",
       "    </tr>\n",
       "    <tr>\n",
       "      <th>RTN</th>\n",
       "      <td>138.49</td>\n",
       "    </tr>\n",
       "    <tr>\n",
       "      <th>REGN</th>\n",
       "      <td>378.35</td>\n",
       "    </tr>\n",
       "    <tr>\n",
       "      <th>ROK</th>\n",
       "      <td>115.70</td>\n",
       "    </tr>\n",
       "    <tr>\n",
       "      <th>ROP</th>\n",
       "      <td>170.04</td>\n",
       "    </tr>\n",
       "    <tr>\n",
       "      <th>SPGI</th>\n",
       "      <td>108.87</td>\n",
       "    </tr>\n",
       "    <tr>\n",
       "      <th>SRE</th>\n",
       "      <td>114.11</td>\n",
       "    </tr>\n",
       "    <tr>\n",
       "      <th>SHW</th>\n",
       "      <td>306.52</td>\n",
       "    </tr>\n",
       "    <tr>\n",
       "      <th>SPG</th>\n",
       "      <td>219.56</td>\n",
       "    </tr>\n",
       "    <tr>\n",
       "      <th>SLG</th>\n",
       "      <td>105.98</td>\n",
       "    </tr>\n",
       "    <tr>\n",
       "      <th>SJM</th>\n",
       "      <td>154.08</td>\n",
       "    </tr>\n",
       "    <tr>\n",
       "      <th>SNA</th>\n",
       "      <td>160.16</td>\n",
       "    </tr>\n",
       "    <tr>\n",
       "      <th>SWK</th>\n",
       "      <td>114.97</td>\n",
       "    </tr>\n",
       "    <tr>\n",
       "      <th>SRCL</th>\n",
       "      <td>104.70</td>\n",
       "    </tr>\n",
       "    <tr>\n",
       "      <th>SYK</th>\n",
       "      <td>122.29</td>\n",
       "    </tr>\n",
       "    <tr>\n",
       "      <th>CLX</th>\n",
       "      <td>138.37</td>\n",
       "    </tr>\n",
       "    <tr>\n",
       "      <th>HSY</th>\n",
       "      <td>110.70</td>\n",
       "    </tr>\n",
       "    <tr>\n",
       "      <th>TRV</th>\n",
       "      <td>118.08</td>\n",
       "    </tr>\n",
       "    <tr>\n",
       "      <th>TMO</th>\n",
       "      <td>152.69</td>\n",
       "    </tr>\n",
       "    <tr>\n",
       "      <th>TDG</th>\n",
       "      <td>269.81</td>\n",
       "    </tr>\n",
       "    <tr>\n",
       "      <th>ULTA</th>\n",
       "      <td>250.82</td>\n",
       "    </tr>\n",
       "    <tr>\n",
       "      <th>UNH</th>\n",
       "      <td>141.27</td>\n",
       "    </tr>\n",
       "    <tr>\n",
       "      <th>UPS</th>\n",
       "      <td>109.52</td>\n",
       "    </tr>\n",
       "    <tr>\n",
       "      <th>UTX</th>\n",
       "      <td>103.66</td>\n",
       "    </tr>\n",
       "    <tr>\n",
       "      <th>UHS</th>\n",
       "      <td>137.16</td>\n",
       "    </tr>\n",
       "    <tr>\n",
       "      <th>VNO</th>\n",
       "      <td>100.46</td>\n",
       "    </tr>\n",
       "    <tr>\n",
       "      <th>VMC</th>\n",
       "      <td>123.61</td>\n",
       "    </tr>\n",
       "    <tr>\n",
       "      <th>WAT</th>\n",
       "      <td>146.53</td>\n",
       "    </tr>\n",
       "    <tr>\n",
       "      <th>WHR</th>\n",
       "      <td>171.38</td>\n",
       "    </tr>\n",
       "    <tr>\n",
       "      <th>WLTW</th>\n",
       "      <td>125.06</td>\n",
       "    </tr>\n",
       "    <tr>\n",
       "      <th>ZBH</th>\n",
       "      <td>124.89</td>\n",
       "    </tr>\n",
       "  </tbody>\n",
       "</table>\n",
       "<p>122 rows × 1 columns</p>\n",
       "</div>"
      ],
      "text/plain": [
       "         Price\n",
       "Symbol        \n",
       "MMM     177.12\n",
       "ACN     115.11\n",
       "AYI     264.62\n",
       "AAP     164.85\n",
       "AET     117.00\n",
       "AMG     138.85\n",
       "APD     144.35\n",
       "ALXN    124.42\n",
       "AGN     240.59\n",
       "ADS     200.96\n",
       "GOOGL   717.78\n",
       "GOOG    705.63\n",
       "AMZN    745.81\n",
       "AMT     113.66\n",
       "AMGN    161.10\n",
       "ANTM    132.15\n",
       "AON     109.57\n",
       "AZO     815.02\n",
       "AVGO    155.14\n",
       "AVB     184.94\n",
       "BCR     239.00\n",
       "BDX     175.64\n",
       "BRK-B   143.65\n",
       "BIIB    251.30\n",
       "BLK     345.20\n",
       "BA      130.09\n",
       "BXP     133.32\n",
       "CELG    105.03\n",
       "CVX     104.77\n",
       "CMG     399.71\n",
       "...        ...\n",
       "RTN     138.49\n",
       "REGN    378.35\n",
       "ROK     115.70\n",
       "ROP     170.04\n",
       "SPGI    108.87\n",
       "SRE     114.11\n",
       "SHW     306.52\n",
       "SPG     219.56\n",
       "SLG     105.98\n",
       "SJM     154.08\n",
       "SNA     160.16\n",
       "SWK     114.97\n",
       "SRCL    104.70\n",
       "SYK     122.29\n",
       "CLX     138.37\n",
       "HSY     110.70\n",
       "TRV     118.08\n",
       "TMO     152.69\n",
       "TDG     269.81\n",
       "ULTA    250.82\n",
       "UNH     141.27\n",
       "UPS     109.52\n",
       "UTX     103.66\n",
       "UHS     137.16\n",
       "VNO     100.46\n",
       "VMC     123.61\n",
       "WAT     146.53\n",
       "WHR     171.38\n",
       "WLTW    125.06\n",
       "ZBH     124.89\n",
       "\n",
       "[122 rows x 1 columns]"
      ]
     },
     "execution_count": 200,
     "metadata": {},
     "output_type": "execute_result"
    }
   ],
   "source": [
    "sample_df[sample_df.Price > 100][['Price']] # price만 나옴"
   ]
  },
  {
   "cell_type": "markdown",
   "metadata": {},
   "source": [
    "* **새 column 추가하기**"
   ]
  },
  {
   "cell_type": "code",
   "execution_count": 203,
   "metadata": {},
   "outputs": [
    {
     "data": {
      "text/html": [
       "<div>\n",
       "<style>\n",
       "    .dataframe thead tr:only-child th {\n",
       "        text-align: right;\n",
       "    }\n",
       "\n",
       "    .dataframe thead th {\n",
       "        text-align: left;\n",
       "    }\n",
       "\n",
       "    .dataframe tbody tr th {\n",
       "        vertical-align: top;\n",
       "    }\n",
       "</style>\n",
       "<table border=\"1\" class=\"dataframe\">\n",
       "  <thead>\n",
       "    <tr style=\"text-align: right;\">\n",
       "      <th></th>\n",
       "      <th>Name</th>\n",
       "      <th>Sector</th>\n",
       "      <th>Price</th>\n",
       "      <th>Book Value</th>\n",
       "    </tr>\n",
       "    <tr>\n",
       "      <th>Symbol</th>\n",
       "      <th></th>\n",
       "      <th></th>\n",
       "      <th></th>\n",
       "      <th></th>\n",
       "    </tr>\n",
       "  </thead>\n",
       "  <tbody>\n",
       "    <tr>\n",
       "      <th>MMM</th>\n",
       "      <td>3M Company</td>\n",
       "      <td>Industrials</td>\n",
       "      <td>177.12</td>\n",
       "      <td>19.34</td>\n",
       "    </tr>\n",
       "    <tr>\n",
       "      <th>ABT</th>\n",
       "      <td>Abbott Laboratories</td>\n",
       "      <td>Health Care</td>\n",
       "      <td>41.89</td>\n",
       "      <td>14.10</td>\n",
       "    </tr>\n",
       "    <tr>\n",
       "      <th>ABBV</th>\n",
       "      <td>AbbVie</td>\n",
       "      <td>Health Care</td>\n",
       "      <td>64.16</td>\n",
       "      <td>2.87</td>\n",
       "    </tr>\n",
       "    <tr>\n",
       "      <th>ACN</th>\n",
       "      <td>Accenture plc</td>\n",
       "      <td>Information Technology</td>\n",
       "      <td>115.11</td>\n",
       "      <td>11.45</td>\n",
       "    </tr>\n",
       "    <tr>\n",
       "      <th>ATVI</th>\n",
       "      <td>Activision Blizzard</td>\n",
       "      <td>Information Technology</td>\n",
       "      <td>41.29</td>\n",
       "      <td>11.31</td>\n",
       "    </tr>\n",
       "  </tbody>\n",
       "</table>\n",
       "</div>"
      ],
      "text/plain": [
       "                       Name                  Sector   Price  Book Value\n",
       "Symbol                                                                 \n",
       "MMM              3M Company             Industrials  177.12       19.34\n",
       "ABT     Abbott Laboratories             Health Care   41.89       14.10\n",
       "ABBV                 AbbVie             Health Care   64.16        2.87\n",
       "ACN           Accenture plc  Information Technology  115.11       11.45\n",
       "ATVI    Activision Blizzard  Information Technology   41.29       11.31"
      ]
     },
     "execution_count": 203,
     "metadata": {},
     "output_type": "execute_result"
    }
   ],
   "source": [
    "sample_df.head()"
   ]
  },
  {
   "cell_type": "code",
   "execution_count": 205,
   "metadata": {},
   "outputs": [
    {
     "data": {
      "text/html": [
       "<div>\n",
       "<style>\n",
       "    .dataframe thead tr:only-child th {\n",
       "        text-align: right;\n",
       "    }\n",
       "\n",
       "    .dataframe thead th {\n",
       "        text-align: left;\n",
       "    }\n",
       "\n",
       "    .dataframe tbody tr th {\n",
       "        vertical-align: top;\n",
       "    }\n",
       "</style>\n",
       "<table border=\"1\" class=\"dataframe\">\n",
       "  <thead>\n",
       "    <tr style=\"text-align: right;\">\n",
       "      <th></th>\n",
       "      <th>Name</th>\n",
       "      <th>Sector</th>\n",
       "      <th>Price</th>\n",
       "      <th>Book Value</th>\n",
       "      <th>TwicePrice</th>\n",
       "    </tr>\n",
       "    <tr>\n",
       "      <th>Symbol</th>\n",
       "      <th></th>\n",
       "      <th></th>\n",
       "      <th></th>\n",
       "      <th></th>\n",
       "      <th></th>\n",
       "    </tr>\n",
       "  </thead>\n",
       "  <tbody>\n",
       "    <tr>\n",
       "      <th>MMM</th>\n",
       "      <td>3M Company</td>\n",
       "      <td>Industrials</td>\n",
       "      <td>177.12</td>\n",
       "      <td>19.34</td>\n",
       "      <td>354.24</td>\n",
       "    </tr>\n",
       "    <tr>\n",
       "      <th>ABT</th>\n",
       "      <td>Abbott Laboratories</td>\n",
       "      <td>Health Care</td>\n",
       "      <td>41.89</td>\n",
       "      <td>14.10</td>\n",
       "      <td>83.78</td>\n",
       "    </tr>\n",
       "    <tr>\n",
       "      <th>ABBV</th>\n",
       "      <td>AbbVie</td>\n",
       "      <td>Health Care</td>\n",
       "      <td>64.16</td>\n",
       "      <td>2.87</td>\n",
       "      <td>128.32</td>\n",
       "    </tr>\n",
       "    <tr>\n",
       "      <th>ACN</th>\n",
       "      <td>Accenture plc</td>\n",
       "      <td>Information Technology</td>\n",
       "      <td>115.11</td>\n",
       "      <td>11.45</td>\n",
       "      <td>230.22</td>\n",
       "    </tr>\n",
       "    <tr>\n",
       "      <th>ATVI</th>\n",
       "      <td>Activision Blizzard</td>\n",
       "      <td>Information Technology</td>\n",
       "      <td>41.29</td>\n",
       "      <td>11.31</td>\n",
       "      <td>82.58</td>\n",
       "    </tr>\n",
       "  </tbody>\n",
       "</table>\n",
       "</div>"
      ],
      "text/plain": [
       "                       Name                  Sector   Price  Book Value  \\\n",
       "Symbol                                                                    \n",
       "MMM              3M Company             Industrials  177.12       19.34   \n",
       "ABT     Abbott Laboratories             Health Care   41.89       14.10   \n",
       "ABBV                 AbbVie             Health Care   64.16        2.87   \n",
       "ACN           Accenture plc  Information Technology  115.11       11.45   \n",
       "ATVI    Activision Blizzard  Information Technology   41.29       11.31   \n",
       "\n",
       "        TwicePrice  \n",
       "Symbol              \n",
       "MMM         354.24  \n",
       "ABT          83.78  \n",
       "ABBV        128.32  \n",
       "ACN         230.22  \n",
       "ATVI         82.58  "
      ]
     },
     "execution_count": 205,
     "metadata": {},
     "output_type": "execute_result"
    }
   ],
   "source": [
    "# 새로운 dataframe 생성\n",
    "copy = sample_df.copy()\n",
    "\n",
    "# 새로 생성된 프레임에 새로운 컬럼 추가 (기존 컬럼 이용)\n",
    "copy['TwicePrice'] = sample_df.Price * 2\n",
    "copy.head()"
   ]
  },
  {
   "cell_type": "code",
   "execution_count": 206,
   "metadata": {},
   "outputs": [
    {
     "data": {
      "text/html": [
       "<div>\n",
       "<style>\n",
       "    .dataframe thead tr:only-child th {\n",
       "        text-align: right;\n",
       "    }\n",
       "\n",
       "    .dataframe thead th {\n",
       "        text-align: left;\n",
       "    }\n",
       "\n",
       "    .dataframe tbody tr th {\n",
       "        vertical-align: top;\n",
       "    }\n",
       "</style>\n",
       "<table border=\"1\" class=\"dataframe\">\n",
       "  <thead>\n",
       "    <tr style=\"text-align: right;\">\n",
       "      <th></th>\n",
       "      <th>Name</th>\n",
       "      <th>Sector</th>\n",
       "      <th>Price</th>\n",
       "      <th>Book Value</th>\n",
       "      <th>TwicePrice</th>\n",
       "      <th>ratio</th>\n",
       "    </tr>\n",
       "    <tr>\n",
       "      <th>Symbol</th>\n",
       "      <th></th>\n",
       "      <th></th>\n",
       "      <th></th>\n",
       "      <th></th>\n",
       "      <th></th>\n",
       "      <th></th>\n",
       "    </tr>\n",
       "  </thead>\n",
       "  <tbody>\n",
       "    <tr>\n",
       "      <th>MMM</th>\n",
       "      <td>3M Company</td>\n",
       "      <td>Industrials</td>\n",
       "      <td>177.12</td>\n",
       "      <td>19.34</td>\n",
       "      <td>354.24</td>\n",
       "      <td>9.158221</td>\n",
       "    </tr>\n",
       "    <tr>\n",
       "      <th>ABT</th>\n",
       "      <td>Abbott Laboratories</td>\n",
       "      <td>Health Care</td>\n",
       "      <td>41.89</td>\n",
       "      <td>14.10</td>\n",
       "      <td>83.78</td>\n",
       "      <td>2.970922</td>\n",
       "    </tr>\n",
       "    <tr>\n",
       "      <th>ABBV</th>\n",
       "      <td>AbbVie</td>\n",
       "      <td>Health Care</td>\n",
       "      <td>64.16</td>\n",
       "      <td>2.87</td>\n",
       "      <td>128.32</td>\n",
       "      <td>22.355401</td>\n",
       "    </tr>\n",
       "    <tr>\n",
       "      <th>ACN</th>\n",
       "      <td>Accenture plc</td>\n",
       "      <td>Information Technology</td>\n",
       "      <td>115.11</td>\n",
       "      <td>11.45</td>\n",
       "      <td>230.22</td>\n",
       "      <td>10.053275</td>\n",
       "    </tr>\n",
       "    <tr>\n",
       "      <th>ATVI</th>\n",
       "      <td>Activision Blizzard</td>\n",
       "      <td>Information Technology</td>\n",
       "      <td>41.29</td>\n",
       "      <td>11.31</td>\n",
       "      <td>82.58</td>\n",
       "      <td>3.650752</td>\n",
       "    </tr>\n",
       "  </tbody>\n",
       "</table>\n",
       "</div>"
      ],
      "text/plain": [
       "                       Name                  Sector   Price  Book Value  \\\n",
       "Symbol                                                                    \n",
       "MMM              3M Company             Industrials  177.12       19.34   \n",
       "ABT     Abbott Laboratories             Health Care   41.89       14.10   \n",
       "ABBV                 AbbVie             Health Care   64.16        2.87   \n",
       "ACN           Accenture plc  Information Technology  115.11       11.45   \n",
       "ATVI    Activision Blizzard  Information Technology   41.29       11.31   \n",
       "\n",
       "        TwicePrice      ratio  \n",
       "Symbol                         \n",
       "MMM         354.24   9.158221  \n",
       "ABT          83.78   2.970922  \n",
       "ABBV        128.32  22.355401  \n",
       "ACN         230.22  10.053275  \n",
       "ATVI         82.58   3.650752  "
      ]
     },
     "execution_count": 206,
     "metadata": {},
     "output_type": "execute_result"
    }
   ],
   "source": [
    "\n",
    "# 새로 생성된 프레임에 새로운 컬럼 추가 (기존 컬럼 이용)\n",
    "copy['ratio'] = copy['Price'] / copy['Book Value']\n",
    "copy.head()"
   ]
  },
  {
   "cell_type": "code",
   "execution_count": 207,
   "metadata": {},
   "outputs": [
    {
     "name": "stdout",
     "output_type": "stream",
     "text": [
      "                       Name  TriplePrice       Sector   Price  Book Value  \\\n",
      "Symbol                                                                      \n",
      "MMM              3M Company       531.36  Industrials  177.12       19.34   \n",
      "ABT     Abbott Laboratories       125.67  Health Care   41.89       14.10   \n",
      "\n",
      "        TwicePrice  \n",
      "Symbol              \n",
      "MMM         354.24  \n",
      "ABT          83.78  \n"
     ]
    }
   ],
   "source": [
    "# 새로운 dataframe 생성\n",
    "copy = sample_df.copy()\n",
    "\n",
    "# 새로 생성된 프레임에 새로운 컬럼 추가 (기존 컬럼 이용)\n",
    "copy['TwicePrice'] = sample_df.Price * 2\n",
    "\n",
    "\n",
    "\n",
    "\n",
    "copy.head()# insert 함수를 이용하여 원하는 컬럼 위치에 삽입 가능\n",
    "copy.insert(1, 'TriplePrice', sample_df.Price * 3) # 첫번째 열에 입력!!!! 순서 정할수 있다.\n",
    "print copy[:2]"
   ]
  },
  {
   "cell_type": "markdown",
   "metadata": {
    "collapsed": true
   },
   "source": [
    " * **column 삭제하기**"
   ]
  },
  {
   "cell_type": "code",
   "execution_count": 208,
   "metadata": {},
   "outputs": [
    {
     "name": "stdout",
     "output_type": "stream",
     "text": [
      "                       Name  TriplePrice       Sector   Price  Book Value  \\\n",
      "Symbol                                                                      \n",
      "MMM              3M Company       531.36  Industrials  177.12       19.34   \n",
      "ABT     Abbott Laboratories       125.67  Health Care   41.89       14.10   \n",
      "\n",
      "        TwicePrice  \n",
      "Symbol              \n",
      "MMM         354.24  \n",
      "ABT          83.78  \n",
      "                       Name       Sector   Price  Book Value  TwicePrice\n",
      "Symbol                                                                  \n",
      "MMM              3M Company  Industrials  177.12       19.34      354.24\n",
      "ABT     Abbott Laboratories  Health Care   41.89       14.10       83.78\n"
     ]
    }
   ],
   "source": [
    "print copy[:2]\n",
    "\n",
    "# del 키워드로 삭제\n",
    "del copy['TriplePrice']\n",
    "print copy[:2]"
   ]
  },
  {
   "cell_type": "markdown",
   "metadata": {},
   "source": [
    " * **row 추가/삭제하기**"
   ]
  },
  {
   "cell_type": "code",
   "execution_count": 209,
   "metadata": {},
   "outputs": [
    {
     "name": "stdout",
     "output_type": "stream",
     "text": [
      "                       Name       Sector   Price  Book Value  TwicePrice\n",
      "Symbol                                                                  \n",
      "MMM              3M Company  Industrials  177.12       19.34      354.24\n",
      "ABT     Abbott Laboratories  Health Care   41.89       14.10       83.78\n",
      "ABBV                 AbbVie  Health Care   64.16        2.87      128.32\n",
      "                       Name       Sector   Price  Book Value  TwicePrice\n",
      "Symbol                                                                  \n",
      "ZION          Zions Bancorp   Financials   24.74       33.23       49.48\n",
      "ZTS                  Zoetis  Health Care   48.50        2.35       97.00\n",
      "MMM              3M Company  Industrials  177.12       19.34      354.24\n",
      "ABT     Abbott Laboratories  Health Care   41.89       14.10       83.78\n",
      "ABBV                 AbbVie  Health Care   64.16        2.87      128.32\n"
     ]
    }
   ],
   "source": [
    "df1 = copy.iloc[0:3].copy()\n",
    "print df1\n",
    "\n",
    "# append 함수 사용\n",
    "copy = copy.append(df1)\n",
    "print copy.tail()"
   ]
  },
  {
   "cell_type": "code",
   "execution_count": 210,
   "metadata": {},
   "outputs": [
    {
     "data": {
      "text/html": [
       "<div>\n",
       "<style>\n",
       "    .dataframe thead tr:only-child th {\n",
       "        text-align: right;\n",
       "    }\n",
       "\n",
       "    .dataframe thead th {\n",
       "        text-align: left;\n",
       "    }\n",
       "\n",
       "    .dataframe tbody tr th {\n",
       "        vertical-align: top;\n",
       "    }\n",
       "</style>\n",
       "<table border=\"1\" class=\"dataframe\">\n",
       "  <thead>\n",
       "    <tr style=\"text-align: right;\">\n",
       "      <th></th>\n",
       "      <th>Name</th>\n",
       "      <th>Sector</th>\n",
       "      <th>Price</th>\n",
       "      <th>Book Value</th>\n",
       "      <th>TwicePrice</th>\n",
       "    </tr>\n",
       "    <tr>\n",
       "      <th>Symbol</th>\n",
       "      <th></th>\n",
       "      <th></th>\n",
       "      <th></th>\n",
       "      <th></th>\n",
       "      <th></th>\n",
       "    </tr>\n",
       "  </thead>\n",
       "  <tbody>\n",
       "    <tr>\n",
       "      <th>ZBH</th>\n",
       "      <td>Zimmer Biomet Holdings</td>\n",
       "      <td>Health Care</td>\n",
       "      <td>124.89</td>\n",
       "      <td>48.52</td>\n",
       "      <td>249.78</td>\n",
       "    </tr>\n",
       "    <tr>\n",
       "      <th>ZION</th>\n",
       "      <td>Zions Bancorp</td>\n",
       "      <td>Financials</td>\n",
       "      <td>24.74</td>\n",
       "      <td>33.23</td>\n",
       "      <td>49.48</td>\n",
       "    </tr>\n",
       "    <tr>\n",
       "      <th>ZTS</th>\n",
       "      <td>Zoetis</td>\n",
       "      <td>Health Care</td>\n",
       "      <td>48.50</td>\n",
       "      <td>2.35</td>\n",
       "      <td>97.00</td>\n",
       "    </tr>\n",
       "    <tr>\n",
       "      <th>MMM</th>\n",
       "      <td>3M Company</td>\n",
       "      <td>Industrials</td>\n",
       "      <td>177.12</td>\n",
       "      <td>19.34</td>\n",
       "      <td>354.24</td>\n",
       "    </tr>\n",
       "    <tr>\n",
       "      <th>ABT</th>\n",
       "      <td>Abbott Laboratories</td>\n",
       "      <td>Health Care</td>\n",
       "      <td>41.89</td>\n",
       "      <td>14.10</td>\n",
       "      <td>83.78</td>\n",
       "    </tr>\n",
       "  </tbody>\n",
       "</table>\n",
       "</div>"
      ],
      "text/plain": [
       "                          Name       Sector   Price  Book Value  TwicePrice\n",
       "Symbol                                                                     \n",
       "ZBH     Zimmer Biomet Holdings  Health Care  124.89       48.52      249.78\n",
       "ZION             Zions Bancorp   Financials   24.74       33.23       49.48\n",
       "ZTS                     Zoetis  Health Care   48.50        2.35       97.00\n",
       "MMM                 3M Company  Industrials  177.12       19.34      354.24\n",
       "ABT        Abbott Laboratories  Health Care   41.89       14.10       83.78"
      ]
     },
     "execution_count": 210,
     "metadata": {},
     "output_type": "execute_result"
    }
   ],
   "source": [
    "# drop 함수를 사용하여 해당 row 제거\n",
    "copy = copy.drop(['ABBV'])\n",
    "copy.tail()"
   ]
  },
  {
   "cell_type": "code",
   "execution_count": null,
   "metadata": {
    "collapsed": true
   },
   "outputs": [],
   "source": []
  }
 ],
 "metadata": {
  "kernelspec": {
   "display_name": "Python 2",
   "language": "python",
   "name": "python2"
  },
  "language_info": {
   "codemirror_mode": {
    "name": "ipython",
    "version": 3
   },
   "file_extension": ".py",
   "mimetype": "text/x-python",
   "name": "python",
   "nbconvert_exporter": "python",
   "pygments_lexer": "ipython3",
   "version": "3.6.2"
  }
 },
 "nbformat": 4,
 "nbformat_minor": 1
}
